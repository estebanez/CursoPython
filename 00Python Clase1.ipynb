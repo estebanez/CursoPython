{
 "cells": [
  {
   "cell_type": "markdown",
   "metadata": {
    "nbpresent": {
     "id": "676689e4-c2cb-4020-9d3e-711840076c7c"
    }
   },
   "source": [
    "## Instalación\n",
    "\n",
    "https://www.anaconda.com/download/\n"
   ]
  },
  {
   "cell_type": "markdown",
   "metadata": {},
   "source": [
    "\n",
    "<br>\n",
    "<div class=\"row\">\n",
    "<div class=\"span7 alert alert-success\">\n",
    "    <font size=\"4\">\n",
    "Jupyter Notebook\n",
    "    </font>\n",
    "</div>\n",
    "</div>\n",
    "\n",
    "<br>\n",
    "Así se denomina ahora al IPython Notebook. Utiliza el lenguaje Markdown que es una escisión del HTML.\n"
   ]
  },
  {
   "cell_type": "markdown",
   "metadata": {},
   "source": [
    "\n",
    "https://jupyter-notebook.readthedocs.io/en/stable/examples/Notebook/What%20is%20the%20Jupyter%20Notebook.html"
   ]
  },
  {
   "cell_type": "markdown",
   "metadata": {
    "nbpresent": {
     "id": "bcb08268-289f-4698-bdbf-b4de2c4cf8ae"
    }
   },
   "source": [
    "\n",
    "# Introducción a PYTHON Clase 1\n",
    "***\n",
    "***\n",
    "<br>\n",
    "<div class=\"row\">\n",
    "<div class=\"span7 alert alert-info\">\n",
    "    <font size=\"5\">\n",
    "Conceptos básicos\n",
    "    </font>\n",
    "</div>\n",
    "</div>\n",
    "\n",
    "<br>\n",
    "<ul>\n",
    "    <li>Es un lenguaje interpretado</li>\n",
    "    <li>Dispone de una consola interactiva. Se pueden escribir los comandos.</li>\n",
    "    <li>Se puede ejecutar desde ficheros con los comandos llamados desde el interprete de comandos</li>\n",
    "    <li>Se pueden crear módulos reutilizables que se pueden importar en otros módulos o programas</li>\n",
    "</ul>\n",
    "\n"
   ]
  },
  {
   "cell_type": "markdown",
   "metadata": {},
   "source": [
    "### Comentarios\n",
    "\n",
    "Con # se inicia un comentario que finaliza con el final de la linea"
   ]
  },
  {
   "cell_type": "markdown",
   "metadata": {
    "nbpresent": {
     "id": "827c1b19-ea9c-46e3-9c3f-bc97fad82a4e"
    }
   },
   "source": [
    "<br>\n",
    "<div class=\"row\">\n",
    "<div class=\"span7 alert alert-info\">\n",
    "    <font size=\"4\">\n",
    "Comentarios\n",
    "    </font>\n",
    "</div>\n",
    "</div>\n",
    "\n",
    "<br>\n",
    "\n"
   ]
  },
  {
   "cell_type": "code",
   "execution_count": null,
   "metadata": {},
   "outputs": [],
   "source": [
    "#Esto es un comentario\n",
    "print (0) #comentario"
   ]
  },
  {
   "cell_type": "markdown",
   "metadata": {
    "nbpresent": {
     "id": "827c1b19-ea9c-46e3-9c3f-bc97fad82a4e"
    }
   },
   "source": [
    "<br>\n",
    "<div class=\"row\">\n",
    "<div class=\"span7 alert alert-info\">\n",
    "    <font size=\"4\">\n",
    "Tipos de datos\n",
    "    </font>\n",
    "</div>\n",
    "</div>\n",
    "\n",
    "<br>\n",
    "\n"
   ]
  },
  {
   "cell_type": "markdown",
   "metadata": {},
   "source": [
    "\n",
    "<br/>\n",
    "Python es un lenguaje con tipado dinámico, es decir, una variable puede guardar datos de cualquier tipo."
   ]
  },
  {
   "cell_type": "markdown",
   "metadata": {},
   "source": [
    "Boleanos"
   ]
  },
  {
   "cell_type": "code",
   "execution_count": null,
   "metadata": {},
   "outputs": [],
   "source": [
    "a=True\n",
    "b=False"
   ]
  },
  {
   "cell_type": "markdown",
   "metadata": {},
   "source": [
    "Enteros. Números arbitrariamente grandes (no limitados a 2 o 4 bytes"
   ]
  },
  {
   "cell_type": "code",
   "execution_count": null,
   "metadata": {},
   "outputs": [],
   "source": [
    "a=1234"
   ]
  },
  {
   "cell_type": "markdown",
   "metadata": {},
   "source": [
    "Flotantes. Equivalente a double de otros lenjuajes como Java. Norma IEEE-754"
   ]
  },
  {
   "cell_type": "code",
   "execution_count": null,
   "metadata": {},
   "outputs": [],
   "source": [
    "a=12.34\n",
    "a=1234e-2"
   ]
  },
  {
   "cell_type": "markdown",
   "metadata": {},
   "source": [
    "Cadenas de texto. Secuencias de caracteres inmutables"
   ]
  },
  {
   "cell_type": "code",
   "execution_count": null,
   "metadata": {},
   "outputs": [],
   "source": [
    "a='hola'\n",
    "a=\"hola\""
   ]
  },
  {
   "cell_type": "markdown",
   "metadata": {},
   "source": [
    "Complejos. Donde j es la raiz de -1"
   ]
  },
  {
   "cell_type": "code",
   "execution_count": null,
   "metadata": {},
   "outputs": [],
   "source": [
    "a=-2+3j"
   ]
  },
  {
   "cell_type": "markdown",
   "metadata": {},
   "source": [
    "Nulos"
   ]
  },
  {
   "cell_type": "code",
   "execution_count": null,
   "metadata": {},
   "outputs": [],
   "source": [
    "a=None"
   ]
  },
  {
   "cell_type": "markdown",
   "metadata": {
    "nbpresent": {
     "id": "ca38eaf4-8063-48f2-8d8d-411ed80a9980"
    }
   },
   "source": [
    "Otros tipos de variables son:\n",
    "* class\n",
    "* module\n",
    "* function\n",
    "* file\n",
    "* bool\n",
    "* NoneType\n",
    "* long"
   ]
  },
  {
   "cell_type": "markdown",
   "metadata": {
    "nbpresent": {
     "id": "827c1b19-ea9c-46e3-9c3f-bc97fad82a4e"
    }
   },
   "source": [
    "---\n",
    "<br>\n",
    "<div class=\"row\">\n",
    "<div class=\"span7 alert alert-info\">\n",
    "    <font size=\"5\">\n",
    "Variables\n",
    "    </font>\n",
    "</div>\n",
    "</div>\n",
    "\n",
    "<br>\n",
    "\n"
   ]
  },
  {
   "cell_type": "markdown",
   "metadata": {
    "nbpresent": {
     "id": "7e90cf83-2e53-4c7f-ac7c-d7eb3817fd1a"
    }
   },
   "source": [
    "### Nombres de variables\n",
    "* Una sola palabra\n",
    "* Solo letras, números y guión bajo _\n",
    "* No puede empezar por un número"
   ]
  },
  {
   "cell_type": "markdown",
   "metadata": {},
   "source": [
    "Las variables mantienen una referencia a una dirección de memoria"
   ]
  },
  {
   "cell_type": "code",
   "execution_count": null,
   "metadata": {
    "nbpresent": {
     "id": "9f837727-e191-46b5-a31a-8f8762689aac"
    }
   },
   "outputs": [],
   "source": [
    "a=2"
   ]
  },
  {
   "cell_type": "code",
   "execution_count": null,
   "metadata": {
    "nbpresent": {
     "id": "229f3a62-9680-4273-a1a8-dae59afc0440"
    }
   },
   "outputs": [],
   "source": [
    "a"
   ]
  },
  {
   "cell_type": "code",
   "execution_count": null,
   "metadata": {
    "nbpresent": {
     "id": "20be077c-3137-47c0-9e8d-fb87cde00364"
    }
   },
   "outputs": [],
   "source": [
    "Nombre=input('dime nombre-->')"
   ]
  },
  {
   "cell_type": "code",
   "execution_count": null,
   "metadata": {
    "nbpresent": {
     "id": "d81eabac-f590-4066-bfba-220b6d133b2a"
    }
   },
   "outputs": [],
   "source": [
    "Nombre"
   ]
  },
  {
   "cell_type": "code",
   "execution_count": null,
   "metadata": {},
   "outputs": [],
   "source": [
    "type(Nombre)"
   ]
  },
  {
   "cell_type": "code",
   "execution_count": null,
   "metadata": {},
   "outputs": [],
   "source": [
    "Nombre=int(input('dime nombre-->'))"
   ]
  },
  {
   "cell_type": "code",
   "execution_count": null,
   "metadata": {},
   "outputs": [],
   "source": [
    "print (Nombre,type(Nombre))"
   ]
  },
  {
   "cell_type": "markdown",
   "metadata": {
    "nbpresent": {
     "id": "ad71b9ec-58a2-46f8-aade-b865af572771"
    }
   },
   "source": [
    "---\n",
    "<br>\n",
    "<div class=\"row\">\n",
    "<div class=\"span7 alert alert-success\">\n",
    "    <font size=\"4\">\n",
    "Palabras reservadas\n",
    "    </font>\n",
    "</div>\n",
    "</div>\n",
    "\n",
    "<br>\n",
    "\n"
   ]
  },
  {
   "cell_type": "code",
   "execution_count": 1,
   "metadata": {},
   "outputs": [
    {
     "name": "stdout",
     "output_type": "stream",
     "text": [
      "\n",
      "Here is a list of the Python keywords.  Enter any keyword to get more help.\n",
      "\n",
      "False               class               from                or\n",
      "None                continue            global              pass\n",
      "True                def                 if                  raise\n",
      "and                 del                 import              return\n",
      "as                  elif                in                  try\n",
      "assert              else                is                  while\n",
      "async               except              lambda              with\n",
      "await               finally             nonlocal            yield\n",
      "break               for                 not                 \n",
      "\n"
     ]
    }
   ],
   "source": [
    "help(\"keywords\")"
   ]
  },
  {
   "cell_type": "markdown",
   "metadata": {
    "nbpresent": {
     "id": "e79ec8d4-23d2-4b5a-8599-321939a26f87"
    }
   },
   "source": [
    "---\n",
    "<br>\n",
    "<div class=\"row\">\n",
    "<div class=\"span7 alert alert-success\">\n",
    "    <font size=\"4\">\n",
    "Identificadores especiales\n",
    "    </font>\n",
    "</div>\n",
    "</div>\n",
    "\n",
    "<br>\n",
    "\n"
   ]
  },
  {
   "cell_type": "markdown",
   "metadata": {
    "nbpresent": {
     "id": "97765fdd-acb4-4caa-82c8-f22620c09adc"
    }
   },
   "source": [
    "Hay unos identificadores que empiezan por doble guión bajo. \n",
    "```\n",
    "__xxxx__\n",
    "```\n",
    "\n",
    "De estos la variable más importante y que nos podemos encontrar más a menudo es: \n",
    "\n",
    "```__name__```\n",
    "\n",
    "\n",
    "Con en contenido de esta variable podemos saber cómo se ha llamado un módulo y contiene:\n",
    "\n",
    "* El nombre del módulo si ha sido importado\n",
    "* La cadena ```'__main__'``` si se ejecuta directamente\n",
    "\n",
    "\n",
    "\n"
   ]
  },
  {
   "cell_type": "markdown",
   "metadata": {
    "nbpresent": {
     "id": "ac36c00a-600a-4ec4-807b-ebbf294f2bb5"
    }
   },
   "source": [
    "## Expresión, valores, operadores"
   ]
  },
  {
   "cell_type": "markdown",
   "metadata": {},
   "source": [
    "<li>Aritméticos</li>\n",
    "+,-, ... (ver tabla)"
   ]
  },
  {
   "cell_type": "markdown",
   "metadata": {
    "nbpresent": {
     "id": "2113ce5e-abba-4cb6-850d-dbb99d4d96cf"
    }
   },
   "source": [
    "\n",
    "|Operador|Operación|Ejemplo|Resultado|\n",
    "|--- | :--- | --- | :--- | \n",
    "|** |exponente|2** 3|8|\n",
    "|%|resto|22 % 8|6|\n",
    "|// |división entera|22 // 8 |2|\n",
    "|/|división|22 / 8|2.75|\n",
    "|* |multiplicación|3 * 5 |15|\n"
   ]
  },
  {
   "cell_type": "code",
   "execution_count": null,
   "metadata": {
    "nbpresent": {
     "id": "7860b45b-5902-428c-8a75-172356dcf8ba"
    }
   },
   "outputs": [],
   "source": [
    "22/8.0"
   ]
  },
  {
   "cell_type": "code",
   "execution_count": null,
   "metadata": {},
   "outputs": [],
   "source": [
    "16%8"
   ]
  },
  {
   "cell_type": "markdown",
   "metadata": {},
   "source": [
    "<li>Lógicos</li>\n",
    "and,\n",
    "or,\n",
    "not"
   ]
  },
  {
   "cell_type": "code",
   "execution_count": null,
   "metadata": {
    "nbpresent": {
     "id": "445c555c-17c9-4616-9601-8206b95c6f3d"
    }
   },
   "outputs": [],
   "source": [
    "print (True and True, True and False, False and True, False and False)"
   ]
  },
  {
   "cell_type": "code",
   "execution_count": null,
   "metadata": {
    "nbpresent": {
     "id": "f37d2eb0-4353-4a1e-9b52-c2217860240b"
    }
   },
   "outputs": [],
   "source": [
    "False or True\n"
   ]
  },
  {
   "cell_type": "code",
   "execution_count": null,
   "metadata": {
    "nbpresent": {
     "id": "d48e25b2-d5de-463b-9298-6c64b23526cf"
    }
   },
   "outputs": [],
   "source": [
    "not True\n"
   ]
  },
  {
   "cell_type": "code",
   "execution_count": null,
   "metadata": {
    "nbpresent": {
     "id": "2d0c2fdf-efcc-4f0d-b73a-153c36977f0b"
    }
   },
   "outputs": [],
   "source": [
    "not not not not True"
   ]
  },
  {
   "cell_type": "code",
   "execution_count": null,
   "metadata": {
    "nbpresent": {
     "id": "be97a893-c20a-4ba9-8e69-7949fcb5e8dc"
    }
   },
   "outputs": [],
   "source": [
    "(4 < 5) and (5 < 6)"
   ]
  },
  {
   "cell_type": "markdown",
   "metadata": {},
   "source": [
    "<li>Comparación</li>\n",
    "==, !=, <, <=, >, >="
   ]
  },
  {
   "cell_type": "markdown",
   "metadata": {
    "nbpresent": {
     "id": "9dcb2ddd-27f7-461b-9e78-14c6f910eaba"
    }
   },
   "source": [
    "\n",
    "Operador|Significado\n",
    "--- | --- \n",
    "== |exáctamente igual a\n",
    "!=|no es igual a\n",
    "<, >|menor, mayor \n",
    "<=, >= |menor o igual, mayor o igual\n"
   ]
  },
  {
   "cell_type": "code",
   "execution_count": null,
   "metadata": {
    "nbpresent": {
     "id": "7cfeb25e-9ef7-4848-a95c-96a01e768e21"
    }
   },
   "outputs": [],
   "source": [
    "5==5\n"
   ]
  },
  {
   "cell_type": "code",
   "execution_count": null,
   "metadata": {
    "nbpresent": {
     "id": "40e175b5-b861-4626-b027-6b5515dd5617"
    }
   },
   "outputs": [],
   "source": [
    "7!=3"
   ]
  },
  {
   "cell_type": "code",
   "execution_count": null,
   "metadata": {
    "nbpresent": {
     "id": "5c0596e0-e176-4932-adba-9543a2aa8526"
    }
   },
   "outputs": [],
   "source": [
    "Nombre == 'Montse'"
   ]
  },
  {
   "cell_type": "code",
   "execution_count": null,
   "metadata": {},
   "outputs": [],
   "source": [
    "\n",
    "\n",
    "x=1\n",
    "x>=2"
   ]
  },
  {
   "cell_type": "markdown",
   "metadata": {},
   "source": [
    "<li>Asignación</li>\n",
    "=, +=, -=, *=, /=, %=, **="
   ]
  },
  {
   "cell_type": "markdown",
   "metadata": {
    "nbpresent": {
     "id": "9dcb2ddd-27f7-461b-9e78-14c6f910eaba"
    }
   },
   "source": [
    "\n",
    "Operador|Significado\n",
    "--- | --- \n",
    "= |Asignación de valor\n",
    "+=|Suma el valor a la variable y lo almacena\n",
    "-=|Resta el valor a la variable y lo almacena\n",
    "*=|Mutiplica el valor a la variable y lo almacena\n",
    "/=|Divide el valor a la variable y lo almacena\n",
    "\\**=|Potencia el valor a la variable y lo almacena\n"
   ]
  },
  {
   "cell_type": "code",
   "execution_count": null,
   "metadata": {},
   "outputs": [],
   "source": [
    "a=0\n",
    "a+=1\n",
    "print(a)\n",
    "a+=1\n",
    "print(a)"
   ]
  },
  {
   "cell_type": "markdown",
   "metadata": {},
   "source": [
    "<li>De bit</li>\n",
    "&, |, !, >>, <<"
   ]
  },
  {
   "cell_type": "markdown",
   "metadata": {
    "nbpresent": {
     "id": "9dcb2ddd-27f7-461b-9e78-14c6f910eaba"
    }
   },
   "source": [
    "\n",
    "Operador|Significado\n",
    "--- | --- \n",
    "& |AND\n",
    "\\|| OR\n",
    "\\>\\>|Desplazamiento de bit a la derecha\n",
    "\\<\\<|Desplazamiento de bit a la derecha"
   ]
  },
  {
   "cell_type": "code",
   "execution_count": null,
   "metadata": {},
   "outputs": [],
   "source": [
    "0&1"
   ]
  },
  {
   "cell_type": "code",
   "execution_count": null,
   "metadata": {},
   "outputs": [],
   "source": [
    "0|1"
   ]
  },
  {
   "cell_type": "code",
   "execution_count": null,
   "metadata": {},
   "outputs": [],
   "source": [
    "bin(0b1111 << 1)"
   ]
  },
  {
   "cell_type": "code",
   "execution_count": null,
   "metadata": {},
   "outputs": [],
   "source": [
    "bin(0b1111 << 2)"
   ]
  },
  {
   "cell_type": "markdown",
   "metadata": {},
   "source": [
    "<li>Condicional</li>\n",
    "valor <b>if</b> condicion <b>else</b> otro valor"
   ]
  },
  {
   "cell_type": "code",
   "execution_count": null,
   "metadata": {},
   "outputs": [],
   "source": [
    "x=0 if True else 0\n",
    "x"
   ]
  },
  {
   "cell_type": "markdown",
   "metadata": {},
   "source": [
    "## Funciones ya disponibles"
   ]
  },
  {
   "cell_type": "markdown",
   "metadata": {},
   "source": [
    "Muchas disponibles por defecto: <br/>\n",
    "<li>Conversiones de tipo básicas:</li>"
   ]
  },
  {
   "cell_type": "code",
   "execution_count": null,
   "metadata": {},
   "outputs": [],
   "source": [
    "int(2.3)"
   ]
  },
  {
   "cell_type": "code",
   "execution_count": null,
   "metadata": {},
   "outputs": [],
   "source": [
    "float(3)"
   ]
  },
  {
   "cell_type": "code",
   "execution_count": null,
   "metadata": {},
   "outputs": [],
   "source": [
    "str(1)"
   ]
  },
  {
   "cell_type": "code",
   "execution_count": null,
   "metadata": {},
   "outputs": [],
   "source": [
    "type(\"str\")"
   ]
  },
  {
   "cell_type": "markdown",
   "metadata": {},
   "source": [
    "<li>Valor absoluto:</li>"
   ]
  },
  {
   "cell_type": "code",
   "execution_count": null,
   "metadata": {},
   "outputs": [],
   "source": [
    "abs(-1)"
   ]
  },
  {
   "cell_type": "markdown",
   "metadata": {},
   "source": [
    "<li>Longitud:</li>"
   ]
  },
  {
   "cell_type": "code",
   "execution_count": null,
   "metadata": {},
   "outputs": [],
   "source": [
    "len(\"hola\")"
   ]
  },
  {
   "cell_type": "markdown",
   "metadata": {},
   "source": [
    "Algunas funciones se tienen que importar para poder ser usadas"
   ]
  },
  {
   "cell_type": "code",
   "execution_count": null,
   "metadata": {},
   "outputs": [],
   "source": [
    "sqrt(9)"
   ]
  },
  {
   "cell_type": "code",
   "execution_count": null,
   "metadata": {},
   "outputs": [],
   "source": [
    "from math import sin, cos, tan, sqrt, ceil"
   ]
  },
  {
   "cell_type": "markdown",
   "metadata": {
    "nbpresent": {
     "id": "827c1b19-ea9c-46e3-9c3f-bc97fad82a4e"
    }
   },
   "source": [
    "---\n",
    "<br>\n",
    "<div class=\"row\">\n",
    "<div class=\"span7 alert alert-info\">\n",
    "    <font size=\"5\">\n",
    "Salida por pantalla\n",
    "    </font>\n",
    "</div>\n",
    "</div>\n",
    "\n",
    "<br>\n",
    "\n"
   ]
  },
  {
   "cell_type": "markdown",
   "metadata": {
    "nbpresent": {
     "id": "827c1b19-ea9c-46e3-9c3f-bc97fad82a4e"
    }
   },
   "source": [
    "---\n",
    "<br>\n",
    "<div class=\"row\">\n",
    "<div class=\"span7 alert alert-success\">\n",
    "    <font size=\"4\">\n",
    "Formateo de Strings\n",
    "    </font>\n",
    "</div>\n",
    "</div>\n",
    "\n",
    "<br>\n",
    "\n"
   ]
  },
  {
   "cell_type": "markdown",
   "metadata": {},
   "source": [
    "#### print()"
   ]
  },
  {
   "cell_type": "markdown",
   "metadata": {
    "nbpresent": {
     "id": "ba7b74b4-f099-4361-8b0f-de569f9d5308"
    }
   },
   "source": [
    "El carácter '%' es un comodín útil para formatear los textos por ejempolo para imprimir resultados.\n",
    "\n",
    "caráter|Significado\n",
    "--- | --- \n",
    "%c |cadena de longitud 1\n",
    "%s| string\n",
    "%d| decimal\n",
    "%f| flotante\n",
    "%%| porcentaje\n"
   ]
  },
  {
   "cell_type": "code",
   "execution_count": null,
   "metadata": {
    "nbpresent": {
     "id": "f4b52d87-05e6-4cb6-babd-266d8226b356"
    }
   },
   "outputs": [],
   "source": [
    "reuniones=2\n",
    "nombre='Jose María'\n",
    "km=258.93546\n",
    "print ('%s tiene %d reuniones pendientes' %(nombre, reuniones))\n",
    "print ('La reunión está a %f kilómetros' %(km))"
   ]
  },
  {
   "cell_type": "code",
   "execution_count": null,
   "metadata": {
    "nbpresent": {
     "id": "2bfb9e0d-4186-483e-b730-c7b976bd5bad"
    }
   },
   "outputs": [],
   "source": [
    "print ('prueba de %d' %(km))"
   ]
  },
  {
   "cell_type": "code",
   "execution_count": null,
   "metadata": {
    "nbpresent": {
     "id": "6ac6139e-9f54-481d-9695-7c9c0ea77dee"
    }
   },
   "outputs": [],
   "source": [
    "print (nombre+ ' tiene '+ str(reuniones) + ' pendientes')"
   ]
  },
  {
   "cell_type": "code",
   "execution_count": null,
   "metadata": {
    "nbpresent": {
     "id": "f86aa19b-d4ff-4e69-b7ed-39d21ce18ca1"
    }
   },
   "outputs": [],
   "source": [
    "print ('La reunión está a %.2f kilómetros' %(km))"
   ]
  },
  {
   "cell_type": "code",
   "execution_count": null,
   "metadata": {
    "nbpresent": {
     "id": "394fafa6-852a-4ab9-9e94-7165757dc968"
    }
   },
   "outputs": [],
   "source": [
    "print ('La reunión está a %s kilómetros' %(km))"
   ]
  },
  {
   "cell_type": "code",
   "execution_count": null,
   "metadata": {
    "nbpresent": {
     "id": "888f13a7-20a6-416a-acda-979f5dde9537"
    }
   },
   "outputs": [],
   "source": [
    "print ('La reunión está a %d kilómetros' %(km))"
   ]
  },
  {
   "cell_type": "code",
   "execution_count": null,
   "metadata": {
    "nbpresent": {
     "id": "6a43823b-c59a-46e5-b4cb-83054d63f4ac"
    }
   },
   "outputs": [],
   "source": [
    "print ('%s ha hecho un %d %% de la reunión' %(nombre,reuniones))"
   ]
  },
  {
   "cell_type": "markdown",
   "metadata": {},
   "source": [
    "#### format()\n",
    "\n",
    "En caso de usar format tenemos otro tipo de comodín {} dentro de la cadena de texto a pintar. Este puede ir numerado o sin numerar ({0},{1}, ... <br>\n",
    "Este comodín será sustituido por los argumentos que están dentro del método .format en el mismo orden en el que son espcificado."
   ]
  },
  {
   "cell_type": "code",
   "execution_count": null,
   "metadata": {},
   "outputs": [],
   "source": [
    "a=2\n",
    "b=3\n",
    "print(\"Ejemplo con {}, {} y {}\".format(a,b,\"cadena\"))"
   ]
  },
  {
   "cell_type": "code",
   "execution_count": null,
   "metadata": {},
   "outputs": [],
   "source": [
    "c=\"ejemplo {}\".format(b)\n",
    "print(c)"
   ]
  },
  {
   "cell_type": "code",
   "execution_count": null,
   "metadata": {},
   "outputs": [],
   "source": []
  },
  {
   "cell_type": "markdown",
   "metadata": {
    "nbpresent": {
     "id": "827c1b19-ea9c-46e3-9c3f-bc97fad82a4e"
    }
   },
   "source": [
    "\n",
    "<br>\n",
    "<div class=\"row\">\n",
    "<div class=\"span7 alert alert-info\">\n",
    "    <font size=\"5\">\n",
    "Entrada por teclado\n",
    "    </font>\n",
    "</div>\n",
    "</div>\n",
    "\n",
    "<br>\n",
    "\n"
   ]
  },
  {
   "cell_type": "markdown",
   "metadata": {
    "nbpresent": {
     "id": "827c1b19-ea9c-46e3-9c3f-bc97fad82a4e"
    }
   },
   "source": [
    "<br>\n",
    "<div class=\"row\">\n",
    "<div class=\"span7 alert alert-success\">\n",
    "    <font size=\"4\">\n",
    "input\n",
    "    </font>\n",
    "</div>\n",
    "</div>\n",
    "\n",
    "<br>\n",
    "\n"
   ]
  },
  {
   "cell_type": "markdown",
   "metadata": {},
   "source": [
    "#### input()\n",
    "\n",
    "Usado para pedir y almacenar datos por teclado. Siempre devuelve un tipo string, si necesitamos otro dato tenemos que hacer la conversión de tipo"
   ]
  },
  {
   "cell_type": "code",
   "execution_count": null,
   "metadata": {
    "nbpresent": {
     "id": "20be077c-3137-47c0-9e8d-fb87cde00364"
    }
   },
   "outputs": [],
   "source": [
    "Nombre=input('dime nombre-->')"
   ]
  },
  {
   "cell_type": "code",
   "execution_count": null,
   "metadata": {
    "nbpresent": {
     "id": "d81eabac-f590-4066-bfba-220b6d133b2a"
    }
   },
   "outputs": [],
   "source": [
    "Nombre"
   ]
  },
  {
   "cell_type": "code",
   "execution_count": null,
   "metadata": {},
   "outputs": [],
   "source": [
    "type(Nombre)"
   ]
  },
  {
   "cell_type": "code",
   "execution_count": null,
   "metadata": {},
   "outputs": [],
   "source": [
    "Nombre=int(input('dime nombre-->'))"
   ]
  },
  {
   "cell_type": "code",
   "execution_count": null,
   "metadata": {},
   "outputs": [],
   "source": [
    "print (Nombre,type(Nombre))"
   ]
  },
  {
   "cell_type": "code",
   "execution_count": null,
   "metadata": {
    "nbpresent": {
     "id": "0995bfe1-e281-463b-a30f-dc0b2fc7e6c5"
    }
   },
   "outputs": [],
   "source": [
    "help(open)"
   ]
  },
  {
   "cell_type": "code",
   "execution_count": null,
   "metadata": {
    "nbpresent": {
     "id": "3805e350-3dc0-43bc-85ac-70e207561110"
    }
   },
   "outputs": [],
   "source": [
    "import os\n",
    "os.getcwd()"
   ]
  },
  {
   "cell_type": "code",
   "execution_count": null,
   "metadata": {},
   "outputs": [],
   "source": [
    "import one.py"
   ]
  },
  {
   "cell_type": "code",
   "execution_count": null,
   "metadata": {},
   "outputs": [],
   "source": [
    "import two.py "
   ]
  },
  {
   "cell_type": "markdown",
   "metadata": {
    "nbpresent": {
     "id": "827c1b19-ea9c-46e3-9c3f-bc97fad82a4e"
    }
   },
   "source": [
    "---\n",
    "<br>\n",
    "<div class=\"row\">\n",
    "<div class=\"span7 alert alert-info\">\n",
    "    <font size=\"5\">\n",
    "Estructuras de control\n",
    "    </font>\n",
    "</div>\n",
    "</div>\n",
    "\n",
    "<br>\n",
    "\n"
   ]
  },
  {
   "cell_type": "markdown",
   "metadata": {
    "nbpresent": {
     "id": "3be28637-efa0-446c-a846-efdf7727dbf4"
    }
   },
   "source": [
    "\n",
    "#### IF\n",
    "\n",
    "```python\n",
    "if condición:\n",
    "    expresión\n",
    "elif condición2:\n",
    "    expresión2\n",
    "else:\n",
    "    expresión3\n",
    "```\n",
    "\n",
    "La indentación es muy importante, es la forma de separar los bloques"
   ]
  },
  {
   "cell_type": "code",
   "execution_count": null,
   "metadata": {
    "nbpresent": {
     "id": "3046c12d-c5a1-4476-b663-2b52a6995dfb"
    }
   },
   "outputs": [],
   "source": [
    "Nombre='Alumno'\n",
    "if Nombre=='Alumno':\n",
    "    print ('Hola Alumno')\n",
    "else:\n",
    "    print ('Hola a todos')"
   ]
  },
  {
   "cell_type": "markdown",
   "metadata": {
    "nbpresent": {
     "id": "0f1f9cc8-e72a-4263-86cb-9c665e9ecc90"
    }
   },
   "source": [
    "---\n",
    "#### WHILE\n",
    "```python\n",
    "while condición:\n",
    "    expresión\n",
    "    contador\n",
    "```"
   ]
  },
  {
   "cell_type": "code",
   "execution_count": null,
   "metadata": {
    "nbpresent": {
     "id": "9585f514-03be-4d7a-8639-898e9db36284"
    }
   },
   "outputs": [],
   "source": [
    "x=1\n",
    "while x<=5:\n",
    "    print ('Número de trabajos hechos --> '+str(x))\n",
    "    x=x+1"
   ]
  },
  {
   "cell_type": "code",
   "execution_count": null,
   "metadata": {
    "nbpresent": {
     "id": "871c6887-cc51-4bf2-8669-f78776cbb560"
    }
   },
   "outputs": [],
   "source": [
    "while True:\n",
    "    print('Quién eres?')\n",
    "    name = input()\n",
    "    if name != 'Jorge':\n",
    "        continue\n",
    "    print('Hola, Jorge. Cuál es la clave? (Es una serpiente)')\n",
    "    password = input()\n",
    "    if password == 'python':\n",
    "        break\n",
    "print('Aceso permitido.')"
   ]
  },
  {
   "cell_type": "markdown",
   "metadata": {
    "nbpresent": {
     "id": "34fa79da-7c76-48b5-b6a0-46b0c5a8463b"
    }
   },
   "source": [
    "---\n",
    "#### FOR LOOPS, IN RANGE"
   ]
  },
  {
   "cell_type": "markdown",
   "metadata": {
    "nbpresent": {
     "id": "435ab8de-d2f5-4a3d-9e11-470392039cc4"
    }
   },
   "source": [
    "```python\n",
    "for i in range(inicio, fin, paso):\n",
    "    expresión\n",
    "    \n",
    "```"
   ]
  },
  {
   "cell_type": "code",
   "execution_count": null,
   "metadata": {
    "nbpresent": {
     "id": "63f4bb9e-bd04-49b4-8a01-84d45146ca76"
    }
   },
   "outputs": [],
   "source": [
    "x=0\n",
    "for i in range(100):\n",
    "    x=x+i\n",
    "    #print (\"{}: {}\".format(i, x))\n",
    "print (x)\n",
    "    "
   ]
  },
  {
   "cell_type": "code",
   "execution_count": null,
   "metadata": {
    "nbpresent": {
     "id": "63f4bb9e-bd04-49b4-8a01-84d45146ca76"
    }
   },
   "outputs": [],
   "source": [
    "x=0\n",
    "for i in range(100):\n",
    "    x=x+i\n",
    "print (x)\n",
    "    "
   ]
  },
  {
   "cell_type": "code",
   "execution_count": null,
   "metadata": {
    "nbpresent": {
     "id": "0a01ee74-d517-45b3-8897-18004196a7db"
    }
   },
   "outputs": [],
   "source": [
    "x=0\n",
    "for i in range(1,100,2):\n",
    "    x=x+i\n",
    "print (x)"
   ]
  },
  {
   "cell_type": "markdown",
   "metadata": {
    "nbpresent": {
     "id": "016b303b-b209-4ae4-8650-6188680667e9"
    }
   },
   "source": [
    "---\n",
    "#### BREAK Y CONTINUE"
   ]
  },
  {
   "cell_type": "markdown",
   "metadata": {
    "nbpresent": {
     "id": "c87515bd-22d1-4fca-8666-3ebd07b94d64"
    }
   },
   "source": [
    "**break** se usa para terminar el bucle, **continue** se usa para saltar a la siguiente iteración"
   ]
  },
  {
   "cell_type": "code",
   "execution_count": null,
   "metadata": {
    "nbpresent": {
     "id": "e41203e8-3a62-4425-88af-8f8b210ddf94"
    }
   },
   "outputs": [],
   "source": [
    "while True: #bucle infinito\n",
    "    comando=input('introduzca un comando:')\n",
    "    if comando=='exit':  #infinito hasta que se introduce exit\n",
    "        break            #salta a la linea 7\n",
    "    else:\n",
    "        ejecutaComando(comando)\n",
    "print('bye')"
   ]
  },
  {
   "cell_type": "code",
   "execution_count": null,
   "metadata": {
    "nbpresent": {
     "id": "636d8de0-b334-481b-93eb-b5bd52f93014"
    }
   },
   "outputs": [],
   "source": [
    "while True: #bucle infinito\n",
    "    comando=input('introduzca un comando:')\n",
    "    if len(comando)==0: #no se ha introducido comando \n",
    "        continue        #vuelve al siguiente bucle línea 1\n",
    "    elif comando=='exit':  \n",
    "        print('Adiós')\n",
    "        break            #salta a la linea 10\n",
    "    else:\n",
    "        print (\"Se ejecutaría comando {} con una función definida\".format(comando)) #ejecutaComando(comando)\n",
    "print('bye')"
   ]
  },
  {
   "cell_type": "markdown",
   "metadata": {},
   "source": [
    "#### PASS\n",
    "Es equivalente a **\"no hagas nada\"**"
   ]
  },
  {
   "cell_type": "code",
   "execution_count": null,
   "metadata": {},
   "outputs": [],
   "source": [
    "codigo='rojo'\n",
    "if codigo== 'rojo':\n",
    "    print (\"Alertaroja()\")\n",
    "elif codigo== 'naranja':\n",
    "    print (\"Aviso()\")\n",
    "else:\n",
    "    pass\n"
   ]
  },
  {
   "cell_type": "markdown",
   "metadata": {
    "nbpresent": {
     "id": "827c1b19-ea9c-46e3-9c3f-bc97fad82a4e"
    }
   },
   "source": [
    "---\n",
    "<br>\n",
    "<div class=\"row\">\n",
    "<div class=\"span7 alert alert-info\">\n",
    "    <font size=\"5\">\n",
    "Tipos estructurados de datos\n",
    "    </font>\n",
    "</div>\n",
    "</div>\n",
    "\n",
    "<br>\n",
    "\n"
   ]
  },
  {
   "cell_type": "markdown",
   "metadata": {},
   "source": [
    "\n",
    "Python ofrece como tipos de datos estructurados nativos:\n",
    "<li>Listas</li>\n",
    "- Similar a las listas en java\n",
    "<li>Diccionarios</li>\n",
    "- Permite asociar datos en forma de clave:valor\n",
    "<li>Conjuntos</li>\n",
    "- Para colecciones de elementos no repetidos y sin orden"
   ]
  },
  {
   "cell_type": "markdown",
   "metadata": {
    "nbpresent": {
     "id": "827c1b19-ea9c-46e3-9c3f-bc97fad82a4e"
    }
   },
   "source": [
    "---\n",
    "<br>\n",
    "<div class=\"row\">\n",
    "<div class=\"span7 alert alert-info\">\n",
    "    <font size=\"4\">\n",
    "Listas\n",
    "    </font>\n",
    "</div>\n",
    "</div>\n",
    "\n",
    "<br>\n",
    "\n"
   ]
  },
  {
   "cell_type": "markdown",
   "metadata": {},
   "source": [
    "### Listas"
   ]
  },
  {
   "cell_type": "markdown",
   "metadata": {},
   "source": [
    "El tipo 'Lista' es un valor que tiene múltiples valores en una secuencia ordenada. Los valores de la lista se definen entre corchetes [ ] separados por comas. "
   ]
  },
  {
   "cell_type": "code",
   "execution_count": null,
   "metadata": {},
   "outputs": [],
   "source": [
    "listaVacia=[]"
   ]
  },
  {
   "cell_type": "code",
   "execution_count": null,
   "metadata": {},
   "outputs": [],
   "source": [
    "lista3Elementos=[2,5,7]"
   ]
  },
  {
   "cell_type": "code",
   "execution_count": null,
   "metadata": {},
   "outputs": [],
   "source": [
    "otraLista3Elementos=[1,'a',3.4]"
   ]
  },
  {
   "cell_type": "code",
   "execution_count": null,
   "metadata": {
    "nbpresent": {
     "id": "8c494ff5-db3c-45a8-8156-fc094fbb778b"
    }
   },
   "outputs": [],
   "source": [
    "lista2 =[ 'hola', 4.5, True, None, [1,2,3], 'adios' ]\n",
    "lista2[0]"
   ]
  },
  {
   "cell_type": "code",
   "execution_count": null,
   "metadata": {
    "nbpresent": {
     "id": "f26e0b15-b1fd-4549-9998-c59424fa8c8f"
    }
   },
   "outputs": [],
   "source": [
    "lista2[4]"
   ]
  },
  {
   "cell_type": "code",
   "execution_count": null,
   "metadata": {
    "nbpresent": {
     "id": "d2e31a3c-b76f-49bd-a97f-6c3300a69243"
    }
   },
   "outputs": [],
   "source": [
    "lista2[4][1]\n"
   ]
  },
  {
   "cell_type": "code",
   "execution_count": null,
   "metadata": {
    "nbpresent": {
     "id": "1055304d-8979-4c0d-9bac-b19263a88d91"
    }
   },
   "outputs": [],
   "source": [
    "lista2[-1]\n"
   ]
  },
  {
   "cell_type": "markdown",
   "metadata": {
    "nbpresent": {
     "id": "59a82388-f46c-41aa-9a3d-344162658670"
    }
   },
   "source": [
    "---\n",
    "<br>\n",
    "<div class=\"row\">\n",
    "<div class=\"span7 alert alert-success\">\n",
    "    <font size=\"4\">\n",
    "Operadores\n",
    "    </font>\n",
    "</div>\n",
    "</div>\n",
    "\n",
    "<br>"
   ]
  },
  {
   "cell_type": "code",
   "execution_count": null,
   "metadata": {},
   "outputs": [],
   "source": [
    "lista=[1,3]"
   ]
  },
  {
   "cell_type": "code",
   "execution_count": null,
   "metadata": {},
   "outputs": [],
   "source": [
    "lista+[5,6]"
   ]
  },
  {
   "cell_type": "code",
   "execution_count": null,
   "metadata": {},
   "outputs": [],
   "source": [
    "lista*10"
   ]
  },
  {
   "cell_type": "code",
   "execution_count": null,
   "metadata": {},
   "outputs": [],
   "source": [
    "5 in lista "
   ]
  },
  {
   "cell_type": "code",
   "execution_count": null,
   "metadata": {},
   "outputs": [],
   "source": [
    "3 in lista "
   ]
  },
  {
   "cell_type": "markdown",
   "metadata": {
    "nbpresent": {
     "id": "59a82388-f46c-41aa-9a3d-344162658670"
    }
   },
   "source": [
    "---\n",
    "<br>\n",
    "<div class=\"row\">\n",
    "<div class=\"span7 alert alert-success\">\n",
    "    <font size=\"4\">\n",
    "\n",
    "Operadores de indexación y corte de lista (slices)\n",
    "    </font>\n",
    "</div>\n",
    "</div>\n",
    "\n",
    "<br>"
   ]
  },
  {
   "cell_type": "code",
   "execution_count": null,
   "metadata": {},
   "outputs": [],
   "source": [
    "lista[0]"
   ]
  },
  {
   "cell_type": "code",
   "execution_count": null,
   "metadata": {},
   "outputs": [],
   "source": [
    "lista3Elementos[1:3]"
   ]
  },
  {
   "cell_type": "code",
   "execution_count": null,
   "metadata": {},
   "outputs": [],
   "source": [
    "lista3Elementos[1:2]"
   ]
  },
  {
   "cell_type": "code",
   "execution_count": null,
   "metadata": {},
   "outputs": [],
   "source": [
    "lista3Elementos[:len(lista3Elementos)-1]"
   ]
  },
  {
   "cell_type": "code",
   "execution_count": null,
   "metadata": {},
   "outputs": [],
   "source": [
    "lista3Elementos[1:]"
   ]
  },
  {
   "cell_type": "code",
   "execution_count": null,
   "metadata": {},
   "outputs": [],
   "source": [
    "lista3Elementos[-1]"
   ]
  },
  {
   "cell_type": "markdown",
   "metadata": {},
   "source": [
    "Cambiando el valor de un elemento de la lista usando el índice"
   ]
  },
  {
   "cell_type": "code",
   "execution_count": null,
   "metadata": {
    "nbpresent": {
     "id": "a909d76e-cde8-4884-a543-b445a34da638"
    }
   },
   "outputs": [],
   "source": [
    "lista2[5]='bye'\n",
    "\n",
    "lista2\n"
   ]
  },
  {
   "cell_type": "code",
   "execution_count": null,
   "metadata": {
    "nbpresent": {
     "id": "1405357f-a7e9-4003-bba2-3ee0253a7b7f"
    }
   },
   "outputs": [],
   "source": [
    "print (lista2[1:2])\n",
    "print (lista2[1:4])\n",
    "print (lista2[2:])\n",
    "print (lista2[:3])"
   ]
  },
  {
   "cell_type": "code",
   "execution_count": null,
   "metadata": {
    "nbpresent": {
     "id": "af88ace4-0911-4d1c-bec6-f20b5ff1d98f"
    }
   },
   "outputs": [],
   "source": [
    "print (lista2 [-4:-1])"
   ]
  },
  {
   "cell_type": "code",
   "execution_count": null,
   "metadata": {
    "nbpresent": {
     "id": "f14f7be8-7d1d-477e-93f7-ffcb11e28f7e"
    }
   },
   "outputs": [],
   "source": [
    "print (lista2[-4:])"
   ]
  },
  {
   "cell_type": "code",
   "execution_count": null,
   "metadata": {
    "nbpresent": {
     "id": "4b9f9ff1-10ad-486e-a87c-c2f7ce10153c"
    }
   },
   "outputs": [],
   "source": [
    "print (lista2[:])\n",
    "print (lista2[1::2])"
   ]
  },
  {
   "cell_type": "markdown",
   "metadata": {
    "nbpresent": {
     "id": "59a82388-f46c-41aa-9a3d-344162658670"
    }
   },
   "source": [
    "---\n",
    "<br>\n",
    "<div class=\"row\">\n",
    "<div class=\"span7 alert alert-success\">\n",
    "    <font size=\"4\">\n",
    "Funciones de las listas\n",
    "    </font>\n",
    "</div>\n",
    "</div>\n",
    "\n",
    "<br>"
   ]
  },
  {
   "cell_type": "code",
   "execution_count": null,
   "metadata": {},
   "outputs": [],
   "source": [
    "len(listaVacia) #devuelve la longitud de la lista"
   ]
  },
  {
   "cell_type": "code",
   "execution_count": null,
   "metadata": {
    "nbpresent": {
     "id": "83857790-19d5-448c-a9ee-70f95c26b7f7"
    }
   },
   "outputs": [],
   "source": [
    "len(lista2)"
   ]
  },
  {
   "cell_type": "code",
   "execution_count": null,
   "metadata": {},
   "outputs": [],
   "source": [
    "min(lista3Elementos) #devuelve el mínimo de la lista"
   ]
  },
  {
   "cell_type": "code",
   "execution_count": null,
   "metadata": {},
   "outputs": [],
   "source": [
    "max(lista3Elementos) #devuelve el máximo de la lista"
   ]
  },
  {
   "cell_type": "code",
   "execution_count": null,
   "metadata": {},
   "outputs": [],
   "source": [
    "sum(lista3Elementos) #devuelve la suma de la lista"
   ]
  },
  {
   "cell_type": "code",
   "execution_count": null,
   "metadata": {},
   "outputs": [],
   "source": [
    "sum(otraLista3Elementos) #devuelve la suma de la lista. Error!"
   ]
  },
  {
   "cell_type": "code",
   "execution_count": null,
   "metadata": {
    "nbpresent": {
     "id": "b1b00fef-fae9-4815-a4cf-dbe55d2c78a2"
    }
   },
   "outputs": [],
   "source": [
    "del lista2[5] #borrar elemento de lista por índice\n",
    "lista2"
   ]
  },
  {
   "cell_type": "markdown",
   "metadata": {
    "nbpresent": {
     "id": "e59322af-9f9a-4968-a969-135b1c5a8466"
    }
   },
   "source": [
    "---\n",
    "<br>\n",
    "<div class=\"row\">\n",
    "<div class=\"span7 alert alert-success\">\n",
    "    <font size=\"4\">\n",
    "Métodos. Resumen de los más típicos\n",
    "    </font>\n",
    "</div>\n",
    "</div>\n",
    "\n",
    "<br>"
   ]
  },
  {
   "cell_type": "markdown",
   "metadata": {
    "nbpresent": {
     "id": "0bdf499e-f382-4db3-9052-6f8fbc690d12"
    }
   },
   "source": [
    "Método|Función\n",
    "---|---\n",
    "append(elem)|añade al final \n",
    "insert(i,elem)|inserta elemento en la posición i\n",
    "pop()|devuelve y borrar el último\n",
    "pop(i)|devuelve y borra la posición i\n",
    "sort| modifica y ordena\n",
    "reverse|devuelve la lista sentido inverso\n",
    "del|borra la posición i\n",
    "index(elem)|devuelve el índice de elem\n",
    "count(elem)|devuelve el número de occurrencias de elem\n",
    "remove(elem)|borra la primera ocurrencia de elem\n",
    "\n"
   ]
  },
  {
   "cell_type": "markdown",
   "metadata": {},
   "source": [
    ".append(elemento)"
   ]
  },
  {
   "cell_type": "code",
   "execution_count": null,
   "metadata": {},
   "outputs": [],
   "source": [
    "a=[1,2,1,3]"
   ]
  },
  {
   "cell_type": "code",
   "execution_count": null,
   "metadata": {},
   "outputs": [],
   "source": [
    "a.append(10)\n",
    "a"
   ]
  },
  {
   "cell_type": "code",
   "execution_count": null,
   "metadata": {
    "nbpresent": {
     "id": "970838e3-1f4d-4026-a60f-6ee05fbd5be0"
    }
   },
   "outputs": [],
   "source": [
    "lista2.append('fin')\n",
    "print (lista2)"
   ]
  },
  {
   "cell_type": "markdown",
   "metadata": {},
   "source": [
    ".insert(posición, elemento)"
   ]
  },
  {
   "cell_type": "code",
   "execution_count": null,
   "metadata": {},
   "outputs": [],
   "source": [
    "a.insert(0,40)\n",
    "a"
   ]
  },
  {
   "cell_type": "code",
   "execution_count": null,
   "metadata": {
    "nbpresent": {
     "id": "266e828b-6dc2-46b1-861f-00d83c92864e"
    }
   },
   "outputs": [],
   "source": [
    "lista2.insert(1, 'fin')\n",
    "print (lista2)"
   ]
  },
  {
   "cell_type": "code",
   "execution_count": null,
   "metadata": {
    "nbpresent": {
     "id": "970838e3-1f4d-4026-a60f-6ee05fbd5be0"
    }
   },
   "outputs": [],
   "source": [
    "lista2.insert(1, '2lugarb')\n",
    "print (lista2)"
   ]
  },
  {
   "cell_type": "markdown",
   "metadata": {},
   "source": [
    ".count(elemento a contar)"
   ]
  },
  {
   "cell_type": "code",
   "execution_count": null,
   "metadata": {},
   "outputs": [],
   "source": [
    "a.count(1)"
   ]
  },
  {
   "cell_type": "markdown",
   "metadata": {},
   "source": [
    ".extend(elementos a añadir)"
   ]
  },
  {
   "cell_type": "code",
   "execution_count": null,
   "metadata": {},
   "outputs": [],
   "source": [
    "a.extend([10,12])\n",
    "\n",
    "a"
   ]
  },
  {
   "cell_type": "markdown",
   "metadata": {},
   "source": [
    ".index(elemento)"
   ]
  },
  {
   "cell_type": "code",
   "execution_count": null,
   "metadata": {},
   "outputs": [],
   "source": [
    "a.index(2)"
   ]
  },
  {
   "cell_type": "code",
   "execution_count": null,
   "metadata": {},
   "outputs": [],
   "source": [
    "a.index(1)"
   ]
  },
  {
   "cell_type": "code",
   "execution_count": null,
   "metadata": {},
   "outputs": [],
   "source": [
    "a.index(2)"
   ]
  },
  {
   "cell_type": "markdown",
   "metadata": {},
   "source": [
    ".reverse()"
   ]
  },
  {
   "cell_type": "code",
   "execution_count": null,
   "metadata": {},
   "outputs": [],
   "source": [
    "a.reverse()\n",
    "a"
   ]
  },
  {
   "cell_type": "markdown",
   "metadata": {},
   "source": [
    ".pop()"
   ]
  },
  {
   "cell_type": "code",
   "execution_count": null,
   "metadata": {},
   "outputs": [],
   "source": [
    "a.pop()"
   ]
  },
  {
   "cell_type": "markdown",
   "metadata": {},
   "source": [
    ".remove(elemento eliminado)"
   ]
  },
  {
   "cell_type": "code",
   "execution_count": null,
   "metadata": {},
   "outputs": [],
   "source": [
    "a.remove(10)\n",
    "a"
   ]
  },
  {
   "cell_type": "code",
   "execution_count": null,
   "metadata": {},
   "outputs": [],
   "source": [
    "a.remove(2)\n",
    "a"
   ]
  },
  {
   "cell_type": "markdown",
   "metadata": {},
   "source": [
    ".sort()"
   ]
  },
  {
   "cell_type": "code",
   "execution_count": null,
   "metadata": {},
   "outputs": [],
   "source": [
    "a.sort()\n",
    "a"
   ]
  },
  {
   "cell_type": "code",
   "execution_count": null,
   "metadata": {
    "nbpresent": {
     "id": "b34e4271-ebe9-4ce7-8d02-543aaac3dae6"
    }
   },
   "outputs": [],
   "source": [
    "lista3=[7,2,6,3,9]\n",
    "\n",
    "lista3.sort()\n",
    "lista3"
   ]
  },
  {
   "cell_type": "code",
   "execution_count": null,
   "metadata": {
    "nbpresent": {
     "id": "27b44359-0073-4f5a-9e58-7b976c6d1fad"
    }
   },
   "outputs": [],
   "source": [
    "lista4= ['Miguel','Angela','David', 'Juan' ]\n",
    "lista4.sort()"
   ]
  },
  {
   "cell_type": "code",
   "execution_count": null,
   "metadata": {
    "nbpresent": {
     "id": "27b44359-0073-4f5a-9e58-7b976c6d1fad"
    }
   },
   "outputs": [],
   "source": [
    "lista4=sorted(lista4)\n",
    "lista4"
   ]
  },
  {
   "cell_type": "code",
   "execution_count": null,
   "metadata": {
    "nbpresent": {
     "id": "27b44359-0073-4f5a-9e58-7b976c6d1fad"
    }
   },
   "outputs": [],
   "source": [
    "lista5=['Cesar', 5, 5.6, 'Roberto', 2.1, 'mesa']\n",
    "lista5.sort()"
   ]
  },
  {
   "cell_type": "code",
   "execution_count": null,
   "metadata": {},
   "outputs": [],
   "source": [
    "lista5=sorted(lista5, key=lambda x:str(x))"
   ]
  },
  {
   "cell_type": "code",
   "execution_count": null,
   "metadata": {
    "nbpresent": {
     "id": "0330abe1-0d37-4494-804c-a78d7b9f74a9"
    }
   },
   "outputs": [],
   "source": [
    "lista5"
   ]
  },
  {
   "cell_type": "code",
   "execution_count": null,
   "metadata": {
    "nbpresent": {
     "id": "34dd5fa3-aef8-434e-8815-4f3ca3a8780f"
    }
   },
   "outputs": [],
   "source": [
    "lista6=['perro', 'Granada', 'coche', 'Oviedo']\n",
    "lista6.sort(key=str.lower)\n",
    "lista6\n"
   ]
  },
  {
   "cell_type": "markdown",
   "metadata": {},
   "source": [
    ".reverse()"
   ]
  },
  {
   "cell_type": "code",
   "execution_count": null,
   "metadata": {
    "nbpresent": {
     "id": "27b44359-0073-4f5a-9e58-7b976c6d1fad"
    }
   },
   "outputs": [],
   "source": [
    "lista4.reverse()\n",
    "lista4"
   ]
  },
  {
   "cell_type": "code",
   "execution_count": null,
   "metadata": {},
   "outputs": [],
   "source": [
    "a.reverse()\n",
    "a"
   ]
  },
  {
   "cell_type": "code",
   "execution_count": null,
   "metadata": {
    "nbpresent": {
     "id": "8cfd4c3e-d636-4e9c-b0a2-ac4be95a4b5a"
    }
   },
   "outputs": [],
   "source": [
    "lista6=['cosa', 'hola', 'adios', '3']\n",
    "dir(lista6)\n"
   ]
  },
  {
   "cell_type": "markdown",
   "metadata": {
    "nbpresent": {
     "id": "a3521406-2b5e-4318-b683-94b98ff4775f"
    }
   },
   "source": [
    "---\n",
    "<br>\n",
    "<div class=\"row\">\n",
    "<div class=\"span7 alert alert-success\">\n",
    "    <font size=\"4\">\n",
    "Bucles en listas\n",
    "    </font>\n",
    "</div>\n",
    "</div>\n",
    "\n",
    "<br>"
   ]
  },
  {
   "cell_type": "markdown",
   "metadata": {},
   "source": [
    "#### Formas de recorrer una lista"
   ]
  },
  {
   "cell_type": "code",
   "execution_count": null,
   "metadata": {},
   "outputs": [],
   "source": [
    "lista=[\"hola\", \"adios\"]\n",
    "\n",
    "print (\"Mediante iterador:\")\n",
    "for elemento in lista:\n",
    "    print (elemento)\n",
    "print (\"Mediante índice:\")\n",
    "for i in range(len(lista)):\n",
    "    print (lista[i])\n",
    "\n",
    "print (\"Mediante enumerate()\")\n",
    "for i,elemento in enumerate(lista):\n",
    "    print (\"{}. {}\".format(i,elemento))"
   ]
  },
  {
   "cell_type": "markdown",
   "metadata": {
    "nbpresent": {
     "id": "a3521406-2b5e-4318-b683-94b98ff4775f"
    }
   },
   "source": [
    "---\n",
    "<br>\n",
    "<div class=\"row\">\n",
    "<div class=\"span7 alert alert-success\">\n",
    "    <font size=\"4\">\n",
    "Índice dentro de la lista\n",
    "    </font>\n",
    "</div>\n",
    "</div>\n",
    "\n",
    "<br>"
   ]
  },
  {
   "cell_type": "markdown",
   "metadata": {},
   "source": [
    "### Posición dentro de la lista"
   ]
  },
  {
   "cell_type": "code",
   "execution_count": null,
   "metadata": {
    "nbpresent": {
     "id": "7b8ee196-db08-4b1b-bbad-cb4c4b2beb34"
    }
   },
   "outputs": [],
   "source": [
    "curso=[\"alumnos\",\"clase\", \"python\"]\n",
    "curso.index('alumnos')"
   ]
  },
  {
   "cell_type": "code",
   "execution_count": null,
   "metadata": {
    "nbpresent": {
     "id": "2a9c06bc-abff-41ab-aa2b-fa0ec995634f"
    }
   },
   "outputs": [],
   "source": [
    "curso.index('profes') #Error!"
   ]
  },
  {
   "cell_type": "code",
   "execution_count": null,
   "metadata": {
    "nbpresent": {
     "id": "264e265c-c6f7-46de-ac4b-2af1ad2072d5"
    }
   },
   "outputs": [],
   "source": [
    "'alumnos' in curso"
   ]
  },
  {
   "cell_type": "code",
   "execution_count": null,
   "metadata": {
    "nbpresent": {
     "id": "28f66118-7c3e-41ac-b0b4-db3fa495510c"
    }
   },
   "outputs": [],
   "source": [
    "'profes' in curso"
   ]
  },
  {
   "cell_type": "code",
   "execution_count": null,
   "metadata": {
    "nbpresent": {
     "id": "6158ca12-441d-46f4-bd29-f8a1fc8dc90f"
    }
   },
   "outputs": [],
   "source": [
    "'perro' not in curso"
   ]
  },
  {
   "cell_type": "markdown",
   "metadata": {
    "nbpresent": {
     "id": "c8f0ffcb-3595-4eb0-8690-031a6594d0e0"
    }
   },
   "source": [
    "---\n",
    "<br>\n",
    "<div class=\"row\">\n",
    "<div class=\"span7 alert alert-danger\">\n",
    "    <font size=\"4\">\n",
    "Ejercicio enteros. \n",
    "    </font>\n",
    "</div>\n",
    "</div>\n",
    "\n",
    "<br>\n",
    "\n",
    "• Diseña un programa que lea enteros de teclado\n",
    "hasta que el usuario teclee uno negativo. Los\n",
    "enteros positivos se irán añadiendo a una lista.\n",
    "<br>\n",
    "• Muestra el contenido de la lista ordenado de\n",
    "menor a mayor valor, con un elemento por línea\n",
    "de pantalla.\n",
    "\n"
   ]
  },
  {
   "cell_type": "markdown",
   "metadata": {
    "nbpresent": {
     "id": "4cee7905-66e0-4b04-a5b1-969224a52255"
    }
   },
   "source": [
    "---\n",
    "<br>\n",
    "<div class=\"row\">\n",
    "<div class=\"span7 alert alert-success\">\n",
    "    <font size=\"4\">\n",
    "Asignaciones múltiples\n",
    "    </font>\n",
    "</div>\n",
    "</div>\n",
    "\n",
    "<br>"
   ]
  },
  {
   "cell_type": "code",
   "execution_count": null,
   "metadata": {
    "nbpresent": {
     "id": "7b8900b6-a8e4-466d-b8fc-153b5406b7b6"
    }
   },
   "outputs": [],
   "source": [
    "gato=['grande', 'blanco', 'ruidoso']\n",
    "tipo = gato[0]\n",
    "color=gato[1]\n",
    "caracter=gato[2]"
   ]
  },
  {
   "cell_type": "code",
   "execution_count": null,
   "metadata": {
    "nbpresent": {
     "id": "d19c204b-ea36-487b-ac07-f7b4ce826478"
    }
   },
   "outputs": [],
   "source": [
    "tipo"
   ]
  },
  {
   "cell_type": "code",
   "execution_count": null,
   "metadata": {
    "nbpresent": {
     "id": "afd4bef4-0bb6-4571-83af-4e9d0d7e835f"
    }
   },
   "outputs": [],
   "source": [
    "color"
   ]
  },
  {
   "cell_type": "code",
   "execution_count": null,
   "metadata": {
    "nbpresent": {
     "id": "ebba145f-fc96-4db3-ba6f-ac45215a9d72"
    }
   },
   "outputs": [],
   "source": [
    "tipo, color, caracter=gato"
   ]
  },
  {
   "cell_type": "code",
   "execution_count": null,
   "metadata": {
    "nbpresent": {
     "id": "f89088d3-0575-43e8-b4db-543f998ff5c7"
    }
   },
   "outputs": [],
   "source": [
    "caracter"
   ]
  },
  {
   "cell_type": "code",
   "execution_count": null,
   "metadata": {
    "nbpresent": {
     "id": "41aeb632-6199-465c-9d80-4c66aea33cfb"
    }
   },
   "outputs": [],
   "source": [
    "tipo=0\n",
    "caracter=0"
   ]
  },
  {
   "cell_type": "code",
   "execution_count": null,
   "metadata": {},
   "outputs": [],
   "source": [
    "gato"
   ]
  },
  {
   "cell_type": "code",
   "execution_count": null,
   "metadata": {},
   "outputs": [],
   "source": []
  },
  {
   "cell_type": "markdown",
   "metadata": {
    "nbpresent": {
     "id": "1965bf37-20c7-4184-8b9c-bfa3f652530a"
    }
   },
   "source": [
    "\n",
    "<br>\n",
    "<div class=\"row\">\n",
    "<div class=\"span7 alert alert-success\">\n",
    "    <font size=\"4\">\n",
    "List Comprehensions\n",
    "    </font>\n",
    "</div>\n",
    "</div>\n",
    "\n",
    "<br>"
   ]
  },
  {
   "cell_type": "markdown",
   "metadata": {
    "nbpresent": {
     "id": "bd180c94-fd90-4b41-8435-91f7601096e8"
    }
   },
   "source": [
    "Es una forma de crear dinámicamente una lista en una línea.\n",
    "\n",
    "La sintáxis es:\n",
    "\n",
    "```\n",
    "[expr for elemento in iterable if condicion]\n",
    "\n",
    "```"
   ]
  },
  {
   "cell_type": "code",
   "execution_count": null,
   "metadata": {
    "nbpresent": {
     "id": "b2d9cb60-7336-4828-89cc-35f597ce4ed9"
    }
   },
   "outputs": [],
   "source": [
    "alCuadrado=[]\n",
    "for i in range(1,11):\n",
    "    alCuadrado.append(i*i)\n",
    "print (alCuadrado)"
   ]
  },
  {
   "cell_type": "code",
   "execution_count": null,
   "metadata": {},
   "outputs": [],
   "source": [
    "alCuadrado = [i*i for i in range(1,11)]\n",
    "print (alCuadrado)"
   ]
  },
  {
   "cell_type": "code",
   "execution_count": null,
   "metadata": {},
   "outputs": [],
   "source": [
    "alCuadrado = [i*i for i in range(1,11) if not i%2]\n",
    "print (alCuadrado)"
   ]
  },
  {
   "cell_type": "code",
   "execution_count": null,
   "metadata": {},
   "outputs": [],
   "source": []
  },
  {
   "cell_type": "markdown",
   "metadata": {
    "nbpresent": {
     "id": "915c3260-a7ca-40a2-9a98-a2bfb6691b8c"
    }
   },
   "source": [
    "---\n",
    "<br>\n",
    "<div class=\"row\">\n",
    "<div class=\"span7 alert alert-danger\">\n",
    "    <font size=\"3\">\n",
    "Ejercicio de List Comprehensions\n",
    "    </font>\n",
    "</div>\n",
    "</div>\n",
    "\n",
    "<br>"
   ]
  },
  {
   "cell_type": "markdown",
   "metadata": {
    "nbpresent": {
     "id": "b08541b9-6990-4579-9a77-30c978f35023"
    }
   },
   "source": [
    "Usando *listcomp*, escribe un programa que imprima la lista después de quitar el 22. lista=[21,34,22,56,82,32]\n",
    "\n",
    "Hacer una lista con la tabla del 9 \n"
   ]
  },
  {
   "cell_type": "markdown",
   "metadata": {
    "nbpresent": {
     "id": "c8f0ffcb-3595-4eb0-8690-031a6594d0e0"
    }
   },
   "source": [
    "---\n",
    "<br>\n",
    "<div class=\"row\">\n",
    "<div class=\"span7 alert alert-danger\">\n",
    "    <font size=\"4\">\n",
    "Ejercicio de Verdadero. \n",
    "    </font>\n",
    "</div>\n",
    "</div>\n",
    "\n",
    "<br>\n",
    "\n"
   ]
  },
  {
   "cell_type": "markdown",
   "metadata": {
    "nbpresent": {
     "id": "69676cbd-1ca5-447f-b79a-4d8f3b4a0f0a"
    }
   },
   "source": [
    "Cambia el código siguiente para que todas sean verdaderas y se impriman los números del 1 al 6.\n"
   ]
  },
  {
   "cell_type": "code",
   "execution_count": null,
   "metadata": {
    "nbpresent": {
     "id": "e5ee37c4-fb2f-4a9e-94e2-f50f180cba00"
    }
   },
   "outputs": [],
   "source": [
    "# Hay que cambiar las líneas 2 a 5 para que se imprima 1,2,3,4,5,6\n",
    "numero = 10 #Cambiar\n",
    "numero2 = 10 #Cambiar\n",
    "array1 = [] #Cambiar\n",
    "array2 = [1,3] #Cambiar\n",
    "\n",
    "# Esta parte NO hay que modificarla\n",
    "if numero > 15:\n",
    "    print(\"1\")\n",
    "\n",
    "if array1:\n",
    "    print(\"2\")\n",
    "\n",
    "if len(array1) == 2:\n",
    "    print(\"3\")\n",
    "\n",
    "if len(array1) + len(array2) == 5:\n",
    "    print(\"4\")\n",
    "\n",
    "if array1 and array1[0] == 1:\n",
    "    print(\"5\")\n",
    "\n",
    "if not numero2:\n",
    "    print(\"6\")\n"
   ]
  },
  {
   "cell_type": "markdown",
   "metadata": {
    "nbpresent": {
     "id": "c0a486a5-ce9d-4485-9c2b-3d865cf164e8"
    }
   },
   "source": [
    "---\n",
    "<br>\n",
    "<div class=\"row\">\n",
    "<div class=\"span7 alert alert-danger\">\n",
    "    <font size=\"3\">\n",
    "Ejercicio de bucle\n",
    "    </font>\n",
    "</div>\n",
    "</div>\n",
    "\n",
    "<br>\n",
    "\n"
   ]
  },
  {
   "cell_type": "markdown",
   "metadata": {
    "nbpresent": {
     "id": "cf1c57c5-2050-4245-adbf-72e4274910ab"
    }
   },
   "source": [
    "Siendo la variable 'num'\n",
    "```\n",
    "num = [\n",
    "    951, 402, 984, 651, 360, 69, 408, 319, 601, 485, 980, 507, 725, 547, 544,\n",
    "    615, 83, 165, 141, 501, 263, 617, 865, 575, 219, 390, 984, 592, 236, 105, 942, 941,\n",
    "    386, 462, 47, 418, 907, 344, 236, 375, 823, 566, 597, 978, 328, 615, 953, 345,\n",
    "    399, 162, 758, 219, 918, 237, 412, 566, 826, 248, 866, 950, 626, 949, 687, 217,\n",
    "    815, 67, 104, 58, 512, 24, 892, 894, 767, 553, 81, 379, 843, 831, 445, 742, 717,\n",
    "    958, 609, 842, 451, 688, 753, 854, 685, 93, 857, 440, 380, 126, 721, 328, 753, 470,\n",
    "    743, 527\n",
    "]\n",
    "```\n",
    "\n",
    "Imprime todos los números pares en el mismo orden y no imprimas ninguno después del 237\n",
    "\n",
    "Ayuda: El resultado final imprime 22 números siendo el último 918\n",
    "\n",
    "\n"
   ]
  },
  {
   "cell_type": "markdown",
   "metadata": {
    "nbpresent": {
     "id": "bbcb42c0-00dc-4e02-9380-30a9141f77dd"
    }
   },
   "source": [
    "***\n",
    "***\n",
    "<br>\n",
    "<div class=\"row\">\n",
    "<div class=\"span7 alert alert-info\">\n",
    "    <font size=\"5\">\n",
    "DICCIONARIOS\n",
    "    </font>\n",
    "</div>\n",
    "</div>\n",
    "\n",
    "<br>\n",
    "***"
   ]
  },
  {
   "cell_type": "markdown",
   "metadata": {},
   "source": [
    "\n",
    "## Diccionarios\n",
    "<br>\n",
    "<li>Asociaciones de clave:valor</li>\n",
    "<li>El valor de la clave tiene que ser inmutable (un escalar, una cadena, una tupla). El valor puede ser cualquier tipo.</li>\n",
    "<br>\n",
    "Se define con {} que contiene clave y valor separado por : (clave:valor) separando los elementos del diccionario con ,\n",
    "\n",
    "Al igual que las listas los diccionarios son colecciones de varios valores pero en vez de tener índices numéricos, tienen distintos tipos de datos. Ya no se llaman índices sino **claves**. Cada **clave** (key) está asociada a su **valor** formando la pareja **clave-valor** (**key-value**). Se definen entre llaves {}"
   ]
  },
  {
   "cell_type": "code",
   "execution_count": null,
   "metadata": {},
   "outputs": [],
   "source": [
    "dicVacio={}"
   ]
  },
  {
   "cell_type": "code",
   "execution_count": null,
   "metadata": {},
   "outputs": [],
   "source": [
    "dic={'primero':1, 'segundo':2, 'tercero':'hola'}\n",
    "dic"
   ]
  },
  {
   "cell_type": "code",
   "execution_count": null,
   "metadata": {},
   "outputs": [],
   "source": [
    "dic['segundo']"
   ]
  },
  {
   "cell_type": "code",
   "execution_count": null,
   "metadata": {},
   "outputs": [],
   "source": [
    "dic['tercero']"
   ]
  },
  {
   "cell_type": "code",
   "execution_count": null,
   "metadata": {},
   "outputs": [],
   "source": [
    "dic['segundo']='adios'\n",
    "dic"
   ]
  },
  {
   "cell_type": "code",
   "execution_count": null,
   "metadata": {
    "nbpresent": {
     "id": "2217eec5-4710-463e-86c1-20f72786bfa5"
    }
   },
   "outputs": [],
   "source": [
    "gato1={'tipo':'grande', 'color':'blanco', 'caracter':'ruidoso'}\n",
    "gato1['caracter']"
   ]
  },
  {
   "cell_type": "code",
   "execution_count": null,
   "metadata": {
    "nbpresent": {
     "id": "10d56b6c-0c9f-43b7-98f7-79d757d7c56b"
    }
   },
   "outputs": [],
   "source": [
    "'El gato es de color ' + gato1['color']"
   ]
  },
  {
   "cell_type": "code",
   "execution_count": null,
   "metadata": {
    "nbpresent": {
     "id": "aaafbdc9-b06c-4bcd-b582-d5ebad26e8da"
    }
   },
   "outputs": [],
   "source": [
    "gato1['edad']"
   ]
  },
  {
   "cell_type": "code",
   "execution_count": null,
   "metadata": {
    "nbpresent": {
     "id": "7997cc51-7840-4e8f-8255-6a23dab09ace"
    }
   },
   "outputs": [],
   "source": [
    "matriculas={'Alex':123,'Edu':834,'Mayte':434}\n",
    "\n",
    "while True:\n",
    "    print('Dime un nombre: (en blanco para terminar)')\n",
    "    nombre = input()\n",
    "    if nombre == '':\n",
    "        break\n",
    "\n",
    "    if nombre in matriculas:\n",
    "        print(str(matriculas[nombre]) + ' es la matrícula de ' + nombre)\n",
    "    else:\n",
    "        print('No tengo la matrícula de ' + nombre)\n",
    "        print('Cuál es su matrícula?')\n",
    "        mat = input()\n",
    "        matriculas[nombre] = mat\n",
    "        print('Datos actualizados.')\n",
    "        \n"
   ]
  },
  {
   "cell_type": "code",
   "execution_count": null,
   "metadata": {
    "nbpresent": {
     "id": "ecd6afc9-737f-4b20-9980-c1a888f6178a"
    }
   },
   "outputs": [],
   "source": [
    "\n"
   ]
  },
  {
   "cell_type": "markdown",
   "metadata": {
    "nbpresent": {
     "id": "177d5178-73e5-49e0-8a18-c52683154e9d"
    }
   },
   "source": [
    "\n",
    "---\n",
    "<br>\n",
    "<div class=\"row\">\n",
    "<div class=\"span7 alert alert-success\">\n",
    "    <font size=\"4\">\n",
    "Métodos    keys(), values(), items()\n",
    "    </font>\n",
    "</div>\n",
    "</div>\n",
    "\n",
    "<br>\n",
    "\n"
   ]
  },
  {
   "cell_type": "markdown",
   "metadata": {
    "nbpresent": {
     "id": "6edd9d0e-6ac6-43df-a351-3678a99f1c23"
    }
   },
   "source": [
    "Hay tres métodos de los diccionarios que devuelven valores parecidos a listas, no son listas propiamente dichas pero se puede hacer un bucle gracias a ellos. \n"
   ]
  },
  {
   "cell_type": "code",
   "execution_count": null,
   "metadata": {
    "nbpresent": {
     "id": "70379922-c63d-49cc-9e1c-a31f686bdf1f"
    }
   },
   "outputs": [],
   "source": [
    "for v in dic.values():\n",
    "    print (v)"
   ]
  },
  {
   "cell_type": "code",
   "execution_count": null,
   "metadata": {
    "nbpresent": {
     "id": "1e057c13-b4b3-49f8-8785-22a9488d8682"
    }
   },
   "outputs": [],
   "source": [
    "for k in dic.keys():\n",
    "    print (k)"
   ]
  },
  {
   "cell_type": "code",
   "execution_count": null,
   "metadata": {
    "nbpresent": {
     "id": "0f2bdc30-b3b3-4b94-8b2e-baad840b9d53"
    }
   },
   "outputs": [],
   "source": [
    "for i in dic.items():\n",
    "    print (i)"
   ]
  },
  {
   "cell_type": "code",
   "execution_count": null,
   "metadata": {
    "nbpresent": {
     "id": "e5aa2581-5cb7-46e3-9a43-de597ef47cfd"
    }
   },
   "outputs": [],
   "source": [
    "'hola' in dic.keys()"
   ]
  },
  {
   "cell_type": "code",
   "execution_count": null,
   "metadata": {
    "nbpresent": {
     "id": "b025081f-96f4-4e49-8309-4176f34b12f7"
    }
   },
   "outputs": [],
   "source": [
    "'primero' in dic.keys()"
   ]
  },
  {
   "cell_type": "code",
   "execution_count": null,
   "metadata": {},
   "outputs": [],
   "source": [
    "'hola' in dic.values()"
   ]
  },
  {
   "cell_type": "markdown",
   "metadata": {
    "nbpresent": {
     "id": "515de81a-8202-42c9-be00-3b2656fa7124"
    }
   },
   "source": [
    "\n",
    "---\n",
    "<br>\n",
    "<div class=\"row\">\n",
    "<div class=\"span7 alert alert-success\">\n",
    "    <font size=\"4\">\n",
    "Método get()\n",
    "    </font>\n",
    "</div>\n",
    "</div>\n",
    "\n",
    "<br>\n"
   ]
  },
  {
   "cell_type": "code",
   "execution_count": null,
   "metadata": {
    "nbpresent": {
     "id": "6c9bc4e3-497c-41fb-b871-c25c5a70c940"
    }
   },
   "outputs": [],
   "source": [
    "desayuno={'tostadas':2,'zumos':1}"
   ]
  },
  {
   "cell_type": "code",
   "execution_count": null,
   "metadata": {
    "nbpresent": {
     "id": "46826460-7718-412c-9848-95f0aef0a698"
    }
   },
   "outputs": [],
   "source": [
    "'Hoy he tomado '+str(desayuno.get('tostadas', 0))+ ' tostadas'"
   ]
  },
  {
   "cell_type": "code",
   "execution_count": null,
   "metadata": {
    "nbpresent": {
     "id": "ff23a34d-00a8-4600-9f22-8a4f30421e60"
    }
   },
   "outputs": [],
   "source": [
    "'Hoy he tomado '+str(desayuno.get('cafes', 0))+ ' cafés'"
   ]
  },
  {
   "cell_type": "code",
   "execution_count": null,
   "metadata": {
    "nbpresent": {
     "id": "aa7b60c3-9cf7-4e01-bb6b-e7867a76dafa"
    }
   },
   "outputs": [],
   "source": [
    "print ('Hoy he tomado '+str(desayuno.get('cafes', 0))+ ' cafés')"
   ]
  },
  {
   "cell_type": "markdown",
   "metadata": {
    "nbpresent": {
     "id": "676ee326-abdc-40d8-ae25-910d78e7df3b"
    }
   },
   "source": [
    "---\n",
    "<br>\n",
    "<div class=\"row\">\n",
    "<div class=\"span7 alert alert-danger\">\n",
    "    <font size=\"4\">\n",
    "Ejercicios de Dicionarios\n",
    "    </font>\n",
    "</div>\n",
    "</div>\n",
    "\n",
    "<br>\n"
   ]
  },
  {
   "cell_type": "markdown",
   "metadata": {
    "nbpresent": {
     "id": "0b90a456-01c4-4e0e-a6da-b6eeab0329d2"
    }
   },
   "source": [
    "Escribe una función que le des un nombre y te devuelva su teléfono, si no está que el programa produzca una excepción.\n",
    "\n",
    "Ejemplo de dic: contactos={'Pepe':1606, 'Luis':4505, 'Carolina':3412}"
   ]
  },
  {
   "cell_type": "markdown",
   "metadata": {
    "nbpresent": {
     "id": "d3af1b5c-cc39-4198-919a-881c494abc7b"
    }
   },
   "source": [
    "\n",
    "***\n",
    "***\n",
    "<br>\n",
    "<div class=\"row\">\n",
    "<div class=\"span7 alert alert-info\">\n",
    "    <font size=\"5\">\n",
    "TUPLAS\n",
    "    </font>\n",
    "</div>\n",
    "</div>\n",
    "\n",
    "<br>\n"
   ]
  },
  {
   "cell_type": "markdown",
   "metadata": {},
   "source": [
    "\n",
    "<br>\n",
    "Una tupla es una lista <b>inmutable</b>."
   ]
  },
  {
   "cell_type": "code",
   "execution_count": null,
   "metadata": {},
   "outputs": [],
   "source": [
    "tuplaVacia=()"
   ]
  },
  {
   "cell_type": "code",
   "execution_count": null,
   "metadata": {},
   "outputs": [],
   "source": [
    "tupla1Elemento=(1,)"
   ]
  },
  {
   "cell_type": "code",
   "execution_count": null,
   "metadata": {},
   "outputs": [],
   "source": [
    "tupla3Elementos=(2,4,5)"
   ]
  },
  {
   "cell_type": "code",
   "execution_count": null,
   "metadata": {},
   "outputs": [],
   "source": [
    "tupla=tuple([\"a\",\"b\"])\n",
    "print (tupla)"
   ]
  },
  {
   "cell_type": "markdown",
   "metadata": {},
   "source": [
    "Las tuplas permiten tener asignaciones de valores multiples"
   ]
  },
  {
   "cell_type": "code",
   "execution_count": null,
   "metadata": {},
   "outputs": [],
   "source": [
    "a,b = 1,2\n",
    "a"
   ]
  },
  {
   "cell_type": "code",
   "execution_count": null,
   "metadata": {},
   "outputs": [],
   "source": [
    "b"
   ]
  },
  {
   "cell_type": "markdown",
   "metadata": {},
   "source": [
    "¿Qué es ser inmutable? Que no se puede cambiar. Los enteros, las cadenas y las tulas son inmutables mientras que las listas son mutables."
   ]
  },
  {
   "cell_type": "code",
   "execution_count": null,
   "metadata": {},
   "outputs": [],
   "source": [
    "a=\"hola\"\n",
    "a[2]"
   ]
  },
  {
   "cell_type": "code",
   "execution_count": null,
   "metadata": {},
   "outputs": [],
   "source": [
    "a[2]='P' #Error"
   ]
  },
  {
   "cell_type": "code",
   "execution_count": null,
   "metadata": {},
   "outputs": [],
   "source": [
    "tupla3Elementos[1]"
   ]
  },
  {
   "cell_type": "code",
   "execution_count": null,
   "metadata": {},
   "outputs": [],
   "source": [
    "tupla3Elementos[1]=10 #Error"
   ]
  },
  {
   "cell_type": "markdown",
   "metadata": {},
   "source": [
    "y entonces que pasa con los enteros ... ¿no se pueden modificar si nos han dicho que son inmutables?"
   ]
  },
  {
   "cell_type": "code",
   "execution_count": null,
   "metadata": {},
   "outputs": [],
   "source": [
    "a=2\n",
    "b=a\n",
    "b"
   ]
  },
  {
   "cell_type": "code",
   "execution_count": null,
   "metadata": {},
   "outputs": [],
   "source": [
    "a=3\n",
    "b"
   ]
  },
  {
   "cell_type": "code",
   "execution_count": null,
   "metadata": {},
   "outputs": [],
   "source": [
    "id(2)"
   ]
  },
  {
   "cell_type": "code",
   "execution_count": null,
   "metadata": {},
   "outputs": [],
   "source": [
    "id(3)"
   ]
  },
  {
   "cell_type": "code",
   "execution_count": null,
   "metadata": {},
   "outputs": [],
   "source": [
    "id(a)"
   ]
  },
  {
   "cell_type": "code",
   "execution_count": null,
   "metadata": {},
   "outputs": [],
   "source": [
    "id(b)"
   ]
  },
  {
   "cell_type": "markdown",
   "metadata": {
    "nbpresent": {
     "id": "2b7eeefa-1e3e-4c8e-a132-219b63b11584"
    }
   },
   "source": [
    "---\n",
    "Las tuplas son como las listas pero sus elementos son inmutables y se definen entre paréntesis ( )."
   ]
  },
  {
   "cell_type": "code",
   "execution_count": null,
   "metadata": {
    "nbpresent": {
     "id": "964289c4-b704-46ce-bd0f-f6c031be7f67"
    }
   },
   "outputs": [],
   "source": [
    "tupla=(5,2,8,2,6)\n",
    "tupla[0]"
   ]
  },
  {
   "cell_type": "code",
   "execution_count": null,
   "metadata": {
    "nbpresent": {
     "id": "a273efc6-bc9a-4d49-a49c-d5f6625d8235"
    }
   },
   "outputs": [],
   "source": [
    "tupla[3]=9 # Error"
   ]
  },
  {
   "cell_type": "markdown",
   "metadata": {
    "nbpresent": {
     "id": "9b4610f2-539a-4aae-9f29-b26dd844d1e1"
    }
   },
   "source": [
    "---\n",
    "Como es lógico se puede convertir de tupla a lista y al revés"
   ]
  },
  {
   "cell_type": "code",
   "execution_count": null,
   "metadata": {
    "nbpresent": {
     "id": "d7125080-e7fa-489c-856d-281c1df9fc6e"
    }
   },
   "outputs": [],
   "source": [
    "lista=list(tupla)\n",
    "lista"
   ]
  },
  {
   "cell_type": "code",
   "execution_count": null,
   "metadata": {
    "nbpresent": {
     "id": "10ed9b38-713e-45cd-a0e0-3e421e8f55de"
    }
   },
   "outputs": [],
   "source": [
    "lista[3]=9\n",
    "lista"
   ]
  },
  {
   "cell_type": "code",
   "execution_count": null,
   "metadata": {
    "nbpresent": {
     "id": "c59c86b9-37b7-4c7d-bc7b-8b0e277d192e"
    }
   },
   "outputs": [],
   "source": [
    "x\n"
   ]
  },
  {
   "cell_type": "code",
   "execution_count": null,
   "metadata": {
    "nbpresent": {
     "id": "59a0b4a7-41fa-4d71-8b32-b42de29c7540"
    }
   },
   "outputs": [],
   "source": [
    "listax=list(x)\n",
    "listax"
   ]
  },
  {
   "cell_type": "markdown",
   "metadata": {
    "nbpresent": {
     "id": "0e30e0d9-9c25-48b2-b0f0-ae1276e0d772"
    }
   },
   "source": [
    "***\n",
    "***\n",
    "<br>\n",
    "<div class=\"row\">\n",
    "<div class=\"span7 alert alert-info\">\n",
    "    <font size=\"5\">\n",
    "STRINGS\n",
    "    </font>\n",
    "</div>\n",
    "</div>\n",
    "\n",
    "<br>\n",
    "***\n"
   ]
  },
  {
   "cell_type": "markdown",
   "metadata": {
    "nbpresent": {
     "id": "002799da-b4ff-4b3a-a54d-e77fc5839c85"
    }
   },
   "source": [
    "---\n",
    "<br>\n",
    "<div class=\"row\">\n",
    "<div class=\"span7 alert alert-success\">\n",
    "    <font size=\"4\">\n",
    "Literales\n",
    "    </font>\n",
    "</div>\n",
    "</div>\n",
    "\n",
    "<br>\n",
    "\n",
    "\n",
    "\n"
   ]
  },
  {
   "cell_type": "code",
   "execution_count": null,
   "metadata": {
    "nbpresent": {
     "id": "169a8f4f-9cce-41d4-9701-9a3825ea4d6e"
    }
   },
   "outputs": [],
   "source": [
    "texto='Esto funciona'\n",
    "texto2='this doesn't work' #Error"
   ]
  },
  {
   "cell_type": "code",
   "execution_count": null,
   "metadata": {
    "nbpresent": {
     "id": "a08a8618-d305-41a7-927c-9e9d19a118b0"
    }
   },
   "outputs": [],
   "source": [
    "texto2=\"this doesn't work\"\n",
    "print (texto2)"
   ]
  },
  {
   "cell_type": "code",
   "execution_count": null,
   "metadata": {
    "nbpresent": {
     "id": "3be21cce-9e42-4729-9384-48c6822433c2"
    }
   },
   "outputs": [],
   "source": [
    "texto2='Solución: \"Funciona\"'\n",
    "print (texto2)"
   ]
  },
  {
   "cell_type": "code",
   "execution_count": null,
   "metadata": {
    "nbpresent": {
     "id": "4b31c881-8be9-4fcd-a2a1-a5ba8dde2ddd"
    }
   },
   "outputs": [],
   "source": [
    "texto2='this doesn\\'t work without the escape character \\\\'\n",
    "print (texto2)"
   ]
  },
  {
   "cell_type": "markdown",
   "metadata": {
    "nbpresent": {
     "id": "c64f897c-5b17-4d7d-a727-d25057f612b0"
    }
   },
   "source": [
    "---\n",
    "<br>\n",
    "<div class=\"row\">\n",
    "<div class=\"span7 alert alert-success\">\n",
    "    <font size=\"4\">\n",
    "Escape\n",
    "    </font>\n",
    "</div>\n",
    "</div>\n",
    "\n",
    "<br>\n",
    "\n"
   ]
  },
  {
   "cell_type": "markdown",
   "metadata": {
    "nbpresent": {
     "id": "89ea7e5a-9a8e-41f3-a048-4ff0f0ffbe63"
    }
   },
   "source": [
    "\n",
    "Carácter | Se imprime\n",
    "------------ | -------------\n",
    "\\' | Comilla simple\n",
    "\\\" | Comillas dobles\n",
    "\\t | Tabulador\n",
    "\\n | Nueva línea\n",
    "\\\\\\ | barra inversa"
   ]
  },
  {
   "cell_type": "markdown",
   "metadata": {
    "nbpresent": {
     "id": "2cb2dc70-4ca8-4e59-b894-ce7d1a22659e"
    }
   },
   "source": [
    "---\n",
    "<br>\n",
    "<div class=\"row\">\n",
    "<div class=\"span7 alert alert-success\">\n",
    "    <font size=\"4\">\n",
    "Métodos upper(), lower(), isupper(), islower() y otros útiles\n",
    "    </font>\n",
    "</div>\n",
    "</div>\n",
    "\n",
    "<br>\n",
    "\n"
   ]
  },
  {
   "cell_type": "code",
   "execution_count": null,
   "metadata": {
    "nbpresent": {
     "id": "b92d1c7f-7fa1-4831-9f8c-9938ea7f6890"
    }
   },
   "outputs": [],
   "source": [
    "texto3='bienvenidos al curso'\n",
    "texto3=texto3.upper()\n",
    "print (texto3)"
   ]
  },
  {
   "cell_type": "code",
   "execution_count": null,
   "metadata": {
    "nbpresent": {
     "id": "260f939b-1103-4f43-8b38-5b9e89af0163"
    }
   },
   "outputs": [],
   "source": [
    "'HOLA'.lower()"
   ]
  },
  {
   "cell_type": "code",
   "execution_count": null,
   "metadata": {
    "nbpresent": {
     "id": "6d2fa857-ecd5-4655-9d55-44b5fafa1ca8"
    }
   },
   "outputs": [],
   "source": [
    "'HOLA'.lower().islower()"
   ]
  },
  {
   "cell_type": "code",
   "execution_count": null,
   "metadata": {
    "nbpresent": {
     "id": "c8479438-630c-4c0a-8872-6678a6ce4a72"
    }
   },
   "outputs": [],
   "source": [
    "'hola'.isalpha()"
   ]
  },
  {
   "cell_type": "code",
   "execution_count": null,
   "metadata": {
    "nbpresent": {
     "id": "2166477f-59ad-4e12-94e9-a7974ee8ee4f"
    }
   },
   "outputs": [],
   "source": [
    "'hola123'.isalnum()"
   ]
  },
  {
   "cell_type": "code",
   "execution_count": null,
   "metadata": {
    "nbpresent": {
     "id": "9b6aabc9-6435-4fee-a100-b8f4091520b0"
    }
   },
   "outputs": [],
   "source": [
    "'hola123'.isalpha()"
   ]
  },
  {
   "cell_type": "code",
   "execution_count": null,
   "metadata": {
    "nbpresent": {
     "id": "04904d78-1a7e-4adf-9fd1-91b10b930218"
    }
   },
   "outputs": [],
   "source": [
    "u'123'.isdecimal()"
   ]
  },
  {
   "cell_type": "code",
   "execution_count": null,
   "metadata": {
    "nbpresent": {
     "id": "d9441bad-9146-4c30-85f8-aec0a6eb7da7"
    }
   },
   "outputs": [],
   "source": [
    "'hola qué tal'.startswith('Hola')"
   ]
  },
  {
   "cell_type": "code",
   "execution_count": null,
   "metadata": {
    "nbpresent": {
     "id": "70e027d3-8384-4a91-b79f-def61f7870e5"
    }
   },
   "outputs": [],
   "source": [
    "'descansito ya'.endswith('ya')"
   ]
  },
  {
   "cell_type": "markdown",
   "metadata": {
    "nbpresent": {
     "id": "ecf14d98-a19b-462a-9fe6-3f302f9cda2c"
    }
   },
   "source": [
    "\n",
    "---\n",
    "<br>\n",
    "<div class=\"row\">\n",
    "<div class=\"span7 alert alert-success\">\n",
    "    <font size=\"4\">\n",
    ".join() y .split()\n",
    "    </font>\n",
    "</div>\n",
    "</div>\n",
    "\n",
    "<br>\n",
    "\n",
    "\n"
   ]
  },
  {
   "cell_type": "markdown",
   "metadata": {
    "nbpresent": {
     "id": "4a1cd1b7-388a-40cb-a82a-ad00d42b7eb4"
    }
   },
   "source": [
    "**join()** es muy útil cuando tienes una lista de cadenas y quieres crear una única cadena"
   ]
  },
  {
   "cell_type": "code",
   "execution_count": null,
   "metadata": {
    "nbpresent": {
     "id": "29cd05cc-20e8-46bc-8cfb-a060740a696b"
    }
   },
   "outputs": [],
   "source": [
    "' '.join(['Estamos', 'en', 'un', 'curso'])"
   ]
  },
  {
   "cell_type": "code",
   "execution_count": null,
   "metadata": {
    "nbpresent": {
     "id": "63d209f9-a1d6-44e8-b8ab-41baf027f575"
    }
   },
   "outputs": [],
   "source": [
    "'-'.join(['Estamos', 'en', 'un', 'curso'])"
   ]
  },
  {
   "cell_type": "markdown",
   "metadata": {
    "nbpresent": {
     "id": "f945d8a9-2ba3-4a4e-9465-1149c4f31ab6"
    }
   },
   "source": [
    "**split()** es para separar una cadena y crear una lista de cadenas"
   ]
  },
  {
   "cell_type": "code",
   "execution_count": null,
   "metadata": {
    "nbpresent": {
     "id": "71d47d00-6b88-4925-8de7-c5de61c170db"
    }
   },
   "outputs": [],
   "source": [
    "'espero-que-todos-estemos-cómodos-con-el-curso'.split('-')"
   ]
  },
  {
   "cell_type": "code",
   "execution_count": null,
   "metadata": {
    "nbpresent": {
     "id": "a3c0f9ef-3c44-46d8-ab03-8093507eb188"
    }
   },
   "outputs": [],
   "source": [
    "texto5=''' Hola,\n",
    "esto es un texto\n",
    "escrito en varias\n",
    "líneas.\n",
    "\n",
    "Se tienen que poner en triples comillas (').'''"
   ]
  },
  {
   "cell_type": "code",
   "execution_count": null,
   "metadata": {
    "nbpresent": {
     "id": "ce1d83d0-44c9-4994-b1a4-32fb6df4d684"
    }
   },
   "outputs": [],
   "source": [
    "print (texto5)"
   ]
  },
  {
   "cell_type": "code",
   "execution_count": null,
   "metadata": {
    "nbpresent": {
     "id": "b357ca26-9961-43d4-ac01-849a59ce9c57"
    }
   },
   "outputs": [],
   "source": [
    "listadetexto=texto5.split('\\n')"
   ]
  },
  {
   "cell_type": "code",
   "execution_count": null,
   "metadata": {
    "nbpresent": {
     "id": "4a186cc8-033b-46b6-83cf-bc7f383e5c51"
    }
   },
   "outputs": [],
   "source": [
    "print (listadetexto)\n",
    "print (listadetexto[3])"
   ]
  },
  {
   "cell_type": "markdown",
   "metadata": {
    "nbpresent": {
     "id": "ac328f3e-4853-446a-8203-fcb76469d5e6"
    }
   },
   "source": [
    "---\n",
    "<br>\n",
    "<div class=\"row\">\n",
    "<div class=\"span7 alert alert-success\">\n",
    "    <font size=\"4\">\n",
    "        .strip(), .lstrip(), .rstrip()\n",
    "    </font>\n",
    "</div>\n",
    "</div>\n",
    "\n",
    "<br>\n"
   ]
  },
  {
   "cell_type": "markdown",
   "metadata": {
    "nbpresent": {
     "id": "12588fec-19f5-429e-840b-139fc5d11a2c"
    }
   },
   "source": [
    "Son métodos útiles para quitar los espacios de antes y después de los texto."
   ]
  },
  {
   "cell_type": "code",
   "execution_count": null,
   "metadata": {
    "nbpresent": {
     "id": "0da2bb13-db48-41a0-84c0-5c460887318d"
    }
   },
   "outputs": [],
   "source": [
    "texto7='        Linea con espacios incómodos      '"
   ]
  },
  {
   "cell_type": "code",
   "execution_count": null,
   "metadata": {
    "nbpresent": {
     "id": "132cf2bd-435b-4eaa-b51a-0a20be9f9f30"
    }
   },
   "outputs": [],
   "source": [
    "print (texto7)\n",
    "print (texto7.strip())\n",
    "print (texto7.lstrip())"
   ]
  },
  {
   "cell_type": "markdown",
   "metadata": {
    "nbpresent": {
     "id": "ff05834a-b281-4c0f-98b4-82a992f6e8d9"
    }
   },
   "source": [
    "Lo mismo que hemos visto con las listas podemos hacerlo con una variable de tipo **string**"
   ]
  },
  {
   "cell_type": "code",
   "execution_count": null,
   "metadata": {
    "nbpresent": {
     "id": "164f963e-d199-472e-9067-3ce15bff6f3a"
    }
   },
   "outputs": [],
   "source": [
    "x='Madrid'\n",
    "x[0]"
   ]
  },
  {
   "cell_type": "code",
   "execution_count": null,
   "metadata": {
    "nbpresent": {
     "id": "98727027-76a2-4533-b653-d6cd782ac2be"
    }
   },
   "outputs": [],
   "source": [
    "x[-2]"
   ]
  },
  {
   "cell_type": "code",
   "execution_count": null,
   "metadata": {
    "nbpresent": {
     "id": "7b8a3ff9-6102-4111-b67b-ae6a8073cdca"
    }
   },
   "outputs": [],
   "source": [
    "'a' in x"
   ]
  },
  {
   "cell_type": "code",
   "execution_count": null,
   "metadata": {
    "nbpresent": {
     "id": "264b3143-0452-49e2-9bc3-e3bf184db404"
    }
   },
   "outputs": [],
   "source": [
    "'n' in x"
   ]
  },
  {
   "cell_type": "code",
   "execution_count": null,
   "metadata": {
    "nbpresent": {
     "id": "918884b2-2e9f-4138-8f9b-938645b93567"
    }
   },
   "outputs": [],
   "source": [
    "'dri' in x"
   ]
  },
  {
   "cell_type": "code",
   "execution_count": null,
   "metadata": {
    "nbpresent": {
     "id": "9a5fa5a4-f531-4401-8107-b6e35d4ad886"
    }
   },
   "outputs": [],
   "source": [
    "for i in x:\n",
    "    print ('____' + i + '____')\n",
    "    "
   ]
  },
  {
   "cell_type": "markdown",
   "metadata": {
    "nbpresent": {
     "id": "cc5515ff-1bf6-492c-a7d1-2d3710b70386"
    }
   },
   "source": [
    "La diferencia es que esta variable es inmutable. No se pueden cambiar los elementos"
   ]
  },
  {
   "cell_type": "code",
   "execution_count": null,
   "metadata": {
    "nbpresent": {
     "id": "d0959046-f88d-4ad0-aa99-55687287eee8"
    }
   },
   "outputs": [],
   "source": [
    "x[3]\n"
   ]
  },
  {
   "cell_type": "code",
   "execution_count": null,
   "metadata": {
    "nbpresent": {
     "id": "1343e148-6c2a-46a1-9215-607fb44c03ed"
    }
   },
   "outputs": [],
   "source": [
    "x[3]='f'"
   ]
  },
  {
   "cell_type": "markdown",
   "metadata": {
    "nbpresent": {
     "id": "faecc5f9-2cf3-4a9d-af63-88fc57a4323e"
    }
   },
   "source": [
    "La única manera de cambiar los elementos de una variable **string** es haciendo un 'slicing' en otra variable"
   ]
  },
  {
   "cell_type": "code",
   "execution_count": null,
   "metadata": {
    "nbpresent": {
     "id": "86d97083-6c93-4fc3-b450-186e72c343fb"
    }
   },
   "outputs": [],
   "source": [
    "y=x[:3]+'f'+x[4:]\n",
    "y"
   ]
  },
  {
   "cell_type": "code",
   "execution_count": null,
   "metadata": {},
   "outputs": [],
   "source": [
    "a=\"hola\"\n",
    "a[2]"
   ]
  },
  {
   "cell_type": "code",
   "execution_count": null,
   "metadata": {},
   "outputs": [],
   "source": [
    "a[1:3]"
   ]
  },
  {
   "cell_type": "code",
   "execution_count": null,
   "metadata": {},
   "outputs": [],
   "source": [
    "for letra in a:\n",
    "    print(letra)"
   ]
  },
  {
   "cell_type": "markdown",
   "metadata": {},
   "source": [
    "<li>Las cadenas tienen algunos métodos especiales como join(), upper(), split(), ... </li>"
   ]
  },
  {
   "cell_type": "code",
   "execution_count": null,
   "metadata": {},
   "outputs": [],
   "source": [
    "\",\".join(a)"
   ]
  },
  {
   "cell_type": "code",
   "execution_count": null,
   "metadata": {},
   "outputs": [],
   "source": [
    "a.upper()"
   ]
  },
  {
   "cell_type": "code",
   "execution_count": null,
   "metadata": {},
   "outputs": [],
   "source": [
    "\"hola que tal\".split()"
   ]
  },
  {
   "cell_type": "code",
   "execution_count": null,
   "metadata": {},
   "outputs": [],
   "source": [
    "\"hola, ¿cómo estás?\".split(',')"
   ]
  },
  {
   "cell_type": "markdown",
   "metadata": {
    "nbpresent": {
     "id": "f31e1375-e084-43dc-aa78-a2cbf63aafca"
    }
   },
   "source": [
    "---\n",
    "<br>\n",
    "<div class=\"row\">\n",
    "<div class=\"span7 alert alert-danger\">\n",
    "    <font size=\"4\">\n",
    "Ejercicios de listas y tuplas\n",
    "    </font>\n",
    "</div>\n",
    "</div>\n",
    "\n",
    "<br>\n"
   ]
  },
  {
   "cell_type": "markdown",
   "metadata": {
    "nbpresent": {
     "id": "129ea7e8-59c0-4b03-871a-4fdbfb6fb69f"
    }
   },
   "source": [
    "Escribe un programa que acepte una secuencia de números separados por coma. Crea una lista y una tupla con esos números.\n",
    "\n",
    "Ejemplo: Si introducen 23,45,67,12\n",
    "\n",
    "El resultado sería:\n",
    "\n",
    "['23','45','67','12']\n",
    "('23','45','67','12')\n",
    "\n"
   ]
  },
  {
   "cell_type": "markdown",
   "metadata": {
    "nbpresent": {
     "id": "bc50a2ad-a1ab-4634-9506-e6e7cb65124a"
    }
   },
   "source": [
    "---\n",
    "Escribe un programa que acepte una secuencia de palabras separadas por coma y devuelva las mismas palabras ordenadas alfabeticamente y separadas por coma.\n",
    "\n",
    "Ejemplo: Si introducen  bebe,hola,bolsa,mundo\n",
    "\n",
    "bebe,bolsa,hola,mundo"
   ]
  },
  {
   "cell_type": "markdown",
   "metadata": {
    "nbpresent": {
     "id": "2174e6f8-9d42-4bac-8fea-18f421822724"
    }
   },
   "source": [
    "---\n",
    "Escribe un programa que acepte una frase y cuente el número de letras y de dígitos:\n",
    "\n",
    "Ejemplo: Introducen--> Hola mundo! 123\n",
    "\n",
    "Letras:9\n",
    "Dígitos:3"
   ]
  },
  {
   "cell_type": "markdown",
   "metadata": {
    "nbpresent": {
     "id": "2b281da4-735a-4c33-a30c-c6ffb1e9c24c"
    }
   },
   "source": [
    "---\n",
    "Escribe una función que entrega un número con los elementos invertidos\n",
    "\n",
    "Ejemplo: Introducen--> 123456789. Resultado ---> 987654321"
   ]
  },
  {
   "cell_type": "markdown",
   "metadata": {
    "nbpresent": {
     "id": "9540766c-9c69-4627-a1b8-63f998719aa5"
    }
   },
   "source": [
    "<br>\n",
    "<div class=\"row\">\n",
    "<div class=\"span7 alert alert-info\">\n",
    "    <font size=\"5\">\n",
    "Funciones\n",
    "    </font>\n",
    "</div>\n",
    "</div>\n",
    "\n",
    "<br>\n"
   ]
  },
  {
   "cell_type": "markdown",
   "metadata": {},
   "source": [
    "<li>La palabra clave <b>def</b> permite definir funciones</li>\n",
    "<li>Al igual que las estructuras de control la linea de definición termina con : y el cuerpo de la función tiene que ir indentado</li>"
   ]
  },
  {
   "cell_type": "code",
   "execution_count": null,
   "metadata": {},
   "outputs": [],
   "source": [
    "def nombre(parámetros):\n",
    "    bloque"
   ]
  },
  {
   "cell_type": "markdown",
   "metadata": {},
   "source": [
    "<li>Puede haber 0, 1 o más parámetros (los\n",
    "paréntesis son siempre necesarios). Si hay más\n",
    "de uno, se separan con comas</li>"
   ]
  },
  {
   "cell_type": "code",
   "execution_count": null,
   "metadata": {},
   "outputs": [],
   "source": [
    "def suma(a, b):\n",
    "    return a+b\n",
    "\n"
   ]
  },
  {
   "cell_type": "markdown",
   "metadata": {},
   "source": [
    "Invocación de funciones\n",
    "\n",
    "Se usa el nombre con los argumentos\n",
    "separados por comas y encerrados entre\n",
    "paréntesis:\n",
    "<br>"
   ]
  },
  {
   "cell_type": "code",
   "execution_count": null,
   "metadata": {},
   "outputs": [],
   "source": [
    "suma(1,2+2)"
   ]
  },
  {
   "cell_type": "markdown",
   "metadata": {},
   "source": [
    "Ojo: en la práctica podéis considerar que: <br>\n",
    "– los escalares y cadenas se pasan por valor<br>\n",
    "– otras estructuras se pasan por referencia =>\n",
    "¡pero ojo con la asignación!"
   ]
  },
  {
   "cell_type": "code",
   "execution_count": null,
   "metadata": {},
   "outputs": [],
   "source": [
    "def f(unentero, unalista):\n",
    "    unentero += 1\n",
    "    unalista[1] = unentero\n",
    "    print(\"dentro:\", unentero, unalista)\n",
    "\n",
    "milista = [1, 2, 3]\n",
    "mientero = 10\n",
    "f(mientero, milista)\n",
    "print(\"fuera:\", mientero, milista)\n"
   ]
  },
  {
   "cell_type": "code",
   "execution_count": null,
   "metadata": {},
   "outputs": [],
   "source": [
    "def f(unentero, unalista):\n",
    "    unentero += 1\n",
    "    unalista = [unalista[0], unentero, unalista[2]]\n",
    "    print(\"dentro:\", unentero, unalista)\n",
    "milista = [1, 2, 3]\n",
    "mientero = 10\n",
    "f(mientero, milista)\n",
    "print(\"fuera:\", mientero, milista)"
   ]
  },
  {
   "cell_type": "markdown",
   "metadata": {
    "nbpresent": {
     "id": "f31e1375-e084-43dc-aa78-a2cbf63aafca"
    }
   },
   "source": [
    "\n",
    "<br>\n",
    "<div class=\"row\">\n",
    "<div class=\"span7 alert alert-danger\">\n",
    "    <font size=\"4\">\n",
    "Ejercicios de funciones\n",
    "    </font>\n",
    "</div>\n",
    "</div>\n",
    "\n",
    "<br>\n"
   ]
  },
  {
   "cell_type": "markdown",
   "metadata": {},
   "source": [
    "¿Qué escribe este programa?"
   ]
  },
  {
   "cell_type": "code",
   "execution_count": null,
   "metadata": {},
   "outputs": [],
   "source": [
    "def myfunction(a, b):\n",
    "    a += 1\n",
    "    b.append(0)\n",
    "x = 1\n",
    "y = [2, 1]\n",
    "myfunction(x, y)\n",
    "print(x, y)"
   ]
  },
  {
   "cell_type": "markdown",
   "metadata": {
    "nbpresent": {
     "id": "155f5bb7-17b9-4867-8ee1-1e667f356690"
    }
   },
   "source": [
    "---\n",
    "<br>\n",
    "<div class=\"row\">\n",
    "<div class=\"span7 alert alert-success\">\n",
    "    <font size=\"4\">\n",
    "RETURN\n",
    "    </font>\n",
    "</div>\n",
    "</div>\n",
    "\n",
    "<br>"
   ]
  },
  {
   "cell_type": "markdown",
   "metadata": {},
   "source": [
    "#### return\n",
    "• Interrumpe inmediatamente la ejecución de\n",
    "una llamada a función.<br>\n",
    "• Con una expresión, devuelve ese valor como\n",
    "resultado de la función.<br>\n",
    "• Las funciones sin return (o con return sin\n",
    "expresión) devuelven None.\n",
    "\n"
   ]
  },
  {
   "cell_type": "markdown",
   "metadata": {},
   "source": [
    "Se puede devolver más de un valor gracias a\n",
    "las tuplas:"
   ]
  },
  {
   "cell_type": "code",
   "execution_count": null,
   "metadata": {},
   "outputs": [],
   "source": [
    "def minymax(lista):\n",
    "    return min(lista), max(lista)\n",
    "a, b = minymax([1, 10, 2, 20, 3, 0])\n",
    "print(a, b)"
   ]
  },
  {
   "cell_type": "code",
   "execution_count": null,
   "metadata": {},
   "outputs": [],
   "source": [
    "def mifuncion(a, b):\n",
    "    a = 2 * a\n",
    "    b[0] = 10\n",
    "    b.append(0)\n",
    "    b = list(range(3))\n",
    "    return b*a\n",
    "x = 1\n",
    "y = list(range(6))\n",
    "print(x, y)\n",
    "print(mifuncion(x, y))\n",
    "print(x, y)"
   ]
  },
  {
   "cell_type": "markdown",
   "metadata": {},
   "source": [
    "Parámetros con valor por defecto<br>\n",
    "• Podemos omitir parámetros en la llamada\n",
    "siempre que hayamos declarado su valor por\n",
    "defecto"
   ]
  },
  {
   "cell_type": "code",
   "execution_count": null,
   "metadata": {},
   "outputs": [],
   "source": [
    "def multiplo(value, factor=2):\n",
    "    return value * factor\n",
    "print(multiplo(3, 3), multiplo(3)) # 9 6\n"
   ]
  },
  {
   "cell_type": "code",
   "execution_count": null,
   "metadata": {
    "nbpresent": {
     "id": "d66209d4-325f-4486-ba66-459d42e4db7d"
    }
   },
   "outputs": [],
   "source": [
    "import random\n",
    "def pregunta(numRes):\n",
    "\n",
    "    if numRes == 1:\n",
    "        return 'Sigue buscando'\n",
    "    elif numRes == 2:\n",
    "        return 'Esta vez no'\n",
    "    elif numRes == 3:\n",
    "        return 'Que va'\n",
    "    elif numRes == 4:\n",
    "        return 'Creo que no'\n",
    "    elif numRes == 5:\n",
    "        return '¡Sí!'\n",
    "    elif numRes == 6:\n",
    "        return 'Pregunta de nuevo'\n",
    "    elif numRes == 7:\n",
    "        return 'Nada de nada'\n",
    "    elif numRes == 8:\n",
    "        return 'Uff, nop'\n",
    "    elif numRes == 9:\n",
    "        return 'Lo dudo'\n",
    "r = random.randint(1, 9)\n",
    "suerte = pregunta(r)\n",
    "print(suerte)"
   ]
  },
  {
   "cell_type": "markdown",
   "metadata": {
    "nbpresent": {
     "id": "155f5bb7-17b9-4867-8ee1-1e667f356690"
    }
   },
   "source": [
    "---\n",
    "<br>\n",
    "<div class=\"row\">\n",
    "<div class=\"span7 alert alert-success\">\n",
    "    <font size=\"4\">\n",
    "Funciones y parámetros\n",
    "    </font>\n",
    "</div>\n",
    "</div>\n",
    "\n",
    "<br>"
   ]
  },
  {
   "cell_type": "markdown",
   "metadata": {},
   "source": [
    "Número variable de parámetros"
   ]
  },
  {
   "cell_type": "code",
   "execution_count": null,
   "metadata": {},
   "outputs": [],
   "source": [
    "def fn(*args):\n",
    "    print('---')\n",
    "    if len(args) > 0:\n",
    "        print ('Hay {} parámetro/s:'.format(len(args)))\n",
    "        for arg in args: print(' ', arg)\n",
    "    else:\n",
    "        print('No hay parámetros')\n",
    "\n",
    "fn(10)\n",
    "fn(10, 20)\n",
    "fn()\n",
    "p = (10, 20)\n",
    "fn(p)\n",
    "fn(*p)"
   ]
  },
  {
   "cell_type": "markdown",
   "metadata": {},
   "source": [
    "Número variable de\n",
    "parámetros con nombre"
   ]
  },
  {
   "cell_type": "code",
   "execution_count": null,
   "metadata": {},
   "outputs": [],
   "source": [
    "def fn(**kw):\n",
    "    print('---')\n",
    "    if len(kw) > 0:\n",
    "        print('Hay {} parámetro/s:'.format(len(kw)))\n",
    "        for key in kw:\n",
    "            print(' {} -> {}'.format(key, kw[key]))\n",
    "    else:\n",
    "        print('No hay parámetros')\n",
    "fn(a=10)\n",
    "fn(x=10, y=20)\n",
    "fn()\n",
    "dic = {'p1' : 123, 'p2' : 'hola'}\n",
    "fn(**dic)\n",
    "57"
   ]
  },
  {
   "cell_type": "code",
   "execution_count": null,
   "metadata": {},
   "outputs": [],
   "source": [
    "def sumatorio(a, b, f):\n",
    "    s = 0\n",
    "    for i in range(a, b+1): s+= f(i)\n",
    "    return s\n",
    "def cuadrado(x):\n",
    "    return x*x\n",
    "def cubo(x):\n",
    "    return x*x*x\n",
    "funciones = [cuadrado, cubo]\n",
    "for funcion in funciones:\n",
    "    print(sumatorio(1, 3, funcion), end=\" \")"
   ]
  },
  {
   "cell_type": "markdown",
   "metadata": {
    "nbpresent": {
     "id": "155f5bb7-17b9-4867-8ee1-1e667f356690"
    }
   },
   "source": [
    "---\n",
    "<br>\n",
    "<div class=\"row\">\n",
    "<div class=\"span7 alert alert-success\">\n",
    "    <font size=\"4\">\n",
    "Funciones anónimas\n",
    "    </font>\n",
    "</div>\n",
    "</div>\n",
    "\n",
    "<br>"
   ]
  },
  {
   "cell_type": "markdown",
   "metadata": {},
   "source": [
    "\n",
    "• Podemos definir funciones sencillas sin nombre <br>\n",
    "```\n",
    "lambda parámetros: expresión\n",
    "```\n",
    "<br>\n",
    "• Ejemplo:"
   ]
  },
  {
   "cell_type": "code",
   "execution_count": null,
   "metadata": {},
   "outputs": [],
   "source": [
    "def sumatorio(a, b, f):\n",
    "    s = 0\n",
    "    for i in range(a, b+1): s += f(i)\n",
    "    return s\n",
    "def cuadrado(x):\n",
    "    return x*x\n",
    "print(sumatorio(1, 3, cuadrado))\n",
    "print(sumatorio(1, 3, lambda x: x*x))"
   ]
  },
  {
   "cell_type": "code",
   "execution_count": null,
   "metadata": {},
   "outputs": [],
   "source": [
    "names = ['Juan', 'Ana', 'Luisa’, Luis', 'Adriana']\n",
    "print(sorted(names))\n",
    "print(sorted(names, key = lambda s: len(s)))\n",
    "print(sorted(names, key = lambda s: s[0]))"
   ]
  },
  {
   "cell_type": "markdown",
   "metadata": {
    "nbpresent": {
     "id": "81f2fb1a-747e-407a-bcbf-39f06893a3fb"
    }
   },
   "source": [
    "---\n",
    "<br>\n",
    "<div class=\"row\">\n",
    "<div class=\"span7 alert alert-success\">\n",
    "    <font size=\"4\">\n",
    "EXCEPCIONES\n",
    "    </font>\n",
    "</div>\n",
    "</div>\n",
    "\n",
    "<br>"
   ]
  },
  {
   "cell_type": "markdown",
   "metadata": {
    "nbpresent": {
     "id": "829f7c18-d5ad-4a2b-a8c0-23d5bc1b8cbf"
    }
   },
   "source": [
    "Para evitar que Python se bloquee cuando hay un error, podemos capturar la excepciones y tratar los errores para que el programa continúe corriendo. La manera de manejar los errores es con las claúsulas **try** y **except**\n",
    "\n",
    "```\n",
    "try:\n",
    "    bloque\n",
    "except TipodeError:\n",
    "    bloque2\n",
    "```"
   ]
  },
  {
   "cell_type": "code",
   "execution_count": null,
   "metadata": {
    "nbpresent": {
     "id": "3ed0b7d9-1159-4951-b081-7e8f9d415e0e"
    }
   },
   "outputs": [],
   "source": [
    "def divcien(divididoEntre):\n",
    "    return 100/divididoEntre\n",
    "divcien(5)"
   ]
  },
  {
   "cell_type": "code",
   "execution_count": null,
   "metadata": {},
   "outputs": [],
   "source": [
    "divcien(2)"
   ]
  },
  {
   "cell_type": "code",
   "execution_count": null,
   "metadata": {
    "nbpresent": {
     "id": "acd09804-14f6-44fe-b87b-7c8e0817ef01"
    }
   },
   "outputs": [],
   "source": [
    "divcien(0)\n"
   ]
  },
  {
   "cell_type": "code",
   "execution_count": null,
   "metadata": {},
   "outputs": [],
   "source": [
    "def divcien(divididoEntre):\n",
    "    try:\n",
    "        return 100/divididoEntre\n",
    "    except ZeroDivisionError:\n",
    "        print('Error: No se puede dividir entre 0')"
   ]
  },
  {
   "cell_type": "code",
   "execution_count": null,
   "metadata": {},
   "outputs": [],
   "source": [
    "divcien(0)\n"
   ]
  },
  {
   "cell_type": "code",
   "execution_count": null,
   "metadata": {
    "nbpresent": {
     "id": "5ec6f94d-cdd2-4194-a456-f757e962291b"
    }
   },
   "outputs": [],
   "source": [
    "def divcien(divididoEntre):\n",
    "    try:\n",
    "        return 100/divididoEntre\n",
    "    except ZeroDivisionError:\n",
    "        return 0\n",
    "       # print('Error: No se puede dividir entre 0')"
   ]
  },
  {
   "cell_type": "code",
   "execution_count": null,
   "metadata": {},
   "outputs": [],
   "source": [
    "divcien(0)"
   ]
  },
  {
   "cell_type": "code",
   "execution_count": null,
   "metadata": {
    "nbpresent": {
     "id": "845ce32a-f747-4f3b-a4e8-6d50f3511b8d"
    }
   },
   "outputs": [],
   "source": [
    "divcien(25)\n"
   ]
  },
  {
   "cell_type": "code",
   "execution_count": null,
   "metadata": {
    "nbpresent": {
     "id": "017d16cb-a795-4d4e-960e-451c4b225cc4"
    }
   },
   "outputs": [],
   "source": [
    "divcien(200)\n"
   ]
  }
 ],
 "metadata": {
  "anaconda-cloud": {},
  "kernelspec": {
   "display_name": "Python 3",
   "language": "python",
   "name": "python3"
  },
  "language_info": {
   "codemirror_mode": {
    "name": "ipython",
    "version": 3
   },
   "file_extension": ".py",
   "mimetype": "text/x-python",
   "name": "python",
   "nbconvert_exporter": "python",
   "pygments_lexer": "ipython3",
   "version": "3.7.4"
  },
  "nbpresent": {
   "slides": {
    "00be882d-c3a8-4ddb-a3f9-be22eaac5a06": {
     "id": "00be882d-c3a8-4ddb-a3f9-be22eaac5a06",
     "prev": "f0b19243-ee7b-4283-af43-27ca86bb7398",
     "regions": {
      "01cc19ba-85cb-446d-913d-12a506613684": {
       "attrs": {
        "height": 0.8,
        "width": 0.8,
        "x": 0.1,
        "y": 0.1
       },
       "content": {
        "cell": "f98034ff-afe6-4ac7-9281-dd22ff277b45",
        "part": "whole"
       },
       "id": "01cc19ba-85cb-446d-913d-12a506613684"
      }
     }
    },
    "0265defa-6a6d-4b6c-87d4-1cd4beb00457": {
     "id": "0265defa-6a6d-4b6c-87d4-1cd4beb00457",
     "prev": "7ca42bf0-7c65-4a97-8eb5-b4a898e14deb",
     "regions": {
      "110cce0f-2b0c-4d67-b384-8eae45d9d709": {
       "attrs": {
        "height": 0.8,
        "width": 0.8,
        "x": 0.1,
        "y": 0.1
       },
       "content": {
        "cell": "3d46784a-0977-4765-bddc-aa0e75c0bbe8",
        "part": "whole"
       },
       "id": "110cce0f-2b0c-4d67-b384-8eae45d9d709"
      }
     }
    },
    "03df22d2-fb4d-47a1-9d0d-694a01fbbf3d": {
     "id": "03df22d2-fb4d-47a1-9d0d-694a01fbbf3d",
     "prev": "fc89a1d4-3035-48a7-bf7f-fa155afbd0ea",
     "regions": {
      "983f06f1-10ba-41d7-9318-0de72ba2dadc": {
       "attrs": {
        "height": 0.8,
        "width": 0.8,
        "x": 0.1,
        "y": 0.1
       },
       "content": {
        "cell": "d66209d4-325f-4486-ba66-459d42e4db7d",
        "part": "whole"
       },
       "id": "983f06f1-10ba-41d7-9318-0de72ba2dadc"
      }
     }
    },
    "044b9a92-37d2-4834-8ad6-6ed1f24d13ea": {
     "id": "044b9a92-37d2-4834-8ad6-6ed1f24d13ea",
     "prev": "7d39fb8d-7079-4892-b775-190ec2fdc152",
     "regions": {
      "3eac7d38-a4b1-49aa-b9b2-187fa3c03bd3": {
       "attrs": {
        "height": 0.8,
        "width": 0.8,
        "x": 0.1,
        "y": 0.1
       },
       "content": {
        "cell": "ebba145f-fc96-4db3-ba6f-ac45215a9d72",
        "part": "whole"
       },
       "id": "3eac7d38-a4b1-49aa-b9b2-187fa3c03bd3"
      }
     }
    },
    "04b09f56-1cf6-4692-a506-8faa2ffe5e7a": {
     "id": "04b09f56-1cf6-4692-a506-8faa2ffe5e7a",
     "prev": "b7c7eea7-b459-49aa-ada6-b8f10fa8b3d8",
     "regions": {
      "ff9cfcd4-3459-4fcc-acad-3814b1b4032f": {
       "attrs": {
        "height": 0.8,
        "width": 0.8,
        "x": 0.1,
        "y": 0.1
       },
       "content": {
        "cell": "ba7b74b4-f099-4361-8b0f-de569f9d5308",
        "part": "whole"
       },
       "id": "ff9cfcd4-3459-4fcc-acad-3814b1b4032f"
      }
     }
    },
    "04c7dc6e-56a6-4b37-96e7-4d044d3b50c9": {
     "id": "04c7dc6e-56a6-4b37-96e7-4d044d3b50c9",
     "prev": "0aa06406-b34c-4fa3-92e2-d44fe5d6ce06",
     "regions": {
      "a5a6aa42-f772-4512-a902-9838f55d6c53": {
       "attrs": {
        "height": 0.8,
        "width": 0.8,
        "x": 0.1,
        "y": 0.1
       },
       "content": {
        "cell": "99b5457b-87a8-4148-92b5-302fc5fb9289",
        "part": "whole"
       },
       "id": "a5a6aa42-f772-4512-a902-9838f55d6c53"
      }
     }
    },
    "04ea9868-81d4-4011-9be6-9d66d0e6576b": {
     "id": "04ea9868-81d4-4011-9be6-9d66d0e6576b",
     "prev": "e54fd3b8-1b0c-436b-a32b-79fd4e78499b",
     "regions": {
      "adc5ba46-ed5f-4e11-aac7-0b3ff80890e9": {
       "attrs": {
        "height": 0.8,
        "width": 0.8,
        "x": 0.1,
        "y": 0.1
       },
       "content": {
        "cell": "f945d8a9-2ba3-4a4e-9465-1149c4f31ab6",
        "part": "whole"
       },
       "id": "adc5ba46-ed5f-4e11-aac7-0b3ff80890e9"
      }
     }
    },
    "0544fccb-f049-4a7f-a0f0-29739d552df1": {
     "id": "0544fccb-f049-4a7f-a0f0-29739d552df1",
     "prev": "2cc2849d-625c-445a-a381-1e397bb36da9",
     "regions": {
      "2329d4ae-bad9-4b77-9505-a49234b401c4": {
       "attrs": {
        "height": 0.8,
        "width": 0.8,
        "x": 0.1,
        "y": 0.1
       },
       "content": {
        "cell": "a08a8618-d305-41a7-927c-9e9d19a118b0",
        "part": "whole"
       },
       "id": "2329d4ae-bad9-4b77-9505-a49234b401c4"
      }
     }
    },
    "055851da-6d2b-43f8-a5f6-7a9f010d4891": {
     "id": "055851da-6d2b-43f8-a5f6-7a9f010d4891",
     "prev": "cba9e033-1b04-446a-ba60-f773dfdd98a1",
     "regions": {
      "05ee19e5-fb03-4d5a-a78c-612235c3c84a": {
       "attrs": {
        "height": 0.8,
        "width": 0.8,
        "x": 0.1,
        "y": 0.1
       },
       "content": {
        "cell": "0db30a8c-de91-4b7c-9521-76a3802c3118",
        "part": "whole"
       },
       "id": "05ee19e5-fb03-4d5a-a78c-612235c3c84a"
      }
     }
    },
    "05b3a90c-4708-44ca-a2a1-ef19f8867e27": {
     "id": "05b3a90c-4708-44ca-a2a1-ef19f8867e27",
     "prev": "b2b57202-df03-4f78-a14c-7323e58f9aee",
     "regions": {
      "28128155-67a8-408b-aa02-bdbc45cb65eb": {
       "attrs": {
        "height": 0.8,
        "width": 0.8,
        "x": 0.1,
        "y": 0.1
       },
       "content": {
        "cell": "6d2fa857-ecd5-4655-9d55-44b5fafa1ca8",
        "part": "whole"
       },
       "id": "28128155-67a8-408b-aa02-bdbc45cb65eb"
      }
     }
    },
    "0620b656-c148-4cab-839f-ecd2b977bebb": {
     "id": "0620b656-c148-4cab-839f-ecd2b977bebb",
     "prev": "8e005a87-fd21-4c3b-ba01-7067442fb494",
     "regions": {
      "122ba12e-7ede-438a-9188-74d47b3c543f": {
       "attrs": {
        "height": 0.8,
        "width": 0.8,
        "x": 0.1,
        "y": 0.1
       },
       "content": {
        "cell": "0849563e-96dd-4769-9c1d-a58bea72500d",
        "part": "whole"
       },
       "id": "122ba12e-7ede-438a-9188-74d47b3c543f"
      }
     }
    },
    "07414749-a649-454b-82d1-2bbfef63501b": {
     "id": "07414749-a649-454b-82d1-2bbfef63501b",
     "prev": "860422cb-adc3-428b-96e7-4c9bf6f19dca",
     "regions": {
      "19e15eae-06d7-4412-849a-dd58a3055124": {
       "attrs": {
        "height": 0.8,
        "width": 0.8,
        "x": 0.1,
        "y": 0.1
       },
       "content": {
        "cell": "f2ddbbf4-36fe-4981-af95-efc26571a319",
        "part": "whole"
       },
       "id": "19e15eae-06d7-4412-849a-dd58a3055124"
      }
     }
    },
    "082bcf54-7cb7-489b-8fb1-1a4dc717ea34": {
     "id": "082bcf54-7cb7-489b-8fb1-1a4dc717ea34",
     "prev": "f596c99c-cd01-494b-a8d4-2c817d222145",
     "regions": {
      "df52479e-8374-4bc0-90a4-4933a8f3f137": {
       "attrs": {
        "height": 0.8,
        "width": 0.8,
        "x": 0.1,
        "y": 0.1
       },
       "content": {
        "cell": "7b8900b6-a8e4-466d-b8fc-153b5406b7b6",
        "part": "whole"
       },
       "id": "df52479e-8374-4bc0-90a4-4933a8f3f137"
      }
     }
    },
    "082cdb33-3145-4d23-be04-9fa673845eb8": {
     "id": "082cdb33-3145-4d23-be04-9fa673845eb8",
     "prev": "ace104bb-861f-4049-b9b8-c0d66cfe0c4b",
     "regions": {
      "cb6fda26-8a38-4461-b996-7e2a345df3da": {
       "attrs": {
        "height": 0.8,
        "width": 0.8,
        "x": 0.1,
        "y": 0.1
       },
       "content": {
        "cell": "d74885b5-af90-477e-b82e-8dccac1a33a0",
        "part": "whole"
       },
       "id": "cb6fda26-8a38-4461-b996-7e2a345df3da"
      }
     }
    },
    "094f2972-3322-4baa-8c08-0c2b46292484": {
     "id": "094f2972-3322-4baa-8c08-0c2b46292484",
     "prev": "a59a7ca4-49de-4bd4-86e0-1ce79dd74e5b",
     "regions": {
      "4a462c5f-c760-4e64-8897-2cb47d10f1cf": {
       "attrs": {
        "height": 0.8,
        "width": 0.8,
        "x": 0.1,
        "y": 0.1
       },
       "content": {
        "cell": "cc7c3d00-af1f-4346-9e18-eeaf2edb2a57",
        "part": "whole"
       },
       "id": "4a462c5f-c760-4e64-8897-2cb47d10f1cf"
      }
     }
    },
    "09c63247-945f-4e9b-bc24-37bac08de575": {
     "id": "09c63247-945f-4e9b-bc24-37bac08de575",
     "prev": "3da8b1f5-32e1-4d98-a019-d083849eddd9",
     "regions": {
      "41d91e83-593e-44c9-b8be-811b9ffcc627": {
       "attrs": {
        "height": 0.8,
        "width": 0.8,
        "x": 0.1,
        "y": 0.1
       },
       "content": {
        "cell": "845ce32a-f747-4f3b-a4e8-6d50f3511b8d",
        "part": "whole"
       },
       "id": "41d91e83-593e-44c9-b8be-811b9ffcc627"
      }
     }
    },
    "0a33031b-c693-4edf-84fe-da69e0d9485e": {
     "id": "0a33031b-c693-4edf-84fe-da69e0d9485e",
     "prev": "34dcba9a-d158-424e-97b6-198d7dc4ad23",
     "regions": {
      "c88b4fde-c12d-431d-a5e2-d359b080e6af": {
       "attrs": {
        "height": 0.8,
        "width": 0.8,
        "x": 0.1,
        "y": 0.1
       },
       "content": {
        "cell": "4a186cc8-033b-46b6-83cf-bc7f383e5c51",
        "part": "whole"
       },
       "id": "c88b4fde-c12d-431d-a5e2-d359b080e6af"
      }
     }
    },
    "0a9559cf-f6e3-4934-a2a1-05d893c6781d": {
     "id": "0a9559cf-f6e3-4934-a2a1-05d893c6781d",
     "prev": "4ab2f4d2-a8b0-4431-be1e-62cfbc0c8e62",
     "regions": {
      "2890b3ac-0f37-4a63-96e3-30cbbbf30fb4": {
       "attrs": {
        "height": 0.8,
        "width": 0.8,
        "x": 0.1,
        "y": 0.1
       },
       "content": {
        "cell": "f58e8bd4-17e0-4621-8db2-375a2504aa77",
        "part": "whole"
       },
       "id": "2890b3ac-0f37-4a63-96e3-30cbbbf30fb4"
      }
     }
    },
    "0aa06406-b34c-4fa3-92e2-d44fe5d6ce06": {
     "id": "0aa06406-b34c-4fa3-92e2-d44fe5d6ce06",
     "prev": "1a7124e8-f637-455f-ad49-d3c6135523f3",
     "regions": {
      "4c1ae4ad-fef6-478b-98d4-cd445aad09af": {
       "attrs": {
        "height": 0.8,
        "width": 0.8,
        "x": 0.1,
        "y": 0.1
       },
       "content": {
        "cell": "1055304d-8979-4c0d-9bac-b19263a88d91",
        "part": "whole"
       },
       "id": "4c1ae4ad-fef6-478b-98d4-cd445aad09af"
      }
     }
    },
    "0ab6c8ca-09b9-4530-9579-9cc505d57f7e": {
     "id": "0ab6c8ca-09b9-4530-9579-9cc505d57f7e",
     "prev": "a4f3d1cf-0c4e-480d-87b8-b1b38a493f3d",
     "regions": {
      "6d572b98-3331-4908-8927-56ac99314301": {
       "attrs": {
        "height": 0.8,
        "width": 0.8,
        "x": 0.1,
        "y": 0.1
       },
       "content": {
        "cell": "8fc374cf-b0a6-40bc-b950-b4b0e83ae858",
        "part": "whole"
       },
       "id": "6d572b98-3331-4908-8927-56ac99314301"
      }
     }
    },
    "0ae08786-e1a3-4c8a-a29e-507998b617e4": {
     "id": "0ae08786-e1a3-4c8a-a29e-507998b617e4",
     "prev": "f85f8c71-4aa0-4ee8-a117-d6ef4b0cf56b",
     "regions": {
      "3447de13-4bbc-4547-9e7f-254a551ab20c": {
       "attrs": {
        "height": 0.8,
        "width": 0.8,
        "x": 0.1,
        "y": 0.1
       },
       "content": {
        "cell": "f53d583e-1907-4d24-977b-a3931d1143ee",
        "part": "whole"
       },
       "id": "3447de13-4bbc-4547-9e7f-254a551ab20c"
      }
     }
    },
    "0b25a498-c10f-46d0-aba4-4f33a6f0696d": {
     "id": "0b25a498-c10f-46d0-aba4-4f33a6f0696d",
     "prev": "0ed28d52-e9b4-4720-aaed-cc34120199e3",
     "regions": {
      "fe658928-9854-48fa-b62c-cd100be7f0a2": {
       "attrs": {
        "height": 0.8,
        "width": 0.8,
        "x": 0.1,
        "y": 0.1
       },
       "content": {
        "cell": "332ebc0d-caa5-4242-9059-e95708fb1ea3",
        "part": "whole"
       },
       "id": "fe658928-9854-48fa-b62c-cd100be7f0a2"
      }
     }
    },
    "0b9d3c23-77a3-486b-971a-b26047757188": {
     "id": "0b9d3c23-77a3-486b-971a-b26047757188",
     "prev": "5edcb9b0-4500-4e62-9a46-accaef05291c",
     "regions": {
      "875b03b6-16ce-4a47-8bdc-ffe1c7c53079": {
       "attrs": {
        "height": 0.8,
        "width": 0.8,
        "x": 0.1,
        "y": 0.1
       },
       "content": {
        "cell": "a397e767-6ca0-40f9-80e0-33cf75a3c5c4",
        "part": "whole"
       },
       "id": "875b03b6-16ce-4a47-8bdc-ffe1c7c53079"
      }
     }
    },
    "0c3af34d-16f9-4296-b387-b65b05cfc551": {
     "id": "0c3af34d-16f9-4296-b387-b65b05cfc551",
     "prev": "8cbe2a95-b543-4d5e-a65c-7a3763716be9",
     "regions": {
      "0b454f4c-ecb7-47a5-aecb-4ee03003275b": {
       "attrs": {
        "height": 0.8,
        "width": 0.8,
        "x": 0.1,
        "y": 0.1
       },
       "content": {
        "cell": "636d8de0-b334-481b-93eb-b5bd52f93014",
        "part": "whole"
       },
       "id": "0b454f4c-ecb7-47a5-aecb-4ee03003275b"
      }
     }
    },
    "0d79d0c2-41ab-4726-a8a7-8ec6a7cc605e": {
     "id": "0d79d0c2-41ab-4726-a8a7-8ec6a7cc605e",
     "prev": "0c3af34d-16f9-4296-b387-b65b05cfc551",
     "regions": {
      "4ff2bbeb-d603-4212-9289-a80ea13995b9": {
       "attrs": {
        "height": 0.8,
        "width": 0.8,
        "x": 0.1,
        "y": 0.1
       },
       "content": {
        "cell": "c0a486a5-ce9d-4485-9c2b-3d865cf164e8",
        "part": "whole"
       },
       "id": "4ff2bbeb-d603-4212-9289-a80ea13995b9"
      }
     }
    },
    "0e3c30a3-c2d0-4c3b-a0ce-e5a6a28d5e66": {
     "id": "0e3c30a3-c2d0-4c3b-a0ce-e5a6a28d5e66",
     "prev": "1d02aa41-f9da-41a9-80f9-ab641f683aff",
     "regions": {
      "0237c6c6-b553-4792-b2e4-272662c830d9": {
       "attrs": {
        "height": 0.8,
        "width": 0.8,
        "x": 0.1,
        "y": 0.1
       },
       "content": {
        "cell": "9dcb2ddd-27f7-461b-9e78-14c6f910eaba",
        "part": "whole"
       },
       "id": "0237c6c6-b553-4792-b2e4-272662c830d9"
      }
     }
    },
    "0eccce1b-1e80-468a-bec2-2ed9cde20335": {
     "id": "0eccce1b-1e80-468a-bec2-2ed9cde20335",
     "prev": "c6b8f28d-0bf7-405b-8a78-db820fff3bce",
     "regions": {
      "363b6da8-ef90-420e-b33e-5323cd608204": {
       "attrs": {
        "height": 0.8,
        "width": 0.8,
        "x": 0.1,
        "y": 0.1
       },
       "content": {
        "cell": "63f4bb9e-bd04-49b4-8a01-84d45146ca76",
        "part": "whole"
       },
       "id": "363b6da8-ef90-420e-b33e-5323cd608204"
      }
     }
    },
    "0ed28d52-e9b4-4720-aaed-cc34120199e3": {
     "id": "0ed28d52-e9b4-4720-aaed-cc34120199e3",
     "prev": "5b5361cf-4aea-4ff1-b07a-ac8dd91af01f",
     "regions": {
      "a7592b2c-b87c-4f22-a3c9-681d64b2c398": {
       "attrs": {
        "height": 0.8,
        "width": 0.8,
        "x": 0.1,
        "y": 0.1
       },
       "content": {
        "cell": "5bc55b75-462e-48a3-ada7-b69d013c43c1",
        "part": "whole"
       },
       "id": "a7592b2c-b87c-4f22-a3c9-681d64b2c398"
      }
     }
    },
    "0f4e3933-b2a6-4409-969d-2e508e20e491": {
     "id": "0f4e3933-b2a6-4409-969d-2e508e20e491",
     "prev": "4cd6f548-f855-4341-8770-dd195e1cdc34",
     "regions": {
      "accc04df-8b9c-41f9-bdbb-f031245449cd": {
       "attrs": {
        "height": 0.8,
        "width": 0.8,
        "x": 0.1,
        "y": 0.1
       },
       "content": {
        "cell": "7997cc51-7840-4e8f-8255-6a23dab09ace",
        "part": "whole"
       },
       "id": "accc04df-8b9c-41f9-bdbb-f031245449cd"
      }
     }
    },
    "100dda67-ac8e-4c59-bd7f-3d4eefb1a3bc": {
     "id": "100dda67-ac8e-4c59-bd7f-3d4eefb1a3bc",
     "prev": "e45b1995-a28a-48d3-8625-9031d32560b2",
     "regions": {
      "2f245da5-1282-4a1d-a549-cb111b27f2c0": {
       "attrs": {
        "height": 0.8,
        "width": 0.8,
        "x": 0.1,
        "y": 0.1
       },
       "content": {
        "cell": "bbcb42c0-00dc-4e02-9380-30a9141f77dd",
        "part": "whole"
       },
       "id": "2f245da5-1282-4a1d-a549-cb111b27f2c0"
      }
     }
    },
    "10d69b08-d01b-47b8-8e2a-e5de1a2f5ca8": {
     "id": "10d69b08-d01b-47b8-8e2a-e5de1a2f5ca8",
     "prev": "0d79d0c2-41ab-4726-a8a7-8ec6a7cc605e",
     "regions": {
      "77ada2d5-4e15-4ba2-b001-da9d8e810a29": {
       "attrs": {
        "height": 0.8,
        "width": 0.8,
        "x": 0.1,
        "y": 0.1
       },
       "content": {
        "cell": "cf1c57c5-2050-4245-adbf-72e4274910ab",
        "part": "whole"
       },
       "id": "77ada2d5-4e15-4ba2-b001-da9d8e810a29"
      }
     }
    },
    "11ff44de-20d1-4a8f-ac83-d22f334a45fd": {
     "id": "11ff44de-20d1-4a8f-ac83-d22f334a45fd",
     "prev": "0ab6c8ca-09b9-4530-9579-9cc505d57f7e",
     "regions": {
      "af9cd991-dcd6-4f5b-b337-85d0861c0206": {
       "attrs": {
        "height": 0.8,
        "width": 0.8,
        "x": 0.1,
        "y": 0.1
       },
       "content": {
        "cell": "df626045-9568-4e76-a988-4574e5cfdd39",
        "part": "whole"
       },
       "id": "af9cd991-dcd6-4f5b-b337-85d0861c0206"
      }
     }
    },
    "124f9d18-ecf7-4f7d-a95c-e74d2f71b368": {
     "id": "124f9d18-ecf7-4f7d-a95c-e74d2f71b368",
     "prev": "42c79303-658d-4674-9816-47972e464c53",
     "regions": {
      "d215d69c-0de8-4feb-9df4-ac7c18d046b5": {
       "attrs": {
        "height": 0.8,
        "width": 0.8,
        "x": 0.1,
        "y": 0.1
       },
       "content": {
        "cell": "70e027d3-8384-4a91-b79f-def61f7870e5",
        "part": "whole"
       },
       "id": "d215d69c-0de8-4feb-9df4-ac7c18d046b5"
      }
     }
    },
    "136448b7-2933-470b-8ef6-c7d023c856f2": {
     "id": "136448b7-2933-470b-8ef6-c7d023c856f2",
     "prev": "0265defa-6a6d-4b6c-87d4-1cd4beb00457",
     "regions": {
      "38f2371c-bf7e-4208-bcc1-c1d542730242": {
       "attrs": {
        "height": 0.8,
        "width": 0.8,
        "x": 0.1,
        "y": 0.1
       },
       "content": {
        "cell": "b1b00fef-fae9-4815-a4cf-dbe55d2c78a2",
        "part": "whole"
       },
       "id": "38f2371c-bf7e-4208-bcc1-c1d542730242"
      }
     }
    },
    "14be538d-0ca9-41b9-bbcf-59693562c4c8": {
     "id": "14be538d-0ca9-41b9-bbcf-59693562c4c8",
     "prev": "1ba91535-a388-48da-8687-4c48ce35b3f2",
     "regions": {
      "9b21c319-ee87-4c0d-86f9-d089683d4a96": {
       "attrs": {
        "height": 0.8,
        "width": 0.8,
        "x": 0.1,
        "y": 0.1
       },
       "content": {
        "cell": "964289c4-b704-46ce-bd0f-f6c031be7f67",
        "part": "whole"
       },
       "id": "9b21c319-ee87-4c0d-86f9-d089683d4a96"
      }
     }
    },
    "15273740-b4bf-49f7-9255-732718f7fc8f": {
     "id": "15273740-b4bf-49f7-9255-732718f7fc8f",
     "prev": "f50003ee-372d-41d4-ad56-a36d63b91e35",
     "regions": {
      "99be9824-4405-4429-88e4-a52af7f75b5f": {
       "attrs": {
        "height": 0.8,
        "width": 0.8,
        "x": 0.1,
        "y": 0.1
       },
       "content": {
        "cell": "871c6887-cc51-4bf2-8669-f78776cbb560",
        "part": "whole"
       },
       "id": "99be9824-4405-4429-88e4-a52af7f75b5f"
      }
     }
    },
    "156ab83a-3295-4b56-a4b9-64b32de2175e": {
     "id": "156ab83a-3295-4b56-a4b9-64b32de2175e",
     "prev": "307fa31b-5ee4-4c09-b71f-15fbe20c5c04",
     "regions": {
      "bd2bc8cf-bb60-4c4b-a2db-6ffc142837e5": {
       "attrs": {
        "height": 0.8,
        "width": 0.8,
        "x": 0.1,
        "y": 0.1
       },
       "content": {
        "cell": "43ad615f-2aee-4ad1-b793-1ccbe4dc08cd",
        "part": "whole"
       },
       "id": "bd2bc8cf-bb60-4c4b-a2db-6ffc142837e5"
      }
     }
    },
    "15e79ce2-5961-4ba1-89de-edb42912a41c": {
     "id": "15e79ce2-5961-4ba1-89de-edb42912a41c",
     "prev": "3bb75312-80b3-4ed0-a61d-b5d55022bf92",
     "regions": {
      "02281bdd-d43f-47ef-bc8c-c265c91ca7b8": {
       "attrs": {
        "height": 0.8,
        "width": 0.8,
        "x": 0.1,
        "y": 0.1
       },
       "content": {
        "cell": "5c0596e0-e176-4932-adba-9543a2aa8526",
        "part": "whole"
       },
       "id": "02281bdd-d43f-47ef-bc8c-c265c91ca7b8"
      }
     }
    },
    "1611fb40-f61a-4f70-8607-5a00e2803fba": {
     "id": "1611fb40-f61a-4f70-8607-5a00e2803fba",
     "prev": "a403a466-6d86-4707-8a1d-2bf7affa95f3",
     "regions": {
      "9181232e-6892-4048-865a-a0f1dae12dae": {
       "attrs": {
        "height": 0.8,
        "width": 0.8,
        "x": 0.1,
        "y": 0.1
       },
       "content": {
        "cell": "a909d76e-cde8-4884-a543-b445a34da638",
        "part": "whole"
       },
       "id": "9181232e-6892-4048-865a-a0f1dae12dae"
      }
     }
    },
    "1634f5b3-e68b-4f10-87fe-71a1bdde3c4e": {
     "id": "1634f5b3-e68b-4f10-87fe-71a1bdde3c4e",
     "prev": "4bdfa294-d303-430e-aec8-e65663b1233f",
     "regions": {
      "3d4e8236-58e9-43c3-a818-68bde95b15eb": {
       "attrs": {
        "height": 0.8,
        "width": 0.8,
        "x": 0.1,
        "y": 0.1
       },
       "content": {
        "cell": "28f66118-7c3e-41ac-b0b4-db3fa495510c",
        "part": "whole"
       },
       "id": "3d4e8236-58e9-43c3-a818-68bde95b15eb"
      }
     }
    },
    "164ea73e-d07b-4d51-86e7-b70cf484821f": {
     "id": "164ea73e-d07b-4d51-86e7-b70cf484821f",
     "prev": "284885ba-0dde-43fb-9b2a-a6f67ee25662",
     "regions": {
      "a6371a38-bafc-4713-9094-896d26add593": {
       "attrs": {
        "height": 0.8,
        "width": 0.8,
        "x": 0.1,
        "y": 0.1
       },
       "content": {
        "cell": "1343e148-6c2a-46a1-9215-607fb44c03ed",
        "part": "whole"
       },
       "id": "a6371a38-bafc-4713-9094-896d26add593"
      }
     }
    },
    "190f924c-7e96-4db6-a74b-ce3b0482f02b": {
     "id": "190f924c-7e96-4db6-a74b-ce3b0482f02b",
     "prev": "c4dd7019-a011-4fc0-bead-ebbcf3a64237",
     "regions": {
      "844e8a93-cb6e-4034-abb5-87363c0d1594": {
       "attrs": {
        "height": 0.8,
        "width": 0.8,
        "x": 0.1,
        "y": 0.1
       },
       "content": {
        "cell": "f14f7be8-7d1d-477e-93f7-ffcb11e28f7e",
        "part": "whole"
       },
       "id": "844e8a93-cb6e-4034-abb5-87363c0d1594"
      }
     }
    },
    "197197c4-520d-4513-8408-e04c220cc5b0": {
     "id": "197197c4-520d-4513-8408-e04c220cc5b0",
     "prev": "2a82ce8a-2f35-4069-8a8f-00023a03b3ca",
     "regions": {
      "e60279d7-ab8d-4dad-9156-5ed6d3f7a225": {
       "attrs": {
        "height": 0.8,
        "width": 0.8,
        "x": 0.1,
        "y": 0.1
       },
       "content": {
        "cell": "2a9c06bc-abff-41ab-aa2b-fa0ec995634f",
        "part": "whole"
       },
       "id": "e60279d7-ab8d-4dad-9156-5ed6d3f7a225"
      }
     }
    },
    "1a7124e8-f637-455f-ad49-d3c6135523f3": {
     "id": "1a7124e8-f637-455f-ad49-d3c6135523f3",
     "prev": "edfe7895-d4d3-432f-afb1-5ae2c76f9b89",
     "regions": {
      "6b4f643b-387c-4213-abe2-1730dd9f90f2": {
       "attrs": {
        "height": 0.8,
        "width": 0.8,
        "x": 0.1,
        "y": 0.1
       },
       "content": {
        "cell": "d2e31a3c-b76f-49bd-a97f-6c3300a69243",
        "part": "whole"
       },
       "id": "6b4f643b-387c-4213-abe2-1730dd9f90f2"
      }
     }
    },
    "1ba91535-a388-48da-8687-4c48ce35b3f2": {
     "id": "1ba91535-a388-48da-8687-4c48ce35b3f2",
     "prev": "6b82cdd2-25b8-44fd-861d-d607ca95c3bf",
     "regions": {
      "4f78c0f7-66c0-4d68-a492-a51d638035ef": {
       "attrs": {
        "height": 0.8,
        "width": 0.8,
        "x": 0.1,
        "y": 0.1
       },
       "content": {
        "cell": "2b7eeefa-1e3e-4c8e-a132-219b63b11584",
        "part": "whole"
       },
       "id": "4f78c0f7-66c0-4d68-a492-a51d638035ef"
      }
     }
    },
    "1c337d79-0b63-4d36-b7ec-9821039a14e4": {
     "id": "1c337d79-0b63-4d36-b7ec-9821039a14e4",
     "prev": "9c4873e6-ab3f-40aa-8ca8-0684a44ae545",
     "regions": {
      "95267ae5-7cdf-4f9a-8d1a-8622ff3016f2": {
       "attrs": {
        "height": 0.8,
        "width": 0.8,
        "x": 0.1,
        "y": 0.1
       },
       "content": {
        "cell": "b2d9cb60-7336-4828-89cc-35f597ce4ed9",
        "part": "whole"
       },
       "id": "95267ae5-7cdf-4f9a-8d1a-8622ff3016f2"
      }
     }
    },
    "1c47ef05-f930-4ff8-b60c-5372b05a7e1e": {
     "id": "1c47ef05-f930-4ff8-b60c-5372b05a7e1e",
     "prev": "7233bfb2-a9a0-49e6-8c5d-3dc530234d64",
     "regions": {
      "9b82b52b-b1f6-4ce4-8c45-4a1d1e9dcf57": {
       "attrs": {
        "height": 0.8,
        "width": 0.8,
        "x": 0.1,
        "y": 0.1
       },
       "content": {
        "cell": "670af0b3-8275-45ac-b155-a5e41d54ab9a",
        "part": "whole"
       },
       "id": "9b82b52b-b1f6-4ce4-8c45-4a1d1e9dcf57"
      }
     }
    },
    "1d02aa41-f9da-41a9-80f9-ab641f683aff": {
     "id": "1d02aa41-f9da-41a9-80f9-ab641f683aff",
     "prev": "c39907e4-03f1-4a2d-9cf6-af1ce3143eca",
     "regions": {
      "bc00e655-e788-4987-a3f2-0fabd80ba434": {
       "attrs": {
        "height": 0.8,
        "width": 0.8,
        "x": 0.1,
        "y": 0.1
       },
       "content": {
        "cell": "eb242066-a134-477e-b65c-7ba1224c88e0",
        "part": "whole"
       },
       "id": "bc00e655-e788-4987-a3f2-0fabd80ba434"
      }
     }
    },
    "1d40d1bf-6a45-4504-b31c-b297bcf8e8f1": {
     "id": "1d40d1bf-6a45-4504-b31c-b297bcf8e8f1",
     "prev": "ea160572-dff6-41a5-ab34-0c0ed2c67ceb",
     "regions": {
      "9ed6f14e-ffca-41dd-adcf-6009cdbc5e78": {
       "attrs": {
        "height": 0.8,
        "width": 0.8,
        "x": 0.1,
        "y": 0.1
       },
       "content": {
        "cell": "85e991c4-9246-42b4-811a-84e8b6dd64c2",
        "part": "whole"
       },
       "id": "9ed6f14e-ffca-41dd-adcf-6009cdbc5e78"
      }
     }
    },
    "1e9dab7e-dedb-4901-90fe-c9355540a683": {
     "id": "1e9dab7e-dedb-4901-90fe-c9355540a683",
     "prev": "78e93720-cc34-4279-bf52-bdcf8683d5fd",
     "regions": {
      "23cf9b37-d58f-4f89-a236-613878f44448": {
       "attrs": {
        "height": 0.8,
        "width": 0.8,
        "x": 0.1,
        "y": 0.1
       },
       "content": {
        "cell": "33045fdf-60ce-430b-8031-40728182c1f9",
        "part": "whole"
       },
       "id": "23cf9b37-d58f-4f89-a236-613878f44448"
      }
     }
    },
    "1ebcb180-bf26-4257-972f-3db42019990c": {
     "id": "1ebcb180-bf26-4257-972f-3db42019990c",
     "prev": "73237e96-31b4-48ca-bf1b-38ef5721e45a",
     "regions": {
      "4f273b39-4d41-4f06-ab9d-aeaab703a58f": {
       "attrs": {
        "height": 0.8,
        "width": 0.8,
        "x": 0.1,
        "y": 0.1
       },
       "content": {
        "cell": "d3af1b5c-cc39-4198-919a-881c494abc7b",
        "part": "whole"
       },
       "id": "4f273b39-4d41-4f06-ab9d-aeaab703a58f"
      }
     }
    },
    "1f00b727-f5d0-46da-b4f3-f2ac6717cb82": {
     "id": "1f00b727-f5d0-46da-b4f3-f2ac6717cb82",
     "prev": "c6242fa5-6c43-4e01-a5be-bbbb4fa8f0cf",
     "regions": {
      "c70d3ab6-1c20-4b0f-b57c-2e1dcdd7d050": {
       "attrs": {
        "height": 0.8,
        "width": 0.8,
        "x": 0.1,
        "y": 0.1
       },
       "content": {
        "cell": "6a29624e-911e-41e0-bd1e-bb6a0a2b11f0",
        "part": "whole"
       },
       "id": "c70d3ab6-1c20-4b0f-b57c-2e1dcdd7d050"
      }
     }
    },
    "1fbb7f3d-d5fb-405d-8e22-c10913bb40d6": {
     "id": "1fbb7f3d-d5fb-405d-8e22-c10913bb40d6",
     "prev": "ce481cbe-a332-446b-a68d-2f2ea817d99a",
     "regions": {
      "370dfbf8-48de-4c2b-bf09-327f32b79872": {
       "attrs": {
        "height": 0.8,
        "width": 0.8,
        "x": 0.1,
        "y": 0.1
       },
       "content": {
        "cell": "177d5178-73e5-49e0-8a18-c52683154e9d",
        "part": "whole"
       },
       "id": "370dfbf8-48de-4c2b-bf09-327f32b79872"
      }
     }
    },
    "1fe3efee-54a7-4c93-8236-81b38c483c3e": {
     "id": "1fe3efee-54a7-4c93-8236-81b38c483c3e",
     "prev": "b133d21e-0069-47b1-b499-368262175398",
     "regions": {
      "b98eafdf-c9e8-420d-bf9c-3b4585f4c8bc": {
       "attrs": {
        "height": 0.8,
        "width": 0.8,
        "x": 0.1,
        "y": 0.1
       },
       "content": {
        "cell": "d20b931a-ab10-4209-8dcb-bf5ec4c70e52",
        "part": "whole"
       },
       "id": "b98eafdf-c9e8-420d-bf9c-3b4585f4c8bc"
      }
     }
    },
    "1ffcd3d5-c380-4c6d-944c-b57a3f57e340": {
     "id": "1ffcd3d5-c380-4c6d-944c-b57a3f57e340",
     "prev": "5a080798-5034-47d8-b043-ec4b89b1cff6",
     "regions": {
      "d511fc4a-a9c5-48e0-9f07-3e45ab2d1984": {
       "attrs": {
        "height": 0.8,
        "width": 0.8,
        "x": 0.1,
        "y": 0.1
       },
       "content": {
        "cell": "19966791-7ea9-4124-8421-983e47faa981",
        "part": "whole"
       },
       "id": "d511fc4a-a9c5-48e0-9f07-3e45ab2d1984"
      }
     }
    },
    "20a286bc-e45c-4a00-abb0-29c2a3cc562b": {
     "id": "20a286bc-e45c-4a00-abb0-29c2a3cc562b",
     "prev": "0b9d3c23-77a3-486b-971a-b26047757188",
     "regions": {
      "19898e1f-9d60-40eb-9ce3-a1a625db3dfe": {
       "attrs": {
        "height": 0.8,
        "width": 0.8,
        "x": 0.1,
        "y": 0.1
       },
       "content": {
        "cell": "833efeab-011a-486e-bef4-2ea75d7fa0c3",
        "part": "whole"
       },
       "id": "19898e1f-9d60-40eb-9ce3-a1a625db3dfe"
      }
     }
    },
    "2109bb92-d849-4210-8276-f81183e93746": {
     "id": "2109bb92-d849-4210-8276-f81183e93746",
     "prev": "bec3387b-9d52-4984-9e77-7d59ed7b950c",
     "regions": {
      "78007db5-109b-4c32-8c6f-9de609cfacdf": {
       "attrs": {
        "height": 0.8,
        "width": 0.8,
        "x": 0.1,
        "y": 0.1
       },
       "content": {
        "cell": "888f13a7-20a6-416a-acda-979f5dde9537",
        "part": "whole"
       },
       "id": "78007db5-109b-4c32-8c6f-9de609cfacdf"
      }
     }
    },
    "21d773e8-6681-430b-8c41-2fad0385680c": {
     "id": "21d773e8-6681-430b-8c41-2fad0385680c",
     "prev": "df79ce58-771c-4357-a560-4c3d0d3a88d1",
     "regions": {
      "e344724f-b5a0-424f-b8d5-bd35b5633bfa": {
       "attrs": {
        "height": 0.8,
        "width": 0.8,
        "x": 0.1,
        "y": 0.1
       },
       "content": {
        "cell": "12588fec-19f5-429e-840b-139fc5d11a2c",
        "part": "whole"
       },
       "id": "e344724f-b5a0-424f-b8d5-bd35b5633bfa"
      }
     }
    },
    "221c9666-a21c-440a-902a-83acf7b8f889": {
     "id": "221c9666-a21c-440a-902a-83acf7b8f889",
     "prev": "904b762d-a79b-4396-9b1f-18c0a48dc122",
     "regions": {
      "8cbb1538-403d-4478-8487-99b3055b28ed": {
       "attrs": {
        "height": 0.8,
        "width": 0.8,
        "x": 0.1,
        "y": 0.1
       },
       "content": {
        "cell": "5c9a7805-db3c-4e16-9b13-e60adbb837fe",
        "part": "whole"
       },
       "id": "8cbb1538-403d-4478-8487-99b3055b28ed"
      }
     }
    },
    "2356fd5a-7815-457e-a8a8-ec81e5cd5628": {
     "id": "2356fd5a-7815-457e-a8a8-ec81e5cd5628",
     "prev": "c7ad5e56-75a5-473b-aaff-74317798366d",
     "regions": {
      "1868dbbf-ef79-4af2-a4c9-7fbafc0afc0c": {
       "attrs": {
        "height": 0.8,
        "width": 0.8,
        "x": 0.1,
        "y": 0.1
       },
       "content": {
        "cell": "829f7c18-d5ad-4a2b-a8c0-23d5bc1b8cbf",
        "part": "whole"
       },
       "id": "1868dbbf-ef79-4af2-a4c9-7fbafc0afc0c"
      }
     }
    },
    "23877d4d-952f-4bf1-8659-af5218d0c47c": {
     "id": "23877d4d-952f-4bf1-8659-af5218d0c47c",
     "prev": "f7209e99-a9af-4440-ad5b-9bd4aaa8ad3f",
     "regions": {
      "08948926-c149-4c0b-a6aa-50f5674c6727": {
       "attrs": {
        "height": 0.8,
        "width": 0.8,
        "x": 0.1,
        "y": 0.1
       },
       "content": {
        "cell": "2cb2dc70-4ca8-4e59-b894-ce7d1a22659e",
        "part": "whole"
       },
       "id": "08948926-c149-4c0b-a6aa-50f5674c6727"
      }
     }
    },
    "2661b4d7-6b3f-4dbd-a4b5-1d7fa98a98a2": {
     "id": "2661b4d7-6b3f-4dbd-a4b5-1d7fa98a98a2",
     "prev": "d9f37eef-d068-4603-be47-7c2b3962408d",
     "regions": {
      "f1edecff-70b7-49c9-94e5-6596c2009069": {
       "attrs": {
        "height": 0.8,
        "width": 0.8,
        "x": 0.1,
        "y": 0.1
       },
       "content": {
        "cell": "0b4498a5-2a25-4308-a1d0-7f31cd388838",
        "part": "whole"
       },
       "id": "f1edecff-70b7-49c9-94e5-6596c2009069"
      }
     }
    },
    "284885ba-0dde-43fb-9b2a-a6f67ee25662": {
     "id": "284885ba-0dde-43fb-9b2a-a6f67ee25662",
     "prev": "dbea599d-9fd6-4c54-8c13-4b7a392bfe73",
     "regions": {
      "190e5098-9ab2-4808-a28e-9a32de49e239": {
       "attrs": {
        "height": 0.8,
        "width": 0.8,
        "x": 0.1,
        "y": 0.1
       },
       "content": {
        "cell": "d0959046-f88d-4ad0-aa99-55687287eee8",
        "part": "whole"
       },
       "id": "190e5098-9ab2-4808-a28e-9a32de49e239"
      }
     }
    },
    "2a82ce8a-2f35-4069-8a8f-00023a03b3ca": {
     "id": "2a82ce8a-2f35-4069-8a8f-00023a03b3ca",
     "prev": "ad137a74-8238-4365-8b85-6c2a470a51ae",
     "regions": {
      "8ca92f97-351c-43c9-a3fe-24a708c58cc3": {
       "attrs": {
        "height": 0.8,
        "width": 0.8,
        "x": 0.1,
        "y": 0.1
       },
       "content": {
        "cell": "7b8ee196-db08-4b1b-bbad-cb4c4b2beb34",
        "part": "whole"
       },
       "id": "8ca92f97-351c-43c9-a3fe-24a708c58cc3"
      }
     }
    },
    "2aa26f4c-9947-42cf-90d7-83333a6e058c": {
     "id": "2aa26f4c-9947-42cf-90d7-83333a6e058c",
     "prev": "ca473f61-6640-426d-b29d-6eaa57a2b5de",
     "regions": {
      "8049fb8a-0ff7-404d-acef-2e7a3155127e": {
       "attrs": {
        "height": 0.8,
        "width": 0.8,
        "x": 0.1,
        "y": 0.1
       },
       "content": {
        "cell": "ce1d83d0-44c9-4994-b1a4-32fb6df4d684",
        "part": "whole"
       },
       "id": "8049fb8a-0ff7-404d-acef-2e7a3155127e"
      }
     }
    },
    "2c073a5a-d542-4a9a-a00c-9b4faaf042e8": {
     "id": "2c073a5a-d542-4a9a-a00c-9b4faaf042e8",
     "prev": "90891405-b6f7-4668-bf00-dcc1a19686aa",
     "regions": {
      "764bc6ce-fb4f-4936-8724-43d0ac549f02": {
       "attrs": {
        "height": 0.8,
        "width": 0.8,
        "x": 0.1,
        "y": 0.1
       },
       "content": {
        "cell": "7b8a3ff9-6102-4111-b67b-ae6a8073cdca",
        "part": "whole"
       },
       "id": "764bc6ce-fb4f-4936-8724-43d0ac549f02"
      }
     }
    },
    "2cc2849d-625c-445a-a381-1e397bb36da9": {
     "id": "2cc2849d-625c-445a-a381-1e397bb36da9",
     "prev": "8a5e3042-bfae-4bae-b055-e8fdb415f599",
     "regions": {
      "e22de425-ad52-4331-b9f5-b41dbb12f229": {
       "attrs": {
        "height": 0.8,
        "width": 0.8,
        "x": 0.1,
        "y": 0.1
       },
       "content": {
        "cell": "169a8f4f-9cce-41d4-9701-9a3825ea4d6e",
        "part": "whole"
       },
       "id": "e22de425-ad52-4331-b9f5-b41dbb12f229"
      }
     }
    },
    "2d85e90d-f8fc-4005-8696-0057d5fd172e": {
     "id": "2d85e90d-f8fc-4005-8696-0057d5fd172e",
     "prev": "ffcfe714-6de4-42b3-a204-4b8f7cd646fb",
     "regions": {
      "4956a8f5-0f44-4d11-b427-7ec72386a8d5": {
       "attrs": {
        "height": 0.8,
        "width": 0.8,
        "x": 0.1,
        "y": 0.1
       },
       "content": {
        "cell": "9ff16835-14dc-49ea-b506-16577eb28bd9",
        "part": "whole"
       },
       "id": "4956a8f5-0f44-4d11-b427-7ec72386a8d5"
      }
     }
    },
    "2e0cdb35-3728-4732-acdd-74c78b403c0d": {
     "id": "2e0cdb35-3728-4732-acdd-74c78b403c0d",
     "prev": "da419d8b-6168-49b5-b7a4-e43ce9ab75dc",
     "regions": {
      "a1c20a4c-59f0-4402-8a18-b8bda0390a32": {
       "attrs": {
        "height": 0.8,
        "width": 0.8,
        "x": 0.1,
        "y": 0.1
       },
       "content": {
        "cell": "9b6aabc9-6435-4fee-a100-b8f4091520b0",
        "part": "whole"
       },
       "id": "a1c20a4c-59f0-4402-8a18-b8bda0390a32"
      }
     }
    },
    "2e740aac-1261-4d44-b5a4-f0996f7a8f52": {
     "id": "2e740aac-1261-4d44-b5a4-f0996f7a8f52",
     "prev": "05b3a90c-4708-44ca-a2a1-ef19f8867e27",
     "regions": {
      "5ef0bdad-242a-47db-b8f9-289b2ebcda5a": {
       "attrs": {
        "height": 0.8,
        "width": 0.8,
        "x": 0.1,
        "y": 0.1
       },
       "content": {
        "cell": "c8479438-630c-4c0a-8872-6678a6ce4a72",
        "part": "whole"
       },
       "id": "5ef0bdad-242a-47db-b8f9-289b2ebcda5a"
      }
     }
    },
    "305b5fe1-270c-4095-b503-5f0cfb203f71": {
     "id": "305b5fe1-270c-4095-b503-5f0cfb203f71",
     "prev": "0b25a498-c10f-46d0-aba4-4f33a6f0696d",
     "regions": {
      "ddbc5622-15ba-41a7-b2c4-d042249510d1": {
       "attrs": {
        "height": 0.8,
        "width": 0.8,
        "x": 0.1,
        "y": 0.1
       },
       "content": {
        "cell": "c8f0ffcb-3595-4eb0-8690-031a6594d0e0",
        "part": "whole"
       },
       "id": "ddbc5622-15ba-41a7-b2c4-d042249510d1"
      }
     }
    },
    "30601af4-8b28-413d-a2cb-78cf6f634dd1": {
     "id": "30601af4-8b28-413d-a2cb-78cf6f634dd1",
     "prev": "c0ed9906-9c91-4fbd-a7f9-85972d1f9241",
     "regions": {
      "2617358d-0b7a-4ef4-83a5-708c7c460bac": {
       "attrs": {
        "height": 0.8,
        "width": 0.8,
        "x": 0.1,
        "y": 0.1
       },
       "content": {
        "cell": "676ee326-abdc-40d8-ae25-910d78e7df3b",
        "part": "whole"
       },
       "id": "2617358d-0b7a-4ef4-83a5-708c7c460bac"
      }
     }
    },
    "306ebf15-8158-4fca-bb74-2427c2a91388": {
     "id": "306ebf15-8158-4fca-bb74-2427c2a91388",
     "prev": "ac93e506-7482-42ad-afd6-4822c7a061f8",
     "regions": {
      "5098041f-6958-45b3-98ee-138826013902": {
       "attrs": {
        "height": 0.8,
        "width": 0.8,
        "x": 0.1,
        "y": 0.1
       },
       "content": {
        "cell": "0b9bc0bb-27e1-449f-bb31-b02e4bcf2b15",
        "part": "whole"
       },
       "id": "5098041f-6958-45b3-98ee-138826013902"
      }
     }
    },
    "307fa31b-5ee4-4c09-b71f-15fbe20c5c04": {
     "id": "307fa31b-5ee4-4c09-b71f-15fbe20c5c04",
     "prev": "094f2972-3322-4baa-8c08-0c2b46292484",
     "regions": {
      "7eae39a6-6350-49eb-8981-d9cfa38c9f20": {
       "attrs": {
        "height": 0.8,
        "width": 0.8,
        "x": 0.1,
        "y": 0.1
       },
       "content": {
        "cell": "b233d1fe-bf31-42f7-ab57-fbfe33880d3a",
        "part": "whole"
       },
       "id": "7eae39a6-6350-49eb-8981-d9cfa38c9f20"
      }
     }
    },
    "3082a0fe-a60e-4ba6-9fee-1f1a3f32e0df": {
     "id": "3082a0fe-a60e-4ba6-9fee-1f1a3f32e0df",
     "prev": "c2c21d89-1f3d-49ef-9637-2a1dde1f3962",
     "regions": {
      "689a68a9-a83b-4a4c-a875-8d35678efbd6": {
       "attrs": {
        "height": 0.8,
        "width": 0.8,
        "x": 0.1,
        "y": 0.1
       },
       "content": {
        "cell": "c64f897c-5b17-4d7d-a727-d25057f612b0",
        "part": "whole"
       },
       "id": "689a68a9-a83b-4a4c-a875-8d35678efbd6"
      }
     }
    },
    "336fba2a-5ea3-4340-8105-61b38399e012": {
     "id": "336fba2a-5ea3-4340-8105-61b38399e012",
     "prev": "8c29616a-a8e6-4c34-aed8-b44a855b8247",
     "regions": {
      "2842ded1-8af1-438e-8dcc-be12de16301c": {
       "attrs": {
        "height": 0.8,
        "width": 0.8,
        "x": 0.1,
        "y": 0.1
       },
       "content": {
        "cell": "c59c86b9-37b7-4c7d-bc7b-8b0e277d192e",
        "part": "whole"
       },
       "id": "2842ded1-8af1-438e-8dcc-be12de16301c"
      }
     }
    },
    "33f286e2-5686-4e03-ad39-3f7c0ae2389d": {
     "id": "33f286e2-5686-4e03-ad39-3f7c0ae2389d",
     "prev": "4532004a-e378-48ad-a964-101541384f8b",
     "regions": {
      "db993ac8-881d-4f61-8fea-5d6fa3fb80a5": {
       "attrs": {
        "height": 0.8,
        "width": 0.8,
        "x": 0.1,
        "y": 0.1
       },
       "content": {
        "cell": "56871f05-dd5c-4e0a-91cd-f49db20c12a9",
        "part": "whole"
       },
       "id": "db993ac8-881d-4f61-8fea-5d6fa3fb80a5"
      }
     }
    },
    "34dcba9a-d158-424e-97b6-198d7dc4ad23": {
     "id": "34dcba9a-d158-424e-97b6-198d7dc4ad23",
     "prev": "2aa26f4c-9947-42cf-90d7-83333a6e058c",
     "regions": {
      "f8a68f6f-b3da-4d52-bde9-a78ef03008de": {
       "attrs": {
        "height": 0.8,
        "width": 0.8,
        "x": 0.1,
        "y": 0.1
       },
       "content": {
        "cell": "b357ca26-9961-43d4-ac01-849a59ce9c57",
        "part": "whole"
       },
       "id": "f8a68f6f-b3da-4d52-bde9-a78ef03008de"
      }
     }
    },
    "34ed7fbf-605f-49bd-bca3-5df668567e1e": {
     "id": "34ed7fbf-605f-49bd-bca3-5df668567e1e",
     "prev": "d750cef9-960c-4942-a64e-7cc6f667a799",
     "regions": {
      "eb785a07-7314-4b0c-92d9-d696269c6b64": {
       "attrs": {
        "height": 0.8,
        "width": 0.8,
        "x": 0.1,
        "y": 0.1
       },
       "content": {
        "cell": "67a331de-de52-404b-aff2-1126b30ebdae",
        "part": "whole"
       },
       "id": "eb785a07-7314-4b0c-92d9-d696269c6b64"
      }
     }
    },
    "35162f72-7137-42b4-8dc6-829651087cc0": {
     "id": "35162f72-7137-42b4-8dc6-829651087cc0",
     "prev": "95370c42-6b51-43a9-9fa1-194264599cc8",
     "regions": {
      "c3f4692d-b8a9-4478-83b1-66d81b22d31a": {
       "attrs": {
        "height": 0.8,
        "width": 0.8,
        "x": 0.1,
        "y": 0.1
       },
       "content": {
        "cell": "445c555c-17c9-4616-9601-8206b95c6f3d",
        "part": "whole"
       },
       "id": "c3f4692d-b8a9-4478-83b1-66d81b22d31a"
      }
     }
    },
    "35d1a833-39d7-4ffc-8750-28d4a5b82a39": {
     "id": "35d1a833-39d7-4ffc-8750-28d4a5b82a39",
     "prev": "4420ba91-8f76-47ae-9ace-77d167b1ae7b",
     "regions": {
      "7ff6531a-1fbd-4eb9-ae1c-d4f0ab0e50ad": {
       "attrs": {
        "height": 0.8,
        "width": 0.8,
        "x": 0.1,
        "y": 0.1
       },
       "content": {
        "cell": "f86aa19b-d4ff-4e69-b7ed-39d21ce18ca1",
        "part": "whole"
       },
       "id": "7ff6531a-1fbd-4eb9-ae1c-d4f0ab0e50ad"
      }
     }
    },
    "3623a643-4672-40c1-8bde-8ad56105e6a8": {
     "id": "3623a643-4672-40c1-8bde-8ad56105e6a8",
     "prev": "4f5ecdb2-ce00-40d4-beda-66ba943451ad",
     "regions": {
      "90a94915-8443-455f-9baa-2c1c060b0a2b": {
       "attrs": {
        "height": 0.8,
        "width": 0.8,
        "x": 0.1,
        "y": 0.1
       },
       "content": {
        "cell": "fb6ff70e-abfb-4291-b037-2c638ca5d894",
        "part": "whole"
       },
       "id": "90a94915-8443-455f-9baa-2c1c060b0a2b"
      }
     }
    },
    "36b00e38-1f7c-48d8-8c26-98e426424388": {
     "id": "36b00e38-1f7c-48d8-8c26-98e426424388",
     "prev": "b4304d76-7079-460e-b49d-a0f57059401e",
     "regions": {
      "66d22bb0-742c-4932-91d4-9b361dd62e2e": {
       "attrs": {
        "height": 0.8,
        "width": 0.8,
        "x": 0.1,
        "y": 0.1
       },
       "content": {
        "cell": "2113ce5e-abba-4cb6-850d-dbb99d4d96cf",
        "part": "whole"
       },
       "id": "66d22bb0-742c-4932-91d4-9b361dd62e2e"
      }
     }
    },
    "37c9e250-2207-4a95-bcc4-55bf4e457368": {
     "id": "37c9e250-2207-4a95-bcc4-55bf4e457368",
     "prev": "494dafce-59d8-4f76-b4d9-aa5536445d96",
     "regions": {
      "ecaddc3a-bcc9-4574-a145-950bb100141f": {
       "attrs": {
        "height": 0.8,
        "width": 0.8,
        "x": 0.1,
        "y": 0.1
       },
       "content": {
        "cell": "ecfa2799-df20-4bd0-8c63-bf53bc2b4409",
        "part": "whole"
       },
       "id": "ecaddc3a-bcc9-4574-a145-950bb100141f"
      }
     }
    },
    "37d3cd29-4bf0-4b59-932b-ea6bcb2fa9fa": {
     "id": "37d3cd29-4bf0-4b59-932b-ea6bcb2fa9fa",
     "prev": "49307afc-5cfe-41c2-bb30-142d2e870613",
     "regions": {
      "3b04494a-4b47-4d76-b888-096cb3fab634": {
       "attrs": {
        "height": 0.8,
        "width": 0.8,
        "x": 0.1,
        "y": 0.1
       },
       "content": {
        "cell": "84ec5fd0-c3b3-4fc4-a278-b147fdda53b3",
        "part": "whole"
       },
       "id": "3b04494a-4b47-4d76-b888-096cb3fab634"
      }
     }
    },
    "387a51eb-2bf8-4b03-87ab-391e7e4c7728": {
     "id": "387a51eb-2bf8-4b03-87ab-391e7e4c7728",
     "prev": "94a5a06a-1c65-457b-8693-0ff5479f6523",
     "regions": {
      "003af5c4-6aed-4d0a-9d6c-5235c0bb57b0": {
       "attrs": {
        "height": 0.8,
        "width": 0.8,
        "x": 0.1,
        "y": 0.1
       },
       "content": {
        "cell": "87a26554-cead-4d25-98db-db514e672785",
        "part": "whole"
       },
       "id": "003af5c4-6aed-4d0a-9d6c-5235c0bb57b0"
      }
     }
    },
    "397ef0bb-4c47-4efd-a339-7eb32c675858": {
     "id": "397ef0bb-4c47-4efd-a339-7eb32c675858",
     "prev": "136448b7-2933-470b-8ef6-c7d023c856f2",
     "regions": {
      "b56f2f2f-41ce-4811-86d9-39e1e3b77a78": {
       "attrs": {
        "height": 0.8,
        "width": 0.8,
        "x": 0.1,
        "y": 0.1
       },
       "content": {
        "cell": "970838e3-1f4d-4026-a60f-6ee05fbd5be0",
        "part": "whole"
       },
       "id": "b56f2f2f-41ce-4811-86d9-39e1e3b77a78"
      }
     }
    },
    "39847f11-f850-475d-b26b-ae3375ee5e5e": {
     "id": "39847f11-f850-475d-b26b-ae3375ee5e5e",
     "prev": "03df22d2-fb4d-47a1-9d0d-694a01fbbf3d",
     "regions": {
      "b9d21c5a-913c-4c23-8945-cd457c918e5d": {
       "attrs": {
        "height": 0.8,
        "width": 0.8,
        "x": 0.1,
        "y": 0.1
       },
       "content": {
        "cell": "59a82388-f46c-41aa-9a3d-344162658670",
        "part": "whole"
       },
       "id": "b9d21c5a-913c-4c23-8945-cd457c918e5d"
      }
     }
    },
    "3bb0cea7-a108-428c-8999-31e75a6a953f": {
     "id": "3bb0cea7-a108-428c-8999-31e75a6a953f",
     "prev": "59c89aa3-d672-4729-b9f2-ecbf5eb9ed25",
     "regions": {
      "08a5b72d-b06a-40b1-afb3-37781a33de57": {
       "attrs": {
        "height": 0.8,
        "width": 0.8,
        "x": 0.1,
        "y": 0.1
       },
       "content": {
        "cell": "f31e1375-e084-43dc-aa78-a2cbf63aafca",
        "part": "whole"
       },
       "id": "08a5b72d-b06a-40b1-afb3-37781a33de57"
      }
     }
    },
    "3bb75312-80b3-4ed0-a61d-b5d55022bf92": {
     "id": "3bb75312-80b3-4ed0-a61d-b5d55022bf92",
     "prev": "71e8d077-4a57-4dbf-a9c3-6fd13e2e2446",
     "regions": {
      "1affde38-f238-49e7-980d-afd1a3c89ff5": {
       "attrs": {
        "height": 0.8,
        "width": 0.8,
        "x": 0.1,
        "y": 0.1
       },
       "content": {
        "cell": "40e175b5-b861-4626-b027-6b5515dd5617",
        "part": "whole"
       },
       "id": "1affde38-f238-49e7-980d-afd1a3c89ff5"
      }
     }
    },
    "3bf99ed5-5325-4d11-bad2-fb6fe3b14549": {
     "id": "3bf99ed5-5325-4d11-bad2-fb6fe3b14549",
     "prev": "e9009363-c19d-4fba-a6e1-4a3d403be8bf",
     "regions": {
      "ada13e9c-d78a-4fff-9f02-1f9cfa7a48d9": {
       "attrs": {
        "height": 0.8,
        "width": 0.8,
        "x": 0.1,
        "y": 0.1
       },
       "content": {
        "cell": "6fb7e881-fa54-4744-845f-8f3213ea0e63",
        "part": "whole"
       },
       "id": "ada13e9c-d78a-4fff-9f02-1f9cfa7a48d9"
      }
     }
    },
    "3da8b1f5-32e1-4d98-a019-d083849eddd9": {
     "id": "3da8b1f5-32e1-4d98-a019-d083849eddd9",
     "prev": "5a5f9a9d-af91-43c9-9fdd-60dbefa50743",
     "regions": {
      "d7a19636-50b7-4449-a813-d9c67e195f38": {
       "attrs": {
        "height": 0.8,
        "width": 0.8,
        "x": 0.1,
        "y": 0.1
       },
       "content": {
        "cell": "5ec6f94d-cdd2-4194-a456-f757e962291b",
        "part": "whole"
       },
       "id": "d7a19636-50b7-4449-a813-d9c67e195f38"
      }
     }
    },
    "3e0ca6a6-4211-45e3-92ec-62c41ad97572": {
     "id": "3e0ca6a6-4211-45e3-92ec-62c41ad97572",
     "prev": "5fe6078e-8b85-4455-9f1c-0d414847f4cd",
     "regions": {
      "b02801e9-64ab-477a-b38b-81691f8702da": {
       "attrs": {
        "height": 0.8,
        "width": 0.8,
        "x": 0.1,
        "y": 0.1
       },
       "content": {
        "cell": "bfc2e650-82af-468b-8814-26e46b93515b",
        "part": "whole"
       },
       "id": "b02801e9-64ab-477a-b38b-81691f8702da"
      }
     }
    },
    "3fd4e142-a9a8-47b5-9c02-f2a0e6491261": {
     "id": "3fd4e142-a9a8-47b5-9c02-f2a0e6491261",
     "prev": "1f00b727-f5d0-46da-b4f3-f2ac6717cb82",
     "regions": {
      "543f25f7-3017-4156-932d-365b98ac2578": {
       "attrs": {
        "height": 0.8,
        "width": 0.8,
        "x": 0.1,
        "y": 0.1
       },
       "content": {
        "cell": "266e828b-6dc2-46b1-861f-00d83c92864e",
        "part": "whole"
       },
       "id": "543f25f7-3017-4156-932d-365b98ac2578"
      }
     }
    },
    "40b652af-53e5-471d-ab84-0fe89254fff5": {
     "id": "40b652af-53e5-471d-ab84-0fe89254fff5",
     "prev": "e9eb647c-3a51-469c-849d-72d9143345a9",
     "regions": {
      "b783b18f-cf97-4da1-a6a8-d21ef8520424": {
       "attrs": {
        "height": 0.8,
        "width": 0.8,
        "x": 0.1,
        "y": 0.1
       },
       "content": {
        "cell": "7e90cf83-2e53-4c7f-ac7c-d7eb3817fd1a",
        "part": "whole"
       },
       "id": "b783b18f-cf97-4da1-a6a8-d21ef8520424"
      }
     }
    },
    "41bfb367-e6fd-415d-ba73-32fa1c2bd75b": {
     "id": "41bfb367-e6fd-415d-ba73-32fa1c2bd75b",
     "prev": "91d7ebd5-e426-46a9-a3fc-390e3167e102",
     "regions": {
      "5407b5c0-caef-45d9-b2ad-18719f42d42d": {
       "attrs": {
        "height": 0.8,
        "width": 0.8,
        "x": 0.1,
        "y": 0.1
       },
       "content": {
        "cell": "ce794822-1164-49d5-8961-03a43032e834",
        "part": "whole"
       },
       "id": "5407b5c0-caef-45d9-b2ad-18719f42d42d"
      }
     }
    },
    "420f56e3-39b9-467d-9aa1-5f836d535214": {
     "id": "420f56e3-39b9-467d-9aa1-5f836d535214",
     "prev": "cb212692-0f97-4bd1-8bb9-42f8aebd4d44",
     "regions": {
      "44d1dcb3-357c-4513-9e5c-556fd3c96ce5": {
       "attrs": {
        "height": 0.8,
        "width": 0.8,
        "x": 0.1,
        "y": 0.1
       },
       "content": {
        "cell": "09c0a743-95d6-4e6d-a045-5e31e4adb300",
        "part": "whole"
       },
       "id": "44d1dcb3-357c-4513-9e5c-556fd3c96ce5"
      }
     }
    },
    "42c79303-658d-4674-9816-47972e464c53": {
     "id": "42c79303-658d-4674-9816-47972e464c53",
     "prev": "a7a7b6b4-0e68-4bfa-8a16-9c243a89dcc7",
     "regions": {
      "9dd06de3-4af3-46da-8efb-89b0fa3edecc": {
       "attrs": {
        "height": 0.8,
        "width": 0.8,
        "x": 0.1,
        "y": 0.1
       },
       "content": {
        "cell": "d9441bad-9146-4c30-85f8-aec0a6eb7da7",
        "part": "whole"
       },
       "id": "9dd06de3-4af3-46da-8efb-89b0fa3edecc"
      }
     }
    },
    "433eb898-83ff-4494-b532-eb5e40ffe0fe": {
     "id": "433eb898-83ff-4494-b532-eb5e40ffe0fe",
     "prev": "8e76c099-b9d4-4396-908a-6911273784af",
     "regions": {
      "381a1106-f9da-4428-9a3b-247a7c6bd20c": {
       "attrs": {
        "height": 0.8,
        "width": 0.8,
        "x": 0.1,
        "y": 0.1
       },
       "content": {
        "cell": "84d99141-b669-4e31-8e25-1b638cc6d955",
        "part": "whole"
       },
       "id": "381a1106-f9da-4428-9a3b-247a7c6bd20c"
      }
     }
    },
    "4369f615-03f9-46d5-92f7-562be5e9476d": {
     "id": "4369f615-03f9-46d5-92f7-562be5e9476d",
     "prev": "beb1c2ef-5e92-49fd-88b8-c4a5c07be210",
     "regions": {
      "d55a7da0-a921-48f9-8525-5c43f3e38eb3": {
       "attrs": {
        "height": 0.8,
        "width": 0.8,
        "x": 0.1,
        "y": 0.1
       },
       "content": {
        "cell": "515de81a-8202-42c9-be00-3b2656fa7124",
        "part": "whole"
       },
       "id": "d55a7da0-a921-48f9-8525-5c43f3e38eb3"
      }
     }
    },
    "4420ba91-8f76-47ae-9ace-77d167b1ae7b": {
     "id": "4420ba91-8f76-47ae-9ace-77d167b1ae7b",
     "prev": "ce14344e-02d2-4e1e-a8db-b586c5d08a20",
     "regions": {
      "f920884d-fcc8-4966-aac8-6ef811bf0d8f": {
       "attrs": {
        "height": 0.8,
        "width": 0.8,
        "x": 0.1,
        "y": 0.1
       },
       "content": {
        "cell": "6ac6139e-9f54-481d-9695-7c9c0ea77dee",
        "part": "whole"
       },
       "id": "f920884d-fcc8-4966-aac8-6ef811bf0d8f"
      }
     }
    },
    "4532004a-e378-48ad-a964-101541384f8b": {
     "id": "4532004a-e378-48ad-a964-101541384f8b",
     "prev": "5b8f74e7-1c7c-49f7-99c5-b46b301f6c9b",
     "regions": {
      "2244bfbd-d53d-4979-8fcb-1ea980196450": {
       "attrs": {
        "height": 0.8,
        "width": 0.8,
        "x": 0.1,
        "y": 0.1
       },
       "content": {
        "cell": "422eda95-5cf7-43a9-bd00-f84e0be151af",
        "part": "whole"
       },
       "id": "2244bfbd-d53d-4979-8fcb-1ea980196450"
      }
     }
    },
    "46b9fa53-f906-4cec-82b5-7932a9d5c34b": {
     "id": "46b9fa53-f906-4cec-82b5-7932a9d5c34b",
     "prev": "190f924c-7e96-4db6-a74b-ce3b0482f02b",
     "regions": {
      "2e09d660-3ab8-432f-8f6e-c2fb6b359c2d": {
       "attrs": {
        "height": 0.8,
        "width": 0.8,
        "x": 0.1,
        "y": 0.1
       },
       "content": {
        "cell": "4b9f9ff1-10ad-486e-a87c-c2f7ce10153c",
        "part": "whole"
       },
       "id": "2e09d660-3ab8-432f-8f6e-c2fb6b359c2d"
      }
     }
    },
    "486f0e13-e058-457d-9e29-3a2607691327": {
     "id": "486f0e13-e058-457d-9e29-3a2607691327",
     "prev": "e79da9d0-3457-4532-a435-525a67ef7728",
     "regions": {
      "47f37639-eb71-43df-989e-4ce6435b5b75": {
       "attrs": {
        "height": 0.8,
        "width": 0.8,
        "x": 0.1,
        "y": 0.1
       },
       "content": {
        "cell": "4a1cd1b7-388a-40cb-a82a-ad00d42b7eb4",
        "part": "whole"
       },
       "id": "47f37639-eb71-43df-989e-4ce6435b5b75"
      }
     }
    },
    "48ded24f-8b65-4010-8857-9b9805064034": {
     "id": "48ded24f-8b65-4010-8857-9b9805064034",
     "prev": "57dab6e7-74a8-4a3c-9815-0228d2c41037",
     "regions": {
      "de18dd73-8949-4108-8e39-362fad2ec698": {
       "attrs": {
        "height": 0.8,
        "width": 0.8,
        "x": 0.1,
        "y": 0.1
       },
       "content": {
        "cell": "66ee00c2-c3ac-437e-8d3e-0d0026432b1d",
        "part": "whole"
       },
       "id": "de18dd73-8949-4108-8e39-362fad2ec698"
      }
     }
    },
    "49307afc-5cfe-41c2-bb30-142d2e870613": {
     "id": "49307afc-5cfe-41c2-bb30-142d2e870613",
     "prev": "9ad802ff-c845-4c11-94d5-d987ab913fcd",
     "regions": {
      "8b172a50-5adb-43cc-b417-11005862a908": {
       "attrs": {
        "height": 0.8,
        "width": 0.8,
        "x": 0.1,
        "y": 0.1
       },
       "content": {
        "cell": "3cfc4fc3-c171-4ec6-bc94-32af85fd760a",
        "part": "whole"
       },
       "id": "8b172a50-5adb-43cc-b417-11005862a908"
      }
     }
    },
    "494dafce-59d8-4f76-b4d9-aa5536445d96": {
     "id": "494dafce-59d8-4f76-b4d9-aa5536445d96",
     "prev": "41bfb367-e6fd-415d-ba73-32fa1c2bd75b",
     "regions": {
      "84b77e67-0576-4605-8b97-9cbc654aa061": {
       "attrs": {
        "height": 0.8,
        "width": 0.8,
        "x": 0.1,
        "y": 0.1
       },
       "content": {
        "cell": "5557144e-2063-4b89-a57e-6d990f15704b",
        "part": "whole"
       },
       "id": "84b77e67-0576-4605-8b97-9cbc654aa061"
      }
     }
    },
    "4ab2f4d2-a8b0-4431-be1e-62cfbc0c8e62": {
     "id": "4ab2f4d2-a8b0-4431-be1e-62cfbc0c8e62",
     "prev": "8a024791-f8ef-48df-b5f7-9c19dbccba77",
     "regions": {
      "006199f2-bdbf-4d70-8c31-ab88ee9c0a8d": {
       "attrs": {
        "height": 0.8,
        "width": 0.8,
        "x": 0.1,
        "y": 0.1
       },
       "content": {
        "cell": "1bb64037-208b-4c38-8c26-decc7cbd6789",
        "part": "whole"
       },
       "id": "006199f2-bdbf-4d70-8c31-ab88ee9c0a8d"
      }
     }
    },
    "4bc49121-169d-467d-9038-0f2edcb2173d": {
     "id": "4bc49121-169d-467d-9038-0f2edcb2173d",
     "prev": "ee490346-2f30-40f3-830b-25be50f7239b",
     "regions": {
      "676e1152-c393-47c2-a08f-ec261668b93a": {
       "attrs": {
        "height": 0.8,
        "width": 0.8,
        "x": 0.1,
        "y": 0.1
       },
       "content": {
        "cell": "c5f6eeeb-0802-4e93-b306-aa43491633f9",
        "part": "whole"
       },
       "id": "676e1152-c393-47c2-a08f-ec261668b93a"
      }
     }
    },
    "4bdfa294-d303-430e-aec8-e65663b1233f": {
     "id": "4bdfa294-d303-430e-aec8-e65663b1233f",
     "prev": "197197c4-520d-4513-8408-e04c220cc5b0",
     "regions": {
      "9ae67feb-5520-46b2-a6f5-94154056cfae": {
       "attrs": {
        "height": 0.8,
        "width": 0.8,
        "x": 0.1,
        "y": 0.1
       },
       "content": {
        "cell": "264e265c-c6f7-46de-ac4b-2af1ad2072d5",
        "part": "whole"
       },
       "id": "9ae67feb-5520-46b2-a6f5-94154056cfae"
      }
     }
    },
    "4c0cf7e7-c782-4096-918c-071766f9d119": {
     "id": "4c0cf7e7-c782-4096-918c-071766f9d119",
     "prev": "eece6729-94c5-47fb-a719-22c3d5f3cfd0",
     "regions": {
      "6f22c1a6-a49a-412f-bff8-7e72a23fc08a": {
       "attrs": {
        "height": 0.8,
        "width": 0.8,
        "x": 0.1,
        "y": 0.1
       },
       "content": {
        "cell": "3805e350-3dc0-43bc-85ac-70e207561110",
        "part": "whole"
       },
       "id": "6f22c1a6-a49a-412f-bff8-7e72a23fc08a"
      }
     }
    },
    "4c9bc1e2-0ad3-408d-9d18-141fa15728b1": {
     "id": "4c9bc1e2-0ad3-408d-9d18-141fa15728b1",
     "prev": "cf77c455-40f6-4cf1-b127-adbcecfce81b",
     "regions": {
      "0a3d4da9-43e2-4946-90eb-f54437e6b593": {
       "attrs": {
        "height": 0.8,
        "width": 0.8,
        "x": 0.1,
        "y": 0.1
       },
       "content": {
        "cell": "8c494ff5-db3c-45a8-8156-fc094fbb778b",
        "part": "whole"
       },
       "id": "0a3d4da9-43e2-4946-90eb-f54437e6b593"
      }
     }
    },
    "4cd6f548-f855-4341-8770-dd195e1cdc34": {
     "id": "4cd6f548-f855-4341-8770-dd195e1cdc34",
     "prev": "a4b116af-fdbe-44df-821d-31fc69e0302b",
     "regions": {
      "f6574726-83e5-4768-8d41-fcec9c29a863": {
       "attrs": {
        "height": 0.8,
        "width": 0.8,
        "x": 0.1,
        "y": 0.1
       },
       "content": {
        "cell": "aaafbdc9-b06c-4bcd-b582-d5ebad26e8da",
        "part": "whole"
       },
       "id": "f6574726-83e5-4768-8d41-fcec9c29a863"
      }
     }
    },
    "4d5c18bf-d0cb-4537-8515-1165cb52b7f8": {
     "id": "4d5c18bf-d0cb-4537-8515-1165cb52b7f8",
     "prev": "6fce7081-4b65-4458-a5dd-d6a3bda23f2a",
     "regions": {
      "50d4191f-7dcd-484d-9a88-773032feef84": {
       "attrs": {
        "height": 0.8,
        "width": 0.8,
        "x": 0.1,
        "y": 0.1
       },
       "content": {
        "cell": "9a5fa5a4-f531-4401-8107-b6e35d4ad886",
        "part": "whole"
       },
       "id": "50d4191f-7dcd-484d-9a88-773032feef84"
      }
     }
    },
    "4ef67c59-df1f-4d5f-ab52-db4ba6e8b204": {
     "id": "4ef67c59-df1f-4d5f-ab52-db4ba6e8b204",
     "prev": "30601af4-8b28-413d-a2cb-78cf6f634dd1",
     "regions": {
      "92bd4d65-2cce-4439-ae86-f8b4a34755b6": {
       "attrs": {
        "height": 0.8,
        "width": 0.8,
        "x": 0.1,
        "y": 0.1
       },
       "content": {
        "cell": "0b90a456-01c4-4e0e-a6da-b6eeab0329d2",
        "part": "whole"
       },
       "id": "92bd4d65-2cce-4439-ae86-f8b4a34755b6"
      }
     }
    },
    "4f5ecdb2-ce00-40d4-beda-66ba943451ad": {
     "id": "4f5ecdb2-ce00-40d4-beda-66ba943451ad",
     "prev": "cb853be9-977f-4bf7-8379-bdb37baffcb6",
     "regions": {
      "5ec5608d-8d5d-4261-8702-e984092aad76": {
       "attrs": {
        "height": 0.8,
        "width": 0.8,
        "x": 0.1,
        "y": 0.1
       },
       "content": {
        "cell": "82f70833-45b9-4e1b-825a-3a8265487f59",
        "part": "whole"
       },
       "id": "5ec5608d-8d5d-4261-8702-e984092aad76"
      }
     }
    },
    "4fdc323f-7414-4da4-a60b-a42de07c33ca": {
     "id": "4fdc323f-7414-4da4-a60b-a42de07c33ca",
     "prev": "dca220ab-dfb0-47a6-977c-266b174bc6bb",
     "regions": {
      "354547cd-c415-44f0-93bb-cc4f2aaac051": {
       "attrs": {
        "height": 0.8,
        "width": 0.8,
        "x": 0.1,
        "y": 0.1
       },
       "content": {
        "cell": "016b303b-b209-4ae4-8650-6188680667e9",
        "part": "whole"
       },
       "id": "354547cd-c415-44f0-93bb-cc4f2aaac051"
      }
     }
    },
    "510a132a-057f-44c4-b18c-7764e61322e8": {
     "id": "510a132a-057f-44c4-b18c-7764e61322e8",
     "prev": "6e1e8262-5b20-4004-b35a-08b1da1d76a5",
     "regions": {
      "867e6c57-42f6-481f-ac61-cca1affeab8c": {
       "attrs": {
        "height": 0.8,
        "width": 0.8,
        "x": 0.1,
        "y": 0.1
       },
       "content": {
        "cell": "0065e1d6-01b4-417e-bb70-d798eba5eeba",
        "part": "whole"
       },
       "id": "867e6c57-42f6-481f-ac61-cca1affeab8c"
      }
     }
    },
    "52bd6a48-15d4-45c6-aa5c-a9fe7574d6a8": {
     "id": "52bd6a48-15d4-45c6-aa5c-a9fe7574d6a8",
     "prev": "58004792-a99f-4fda-a800-94eca630e3cd",
     "regions": {
      "c8a37a3d-a92d-431a-a3e7-ffc3a24f346f": {
       "attrs": {
        "height": 0.8,
        "width": 0.8,
        "x": 0.1,
        "y": 0.1
       },
       "content": {
        "cell": "9c5ba150-f9a6-4b25-a9c6-3b67b60243fa",
        "part": "whole"
       },
       "id": "c8a37a3d-a92d-431a-a3e7-ffc3a24f346f"
      }
     }
    },
    "5328da0a-0a8b-4e74-a1ad-d188d61d93a1": {
     "id": "5328da0a-0a8b-4e74-a1ad-d188d61d93a1",
     "prev": "faf421a6-1b35-4386-9b01-53fc5ba9e2cc",
     "regions": {
      "c79d81f3-7d4f-4f2f-b608-94396a321c51": {
       "attrs": {
        "height": 0.8,
        "width": 0.8,
        "x": 0.1,
        "y": 0.1
       },
       "content": {
        "cell": "46826460-7718-412c-9848-95f0aef0a698",
        "part": "whole"
       },
       "id": "c79d81f3-7d4f-4f2f-b608-94396a321c51"
      }
     }
    },
    "534bab77-6e57-4a75-8789-1853537a5384": {
     "id": "534bab77-6e57-4a75-8789-1853537a5384",
     "prev": "2c073a5a-d542-4a9a-a00c-9b4faaf042e8",
     "regions": {
      "1ba77d6b-c9b5-47c7-9dd2-3e997f4972ef": {
       "attrs": {
        "height": 0.8,
        "width": 0.8,
        "x": 0.1,
        "y": 0.1
       },
       "content": {
        "cell": "264b3143-0452-49e2-9bc3-e3bf184db404",
        "part": "whole"
       },
       "id": "1ba77d6b-c9b5-47c7-9dd2-3e997f4972ef"
      }
     }
    },
    "537c59f0-6fc5-4fd9-9aae-30afc810a4bb": {
     "id": "537c59f0-6fc5-4fd9-9aae-30afc810a4bb",
     "prev": "b610c110-cb5c-412f-8d63-b94be9217575",
     "regions": {
      "c45cb3c5-e35b-4675-bed0-94b9160ffd27": {
       "attrs": {
        "height": 0.8,
        "width": 0.8,
        "x": 0.1,
        "y": 0.1
       },
       "content": {
        "cell": "baadc277-2c91-404d-bb1b-8a138ae67fa9",
        "part": "whole"
       },
       "id": "c45cb3c5-e35b-4675-bed0-94b9160ffd27"
      }
     }
    },
    "543028dc-5961-4f14-9393-775305c6df3b": {
     "id": "543028dc-5961-4f14-9393-775305c6df3b",
     "prev": "bed8f819-2572-4870-b8cb-dd3cccc4912a",
     "regions": {
      "2fe8f23c-9eb8-46d0-affa-0f246b0640a1": {
       "attrs": {
        "height": 0.8,
        "width": 0.8,
        "x": 0.1,
        "y": 0.1
       },
       "content": {
        "cell": "bc50a2ad-a1ab-4634-9506-e6e7cb65124a",
        "part": "whole"
       },
       "id": "2fe8f23c-9eb8-46d0-affa-0f246b0640a1"
      }
     }
    },
    "55da94e7-95a7-43f8-bbc5-d2bf7b2a4f87": {
     "id": "55da94e7-95a7-43f8-bbc5-d2bf7b2a4f87",
     "prev": "0ae08786-e1a3-4c8a-a29e-507998b617e4",
     "regions": {
      "db7379b9-21cc-472c-8d52-2a418a6b5a35": {
       "attrs": {
        "height": 0.8,
        "width": 0.8,
        "x": 0.1,
        "y": 0.1
       },
       "content": {
        "cell": "a7d6aea2-4fd5-4a88-8d7a-f6c4e59ab850",
        "part": "whole"
       },
       "id": "db7379b9-21cc-472c-8d52-2a418a6b5a35"
      }
     }
    },
    "57dab6e7-74a8-4a3c-9815-0228d2c41037": {
     "id": "57dab6e7-74a8-4a3c-9815-0228d2c41037",
     "prev": "e70b89d0-f2da-4acf-8470-f46c7e0ece77",
     "regions": {
      "de74a7ee-544f-46f9-a464-4fd4af7acc5d": {
       "attrs": {
        "height": 0.8,
        "width": 0.8,
        "x": 0.1,
        "y": 0.1
       },
       "content": {
        "cell": "5c2675b4-1e0f-4154-a24a-5feb9df7ca0b",
        "part": "whole"
       },
       "id": "de74a7ee-544f-46f9-a464-4fd4af7acc5d"
      }
     }
    },
    "58004792-a99f-4fda-a800-94eca630e3cd": {
     "id": "58004792-a99f-4fda-a800-94eca630e3cd",
     "prev": "c478c360-fe56-48f4-bd22-243c182eb8d0",
     "regions": {
      "fc27958a-efdd-42ae-9817-dd68cf3c54c5": {
       "attrs": {
        "height": 0.8,
        "width": 0.8,
        "x": 0.1,
        "y": 0.1
       },
       "content": {
        "cell": "20ddd7c0-4846-40ea-acb2-994969430aa3",
        "part": "whole"
       },
       "id": "fc27958a-efdd-42ae-9817-dd68cf3c54c5"
      }
     }
    },
    "597bbd3a-8aef-4d69-a9ad-f557dfbfbe61": {
     "id": "597bbd3a-8aef-4d69-a9ad-f557dfbfbe61",
     "prev": "faf93265-7b8d-4250-88e8-d6747ae07c4c",
     "regions": {
      "38b49cc6-2342-4dae-82ca-1dcbb8a9eae3": {
       "attrs": {
        "height": 0.8,
        "width": 0.8,
        "x": 0.1,
        "y": 0.1
       },
       "content": {
        "cell": "77d0e0a5-6aea-4d6b-a49b-34c88997f754",
        "part": "whole"
       },
       "id": "38b49cc6-2342-4dae-82ca-1dcbb8a9eae3"
      }
     }
    },
    "59c89aa3-d672-4729-b9f2-ecbf5eb9ed25": {
     "id": "59c89aa3-d672-4729-b9f2-ecbf5eb9ed25",
     "prev": "8c72d304-c8b4-49ed-9e88-276219194e1f",
     "regions": {
      "610a0f8c-9e1f-4216-9b3d-1d4ec93cbf9f": {
       "attrs": {
        "height": 0.8,
        "width": 0.8,
        "x": 0.1,
        "y": 0.1
       },
       "content": {
        "cell": "132cf2bd-435b-4eaa-b51a-0a20be9f9f30",
        "part": "whole"
       },
       "id": "610a0f8c-9e1f-4216-9b3d-1d4ec93cbf9f"
      }
     }
    },
    "5a080798-5034-47d8-b043-ec4b89b1cff6": {
     "id": "5a080798-5034-47d8-b043-ec4b89b1cff6",
     "prev": "2661b4d7-6b3f-4dbd-a4b5-1d7fa98a98a2",
     "regions": {
      "4ea3f669-6fbb-4d08-8ed9-abc1f06e3988": {
       "attrs": {
        "height": 0.8,
        "width": 0.8,
        "x": 0.1,
        "y": 0.1
       },
       "content": {
        "cell": "a19f62b9-ecc9-499f-a193-24af65f5e128",
        "part": "whole"
       },
       "id": "4ea3f669-6fbb-4d08-8ed9-abc1f06e3988"
      }
     }
    },
    "5a11b0b8-85dc-4553-b521-8c987664f9e3": {
     "id": "5a11b0b8-85dc-4553-b521-8c987664f9e3",
     "prev": "c26ebabf-15f6-4105-a991-b6e437957f21",
     "regions": {
      "18667969-903d-4bc9-9e0a-b2074ccd09c6": {
       "attrs": {
        "height": 0.8,
        "width": 0.8,
        "x": 0.1,
        "y": 0.1
       },
       "content": {
        "cell": "511ec830-878a-438f-80ee-25f54539412b",
        "part": "whole"
       },
       "id": "18667969-903d-4bc9-9e0a-b2074ccd09c6"
      }
     }
    },
    "5a5f9a9d-af91-43c9-9fdd-60dbefa50743": {
     "id": "5a5f9a9d-af91-43c9-9fdd-60dbefa50743",
     "prev": "8b825a2c-3f8a-4cd9-bd29-135c57db5a23",
     "regions": {
      "69101a6b-0b07-44ad-abec-53b33a11084c": {
       "attrs": {
        "height": 0.8,
        "width": 0.8,
        "x": 0.1,
        "y": 0.1
       },
       "content": {
        "cell": "acd09804-14f6-44fe-b87b-7c8e0817ef01",
        "part": "whole"
       },
       "id": "69101a6b-0b07-44ad-abec-53b33a11084c"
      }
     }
    },
    "5b5361cf-4aea-4ff1-b07a-ac8dd91af01f": {
     "id": "5b5361cf-4aea-4ff1-b07a-ac8dd91af01f",
     "prev": "6ec9d9aa-70df-47e2-8812-be6d1a87d01f",
     "regions": {
      "b9acaa21-26ad-43f4-8541-24f72de6e412": {
       "attrs": {
        "height": 0.8,
        "width": 0.8,
        "x": 0.1,
        "y": 0.1
       },
       "content": {
        "cell": "d81eabac-f590-4066-bfba-220b6d133b2a",
        "part": "whole"
       },
       "id": "b9acaa21-26ad-43f4-8541-24f72de6e412"
      }
     }
    },
    "5b8f74e7-1c7c-49f7-99c5-b46b301f6c9b": {
     "id": "5b8f74e7-1c7c-49f7-99c5-b46b301f6c9b",
     "prev": "e78eb032-6d32-4061-845f-0a50f13cf8ab",
     "regions": {
      "5c446402-91dc-4148-9936-c5ca602b7223": {
       "attrs": {
        "height": 0.8,
        "width": 0.8,
        "x": 0.1,
        "y": 0.1
       },
       "content": {
        "cell": "93d9f53c-d034-4962-9989-7dfd93042e7a",
        "part": "whole"
       },
       "id": "5c446402-91dc-4148-9936-c5ca602b7223"
      }
     }
    },
    "5c0ef946-5958-4c6d-afab-0b046aa627d5": {
     "id": "5c0ef946-5958-4c6d-afab-0b046aa627d5",
     "prev": "b531313f-5c75-4548-bf7b-1a0edebd7a0c",
     "regions": {
      "3d1d40ff-0fba-4399-97a7-666a5221f1bc": {
       "attrs": {
        "height": 0.8,
        "width": 0.8,
        "x": 0.1,
        "y": 0.1
       },
       "content": {
        "cell": "9b4610f2-539a-4aae-9f29-b26dd844d1e1",
        "part": "whole"
       },
       "id": "3d1d40ff-0fba-4399-97a7-666a5221f1bc"
      }
     }
    },
    "5c622f1a-a818-42db-afc2-dc9e1dd5b2fc": {
     "id": "5c622f1a-a818-42db-afc2-dc9e1dd5b2fc",
     "prev": "7415770a-d809-4356-9a62-073ace8de290",
     "regions": {
      "cddb40fc-5578-4147-a636-ec4f513d7398": {
       "attrs": {
        "height": 0.8,
        "width": 0.8,
        "x": 0.1,
        "y": 0.1
       },
       "content": {
        "cell": "915c3260-a7ca-40a2-9a98-a2bfb6691b8c",
        "part": "whole"
       },
       "id": "cddb40fc-5578-4147-a636-ec4f513d7398"
      }
     }
    },
    "5edcb9b0-4500-4e62-9a46-accaef05291c": {
     "id": "5edcb9b0-4500-4e62-9a46-accaef05291c",
     "prev": "3bf99ed5-5325-4d11-bad2-fb6fe3b14549",
     "regions": {
      "d54b91c8-17d7-4e7b-ac11-bd118547c3f9": {
       "attrs": {
        "height": 0.8,
        "width": 0.8,
        "x": 0.1,
        "y": 0.1
       },
       "content": {
        "cell": "db62e4f9-1b41-4ff0-ab83-80752fda1c42",
        "part": "whole"
       },
       "id": "d54b91c8-17d7-4e7b-ac11-bd118547c3f9"
      }
     }
    },
    "5fb0a1b8-7451-4c64-99fc-c05106dafb33": {
     "id": "5fb0a1b8-7451-4c64-99fc-c05106dafb33",
     "prev": "99388ec1-963c-49c0-9677-e90a72463b2d",
     "regions": {
      "a433b1da-78fb-4bf8-a037-bb3480797b70": {
       "attrs": {
        "height": 0.8,
        "width": 0.8,
        "x": 0.1,
        "y": 0.1
       },
       "content": {
        "cell": "2b281da4-735a-4c33-a30c-c6ffb1e9c24c",
        "part": "whole"
       },
       "id": "a433b1da-78fb-4bf8-a037-bb3480797b70"
      }
     }
    },
    "5fbf18ed-7879-44d1-8313-50d1640be037": {
     "id": "5fbf18ed-7879-44d1-8313-50d1640be037",
     "prev": "3623a643-4672-40c1-8bde-8ad56105e6a8",
     "regions": {
      "214c7b4f-0b74-4b81-932d-d39edf208458": {
       "attrs": {
        "height": 0.8,
        "width": 0.8,
        "x": 0.1,
        "y": 0.1
       },
       "content": {
        "cell": "492220a5-fc0b-417c-a989-7f96be98999b",
        "part": "whole"
       },
       "id": "214c7b4f-0b74-4b81-932d-d39edf208458"
      }
     }
    },
    "5fe6078e-8b85-4455-9f1c-0d414847f4cd": {
     "id": "5fe6078e-8b85-4455-9f1c-0d414847f4cd",
     "prev": "74db5553-d4e5-4fa5-8352-9626d6201da1",
     "regions": {
      "df16ed12-660c-4dae-80ca-3ed579784dcf": {
       "attrs": {
        "height": 0.8,
        "width": 0.8,
        "x": 0.1,
        "y": 0.1
       },
       "content": {
        "cell": "368b9250-83d4-43a8-89c0-70d1c1782581",
        "part": "whole"
       },
       "id": "df16ed12-660c-4dae-80ca-3ed579784dcf"
      }
     }
    },
    "61212803-76ff-41d3-8282-839e24ed7f61": {
     "id": "61212803-76ff-41d3-8282-839e24ed7f61",
     "prev": "ff4d9770-e777-40f0-b656-eb75bab61341",
     "regions": {
      "96b38c65-9822-43dc-9da3-90428a2fcd50": {
       "attrs": {
        "height": 0.8,
        "width": 0.8,
        "x": 0.1,
        "y": 0.1
       },
       "content": {
        "cell": "ad71b9ec-58a2-46f8-aade-b865af572771",
        "part": "whole"
       },
       "id": "96b38c65-9822-43dc-9da3-90428a2fcd50"
      }
     }
    },
    "627c69c2-abb0-4b8e-9e4c-ed7734bddd91": {
     "id": "627c69c2-abb0-4b8e-9e4c-ed7734bddd91",
     "prev": "64c81135-be2c-45d8-b598-2e71c2901aae",
     "regions": {
      "3acb1877-03ae-4899-ae82-da48b67433b1": {
       "attrs": {
        "height": 0.8,
        "width": 0.8,
        "x": 0.1,
        "y": 0.1
       },
       "content": {
        "cell": "9f1a3e90-57cd-424b-842f-cc1e355a7a47",
        "part": "whole"
       },
       "id": "3acb1877-03ae-4899-ae82-da48b67433b1"
      }
     }
    },
    "62a20ed4-657b-4387-b374-2d14f62069d5": {
     "id": "62a20ed4-657b-4387-b374-2d14f62069d5",
     "prev": "305b5fe1-270c-4095-b503-5f0cfb203f71",
     "regions": {
      "c8cda145-5daa-452a-8150-c0a957b14f4e": {
       "attrs": {
        "height": 0.8,
        "width": 0.8,
        "x": 0.1,
        "y": 0.1
       },
       "content": {
        "cell": "69676cbd-1ca5-447f-b79a-4d8f3b4a0f0a",
        "part": "whole"
       },
       "id": "c8cda145-5daa-452a-8150-c0a957b14f4e"
      }
     }
    },
    "62c74800-592b-4e81-8ee4-42b1cc7508c7": {
     "id": "62c74800-592b-4e81-8ee4-42b1cc7508c7",
     "prev": "1ffcd3d5-c380-4c6d-944c-b57a3f57e340",
     "regions": {
      "9a230500-06ac-46cf-98f1-b4041da72363": {
       "attrs": {
        "height": 0.8,
        "width": 0.8,
        "x": 0.1,
        "y": 0.1
       },
       "content": {
        "cell": "31c7a218-f76a-4a4a-b559-5d4da752a305",
        "part": "whole"
       },
       "id": "9a230500-06ac-46cf-98f1-b4041da72363"
      }
     }
    },
    "64c81135-be2c-45d8-b598-2e71c2901aae": {
     "id": "64c81135-be2c-45d8-b598-2e71c2901aae",
     "prev": "d2628a75-41c0-4f5d-a4be-fbc27d25651b",
     "regions": {
      "1c3f5f02-d38c-4b66-98d9-cbaf8976264d": {
       "attrs": {
        "height": 0.8,
        "width": 0.8,
        "x": 0.1,
        "y": 0.1
       },
       "content": {
        "cell": "cc9fc424-9ba7-4a7c-b6fa-2f57d6a0e214",
        "part": "whole"
       },
       "id": "1c3f5f02-d38c-4b66-98d9-cbaf8976264d"
      }
     }
    },
    "66cab880-2812-46aa-ba10-a511edb77d58": {
     "id": "66cab880-2812-46aa-ba10-a511edb77d58",
     "prev": "39847f11-f850-475d-b26b-ae3375ee5e5e",
     "regions": {
      "838a0088-0ed2-4ad0-bffc-37aabf391007": {
       "attrs": {
        "height": 0.8,
        "width": 0.8,
        "x": 0.1,
        "y": 0.1
       },
       "content": {
        "cell": "524f8dcc-cb8e-4006-9d6a-c8fe01f211b1",
        "part": "whole"
       },
       "id": "838a0088-0ed2-4ad0-bffc-37aabf391007"
      }
     }
    },
    "67235d9e-e4ea-4d61-8d94-de9d4ccf7224": {
     "id": "67235d9e-e4ea-4d61-8d94-de9d4ccf7224",
     "prev": "1fe3efee-54a7-4c93-8236-81b38c483c3e",
     "regions": {
      "daa66e6a-1185-450f-b355-f9eb44120504": {
       "attrs": {
        "height": 0.8,
        "width": 0.8,
        "x": 0.1,
        "y": 0.1
       },
       "content": {
        "cell": "5455e08c-0ace-4d68-b216-c9ad5e16c650",
        "part": "whole"
       },
       "id": "daa66e6a-1185-450f-b355-f9eb44120504"
      }
     }
    },
    "6866fe5e-abfa-4858-90aa-72f55a798045": {
     "id": "6866fe5e-abfa-4858-90aa-72f55a798045",
     "prev": "40b652af-53e5-471d-ab84-0fe89254fff5",
     "regions": {
      "700a5b19-67e8-4049-9aa0-323d5545a846": {
       "attrs": {
        "height": 0.8,
        "width": 0.8,
        "x": 0.1,
        "y": 0.1
       },
       "content": {
        "cell": "9f837727-e191-46b5-a31a-8f8762689aac",
        "part": "whole"
       },
       "id": "700a5b19-67e8-4049-9aa0-323d5545a846"
      }
     }
    },
    "6b82cdd2-25b8-44fd-861d-d607ca95c3bf": {
     "id": "6b82cdd2-25b8-44fd-861d-d607ca95c3bf",
     "prev": "87904eca-a4c3-4ef9-be32-7926ff711874",
     "regions": {
      "9afae0f4-dc3b-4f81-ba9a-b6d389252730": {
       "attrs": {
        "height": 0.8,
        "width": 0.8,
        "x": 0.1,
        "y": 0.1
       },
       "content": {
        "cell": "86d97083-6c93-4fc3-b450-186e72c343fb",
        "part": "whole"
       },
       "id": "9afae0f4-dc3b-4f81-ba9a-b6d389252730"
      }
     }
    },
    "6d17181f-301b-4c7f-a16b-3e26a748c979": {
     "id": "6d17181f-301b-4c7f-a16b-3e26a748c979",
     "prev": "f993d2a9-5899-4539-85e1-9487a1d8956e",
     "regions": {
      "ac776851-679f-46ec-a87b-25b1c1e4204f": {
       "attrs": {
        "height": 0.8,
        "width": 0.8,
        "x": 0.1,
        "y": 0.1
       },
       "content": {
        "cell": "0bdf499e-f382-4db3-9052-6f8fbc690d12",
        "part": "whole"
       },
       "id": "ac776851-679f-46ec-a87b-25b1c1e4204f"
      }
     }
    },
    "6e1e8262-5b20-4004-b35a-08b1da1d76a5": {
     "id": "6e1e8262-5b20-4004-b35a-08b1da1d76a5",
     "prev": "156ab83a-3295-4b56-a4b9-64b32de2175e",
     "regions": {
      "f7d0b3f1-bcd4-4fb7-9309-feb2759dbced": {
       "attrs": {
        "height": 0.8,
        "width": 0.8,
        "x": 0.1,
        "y": 0.1
       },
       "content": {
        "cell": "cfb96387-5e69-420d-b433-f3c6cc686fef",
        "part": "whole"
       },
       "id": "f7d0b3f1-bcd4-4fb7-9309-feb2759dbced"
      }
     }
    },
    "6e766c81-0842-471a-9f82-64650afd6fcd": {
     "id": "6e766c81-0842-471a-9f82-64650afd6fcd",
     "prev": "00be882d-c3a8-4ddb-a3f9-be22eaac5a06",
     "regions": {
      "1de391e6-ad2e-448e-b98f-0f704e4568bb": {
       "attrs": {
        "height": 0.8,
        "width": 0.8,
        "x": 0.1,
        "y": 0.1
       },
       "content": {
        "cell": "5b0dd3bf-1718-4ab1-bc99-5a009045ca7b",
        "part": "whole"
       },
       "id": "1de391e6-ad2e-448e-b98f-0f704e4568bb"
      }
     }
    },
    "6ec9d9aa-70df-47e2-8812-be6d1a87d01f": {
     "id": "6ec9d9aa-70df-47e2-8812-be6d1a87d01f",
     "prev": "77b2a132-b25e-4c7d-810f-32fcd0e14b31",
     "regions": {
      "8f89d974-6fe7-493a-afcc-68549d8d7a5c": {
       "attrs": {
        "height": 0.8,
        "width": 0.8,
        "x": 0.1,
        "y": 0.1
       },
       "content": {
        "cell": "20be077c-3137-47c0-9e8d-fb87cde00364",
        "part": "whole"
       },
       "id": "8f89d974-6fe7-493a-afcc-68549d8d7a5c"
      }
     }
    },
    "6f02a3b5-a86d-41b8-962a-c6b45f3961c9": {
     "id": "6f02a3b5-a86d-41b8-962a-c6b45f3961c9",
     "prev": "a6e178b3-b1c7-4444-a705-3f16064d9310",
     "regions": {
      "925f0ae8-5709-434b-8e08-de1645bbca74": {
       "attrs": {
        "height": 0.8,
        "width": 0.8,
        "x": 0.1,
        "y": 0.1
       },
       "content": {
        "cell": "0f2bdc30-b3b3-4b94-8b2e-baad840b9d53",
        "part": "whole"
       },
       "id": "925f0ae8-5709-434b-8e08-de1645bbca74"
      }
     }
    },
    "6fce7081-4b65-4458-a5dd-d6a3bda23f2a": {
     "id": "6fce7081-4b65-4458-a5dd-d6a3bda23f2a",
     "prev": "534bab77-6e57-4a75-8789-1853537a5384",
     "regions": {
      "b4d5ea13-0098-4321-9d53-08fcf762b1de": {
       "attrs": {
        "height": 0.8,
        "width": 0.8,
        "x": 0.1,
        "y": 0.1
       },
       "content": {
        "cell": "918884b2-2e9f-4138-8f9b-938645b93567",
        "part": "whole"
       },
       "id": "b4d5ea13-0098-4321-9d53-08fcf762b1de"
      }
     }
    },
    "71e8d077-4a57-4dbf-a9c3-6fd13e2e2446": {
     "id": "71e8d077-4a57-4dbf-a9c3-6fd13e2e2446",
     "prev": "0e3c30a3-c2d0-4c3b-a0ce-e5a6a28d5e66",
     "regions": {
      "89ad5ae8-115e-4ca1-8d37-bd52f24e2574": {
       "attrs": {
        "height": 0.8,
        "width": 0.8,
        "x": 0.1,
        "y": 0.1
       },
       "content": {
        "cell": "7cfeb25e-9ef7-4848-a95c-96a01e768e21",
        "part": "whole"
       },
       "id": "89ad5ae8-115e-4ca1-8d37-bd52f24e2574"
      }
     }
    },
    "7233bfb2-a9a0-49e6-8c5d-3dc530234d64": {
     "id": "7233bfb2-a9a0-49e6-8c5d-3dc530234d64",
     "prev": "f7709f72-651b-441f-9f6b-91e1158930b8",
     "regions": {
      "e8b29574-8737-411b-80dc-10a4b8eaabbe": {
       "attrs": {
        "height": 0.8,
        "width": 0.8,
        "x": 0.1,
        "y": 0.1
       },
       "content": {
        "cell": "0a484de6-0984-45f1-b2ce-2f3514ae35b2",
        "part": "whole"
       },
       "id": "e8b29574-8737-411b-80dc-10a4b8eaabbe"
      }
     }
    },
    "72f89bb0-6e73-4da4-b8c7-ab5ee81dfca3": {
     "id": "72f89bb0-6e73-4da4-b8c7-ab5ee81dfca3",
     "prev": "04c7dc6e-56a6-4b37-96e7-4d044d3b50c9",
     "regions": {
      "595ffcf0-7923-4e34-a983-acf92f894d8f": {
       "attrs": {
        "height": 0.8,
        "width": 0.8,
        "x": 0.1,
        "y": 0.1
       },
       "content": {
        "cell": "1405357f-a7e9-4003-bba2-3ee0253a7b7f",
        "part": "whole"
       },
       "id": "595ffcf0-7923-4e34-a983-acf92f894d8f"
      }
     }
    },
    "73237e96-31b4-48ca-bf1b-38ef5721e45a": {
     "id": "73237e96-31b4-48ca-bf1b-38ef5721e45a",
     "prev": "5c622f1a-a818-42db-afc2-dc9e1dd5b2fc",
     "regions": {
      "7c80736c-12c6-42af-b139-30038c9759cf": {
       "attrs": {
        "height": 0.8,
        "width": 0.8,
        "x": 0.1,
        "y": 0.1
       },
       "content": {
        "cell": "b08541b9-6990-4579-9a77-30c978f35023",
        "part": "whole"
       },
       "id": "7c80736c-12c6-42af-b139-30038c9759cf"
      }
     }
    },
    "739e0453-f378-4ac2-8b16-03dbc4dbe396": {
     "id": "739e0453-f378-4ac2-8b16-03dbc4dbe396",
     "prev": "35162f72-7137-42b4-8dc6-829651087cc0",
     "regions": {
      "3527ff50-cd8d-4456-9464-35ecfd470e05": {
       "attrs": {
        "height": 0.8,
        "width": 0.8,
        "x": 0.1,
        "y": 0.1
       },
       "content": {
        "cell": "f37d2eb0-4353-4a1e-9b52-c2217860240b",
        "part": "whole"
       },
       "id": "3527ff50-cd8d-4456-9464-35ecfd470e05"
      }
     }
    },
    "7415770a-d809-4356-9a62-073ace8de290": {
     "id": "7415770a-d809-4356-9a62-073ace8de290",
     "prev": "1c337d79-0b63-4d36-b7ec-9821039a14e4",
     "regions": {
      "b8711c82-b861-4d46-a257-c39cb14ca4f5": {
       "attrs": {
        "height": 0.8,
        "width": 0.8,
        "x": 0.1,
        "y": 0.1
       },
       "content": {
        "cell": "0e51a9b1-cba5-4e02-bd2b-432f2ff38e2b",
        "part": "whole"
       },
       "id": "b8711c82-b861-4d46-a257-c39cb14ca4f5"
      }
     }
    },
    "74db5553-d4e5-4fa5-8352-9626d6201da1": {
     "id": "74db5553-d4e5-4fa5-8352-9626d6201da1",
     "prev": "e929414e-e0d2-4168-affe-4569fbe3e2b0",
     "regions": {
      "50932486-fa86-4607-a472-85695b1252dd": {
       "attrs": {
        "height": 0.8,
        "width": 0.8,
        "x": 0.1,
        "y": 0.1
       },
       "content": {
        "cell": "41c24333-8e24-4026-a82a-9e92afb8bbbd",
        "part": "whole"
       },
       "id": "50932486-fa86-4607-a472-85695b1252dd"
      }
     }
    },
    "74fd0dc8-5157-40a6-9d89-04b501e9f469": {
     "id": "74fd0dc8-5157-40a6-9d89-04b501e9f469",
     "prev": "7b52735f-3223-4e57-9299-3edf929a26ee",
     "regions": {
      "4129fded-f492-480e-8473-2c85fa6f81f2": {
       "attrs": {
        "height": 0.8,
        "width": 0.8,
        "x": 0.1,
        "y": 0.1
       },
       "content": {
        "cell": "4d4d5c12-4419-4ff7-9a1e-bb6a7fea7450",
        "part": "whole"
       },
       "id": "4129fded-f492-480e-8473-2c85fa6f81f2"
      }
     }
    },
    "774f3a2a-661a-4b0e-b1f8-99ced565806a": {
     "id": "774f3a2a-661a-4b0e-b1f8-99ced565806a",
     "prev": "486f0e13-e058-457d-9e29-3a2607691327",
     "regions": {
      "f8493824-df85-4088-80d5-41735394394a": {
       "attrs": {
        "height": 0.8,
        "width": 0.8,
        "x": 0.1,
        "y": 0.1
       },
       "content": {
        "cell": "29cd05cc-20e8-46bc-8cfb-a060740a696b",
        "part": "whole"
       },
       "id": "f8493824-df85-4088-80d5-41735394394a"
      }
     }
    },
    "77b2a132-b25e-4c7d-810f-32fcd0e14b31": {
     "id": "77b2a132-b25e-4c7d-810f-32fcd0e14b31",
     "prev": "6866fe5e-abfa-4858-90aa-72f55a798045",
     "regions": {
      "ce4f2b58-9b04-4d3e-8e45-35b195a25bc3": {
       "attrs": {
        "height": 0.8,
        "width": 0.8,
        "x": 0.1,
        "y": 0.1
       },
       "content": {
        "cell": "229f3a62-9680-4273-a1a8-dae59afc0440",
        "part": "whole"
       },
       "id": "ce4f2b58-9b04-4d3e-8e45-35b195a25bc3"
      }
     }
    },
    "78e93720-cc34-4279-bf52-bdcf8683d5fd": {
     "id": "78e93720-cc34-4279-bf52-bdcf8683d5fd",
     "prev": "627c69c2-abb0-4b8e-9e4c-ed7734bddd91",
     "regions": {
      "9b765f66-aa18-486e-8b9e-7306dd930e79": {
       "attrs": {
        "height": 0.8,
        "width": 0.8,
        "x": 0.1,
        "y": 0.1
       },
       "content": {
        "cell": "7c63408f-eedb-4bbf-ba2d-058aac52cadb",
        "part": "whole"
       },
       "id": "9b765f66-aa18-486e-8b9e-7306dd930e79"
      }
     }
    },
    "79ab271b-b77e-4303-a5f4-992d8e22f9b6": {
     "id": "79ab271b-b77e-4303-a5f4-992d8e22f9b6",
     "prev": "62a20ed4-657b-4387-b374-2d14f62069d5",
     "regions": {
      "ffc57bde-74e1-4d2a-a742-5f58aef7a5c0": {
       "attrs": {
        "height": 0.8,
        "width": 0.8,
        "x": 0.1,
        "y": 0.1
       },
       "content": {
        "cell": "e5ee37c4-fb2f-4a9e-94e2-f50f180cba00",
        "part": "whole"
       },
       "id": "ffc57bde-74e1-4d2a-a742-5f58aef7a5c0"
      }
     }
    },
    "7aea1ae9-8ad4-466f-beda-4a158a49806a": {
     "id": "7aea1ae9-8ad4-466f-beda-4a158a49806a",
     "prev": "b79d0b18-ecf5-4e9b-9d8a-7abc883bc74a",
     "regions": {
      "8cb982b9-3984-4d91-9ec0-87c5ee6a4822": {
       "attrs": {
        "height": 0.8,
        "width": 0.8,
        "x": 0.1,
        "y": 0.1
       },
       "content": {
        "cell": "bba49903-3b7a-46a4-a763-8796b0f09001",
        "part": "whole"
       },
       "id": "8cb982b9-3984-4d91-9ec0-87c5ee6a4822"
      }
     }
    },
    "7b52735f-3223-4e57-9299-3edf929a26ee": {
     "id": "7b52735f-3223-4e57-9299-3edf929a26ee",
     "prev": "3fd4e142-a9a8-47b5-9c02-f2a0e6491261",
     "regions": {
      "8e90428e-155e-4b9f-aafd-7bc610b018f3": {
       "attrs": {
        "height": 0.8,
        "width": 0.8,
        "x": 0.1,
        "y": 0.1
       },
       "content": {
        "cell": "4fac6ba7-cdd8-49ec-822d-fe40b4405154",
        "part": "whole"
       },
       "id": "8e90428e-155e-4b9f-aafd-7bc610b018f3"
      }
     }
    },
    "7ca42bf0-7c65-4a97-8eb5-b4a898e14deb": {
     "id": "7ca42bf0-7c65-4a97-8eb5-b4a898e14deb",
     "prev": "1611fb40-f61a-4f70-8607-5a00e2803fba",
     "regions": {
      "170d333f-2072-4da7-9cb4-3a73000724da": {
       "attrs": {
        "height": 0.8,
        "width": 0.8,
        "x": 0.1,
        "y": 0.1
       },
       "content": {
        "cell": "2bdd0bb7-cbd4-40e0-8cb1-60ffb776446f",
        "part": "whole"
       },
       "id": "170d333f-2072-4da7-9cb4-3a73000724da"
      }
     }
    },
    "7d39fb8d-7079-4892-b775-190ec2fdc152": {
     "id": "7d39fb8d-7079-4892-b775-190ec2fdc152",
     "prev": "cf72ec77-a71e-4379-a8d7-07e4bd86a0bb",
     "regions": {
      "e1d0cbaa-6778-4e34-82e2-e7f455c5db0f": {
       "attrs": {
        "height": 0.8,
        "width": 0.8,
        "x": 0.1,
        "y": 0.1
       },
       "content": {
        "cell": "afd4bef4-0bb6-4571-83af-4e9d0d7e835f",
        "part": "whole"
       },
       "id": "e1d0cbaa-6778-4e34-82e2-e7f455c5db0f"
      }
     }
    },
    "7e56649c-ac84-479c-a706-bd1005b5c4be": {
     "id": "7e56649c-ac84-479c-a706-bd1005b5c4be",
     "prev": "eecfe1df-3b89-40d6-b9be-f2eb468c3001",
     "regions": {
      "ed632260-20fe-4405-9c67-edc16ee565aa": {
       "attrs": {
        "height": 0.8,
        "width": 0.8,
        "x": 0.1,
        "y": 0.1
       },
       "content": {
        "cell": "b2617b4c-79cc-428b-a330-5ce2f2bffc55",
        "part": "whole"
       },
       "id": "ed632260-20fe-4405-9c67-edc16ee565aa"
      }
     }
    },
    "7e6979c5-cb2e-4bc4-89d0-4964b1a5917e": {
     "id": "7e6979c5-cb2e-4bc4-89d0-4964b1a5917e",
     "prev": "dfd5999b-6769-40ff-8887-0b04d420b528",
     "regions": {
      "887247fd-5b68-4f08-a555-893c2d29318e": {
       "attrs": {
        "height": 0.8,
        "width": 0.8,
        "x": 0.1,
        "y": 0.1
       },
       "content": {
        "cell": "34dd5fa3-aef8-434e-8815-4f3ca3a8780f",
        "part": "whole"
       },
       "id": "887247fd-5b68-4f08-a555-893c2d29318e"
      }
     }
    },
    "7febe81d-cb63-4c0d-9ea9-51aaba2dcb93": {
     "id": "7febe81d-cb63-4c0d-9ea9-51aaba2dcb93",
     "prev": "fe573511-bd88-4e6a-8269-6639fb5b5ec0",
     "regions": {
      "7fcfb6b6-e5bd-4a2c-9f81-a1bdafadd362": {
       "attrs": {
        "height": 0.8,
        "width": 0.8,
        "x": 0.1,
        "y": 0.1
       },
       "content": {
        "cell": "bcb08268-289f-4698-bdbf-b4de2c4cf8ae",
        "part": "whole"
       },
       "id": "7fcfb6b6-e5bd-4a2c-9f81-a1bdafadd362"
      }
     }
    },
    "806a1818-a6e4-4c7b-a044-72ece59faace": {
     "id": "806a1818-a6e4-4c7b-a044-72ece59faace",
     "prev": "f51e25a3-b0cf-4560-882f-6674cd6e703b",
     "regions": {
      "cc9797ed-ab79-41d1-a2cb-d27d02c72b44": {
       "attrs": {
        "height": 0.8,
        "width": 0.8,
        "x": 0.1,
        "y": 0.1
       },
       "content": {
        "cell": "1965bf37-20c7-4184-8b9c-bfa3f652530a",
        "part": "whole"
       },
       "id": "cc9797ed-ab79-41d1-a2cb-d27d02c72b44"
      }
     }
    },
    "860422cb-adc3-428b-96e7-4c9bf6f19dca": {
     "id": "860422cb-adc3-428b-96e7-4c9bf6f19dca",
     "prev": "33f286e2-5686-4e03-ad39-3f7c0ae2389d",
     "regions": {
      "015060a0-b7df-4194-adec-02413e10eb57": {
       "attrs": {
        "height": 0.8,
        "width": 0.8,
        "x": 0.1,
        "y": 0.1
       },
       "content": {
        "cell": "120b3b48-e184-4115-8446-f026dda1a6c8",
        "part": "whole"
       },
       "id": "015060a0-b7df-4194-adec-02413e10eb57"
      }
     }
    },
    "87904eca-a4c3-4ef9-be32-7926ff711874": {
     "id": "87904eca-a4c3-4ef9-be32-7926ff711874",
     "prev": "164ea73e-d07b-4d51-86e7-b70cf484821f",
     "regions": {
      "c786c778-2a0b-41a4-b487-2f6ef2c3c97c": {
       "attrs": {
        "height": 0.8,
        "width": 0.8,
        "x": 0.1,
        "y": 0.1
       },
       "content": {
        "cell": "faecc5f9-2cf3-4a9d-af63-88fc57a4323e",
        "part": "whole"
       },
       "id": "c786c778-2a0b-41a4-b487-2f6ef2c3c97c"
      }
     }
    },
    "87912b5e-9f96-41b1-ab0a-c2108d62dc10": {
     "id": "87912b5e-9f96-41b1-ab0a-c2108d62dc10",
     "prev": "d04b7d36-78ac-44af-a6d2-11f9416edef5",
     "regions": {
      "f04a26fa-1f30-49ab-8294-e52196c94139": {
       "attrs": {
        "height": 0.8,
        "width": 0.8,
        "x": 0.1,
        "y": 0.1
       },
       "content": {
        "cell": "5c229d6c-765f-4f4e-ab2b-dd643d905f4e",
        "part": "whole"
       },
       "id": "f04a26fa-1f30-49ab-8294-e52196c94139"
      }
     }
    },
    "88685916-745e-49ed-9623-30d558ac1d8f": {
     "id": "88685916-745e-49ed-9623-30d558ac1d8f",
     "prev": "f772746c-7eb7-4158-8d60-7182220995d8",
     "regions": {
      "0d4950dc-a110-40bd-9f58-88942b8bd633": {
       "attrs": {
        "height": 0.8,
        "width": 0.8,
        "x": 0.1,
        "y": 0.1
       },
       "content": {
        "cell": "19a73b11-da7f-4c9a-8dd8-a8840ce626dd",
        "part": "whole"
       },
       "id": "0d4950dc-a110-40bd-9f58-88942b8bd633"
      }
     }
    },
    "88d4250e-a343-45f4-9d11-8220114e4efd": {
     "id": "88d4250e-a343-45f4-9d11-8220114e4efd",
     "prev": "7e56649c-ac84-479c-a706-bd1005b5c4be",
     "regions": {
      "807a251e-1d6f-4f32-90a7-85c0d84827a0": {
       "attrs": {
        "height": 0.8,
        "width": 0.8,
        "x": 0.1,
        "y": 0.1
       },
       "content": {
        "cell": "eb2344c0-d3c2-4655-9ecb-f0c637f0863b",
        "part": "whole"
       },
       "id": "807a251e-1d6f-4f32-90a7-85c0d84827a0"
      }
     }
    },
    "8a024791-f8ef-48df-b5f7-9c19dbccba77": {
     "id": "8a024791-f8ef-48df-b5f7-9c19dbccba77",
     "prev": "52bd6a48-15d4-45c6-aa5c-a9fe7574d6a8",
     "regions": {
      "509dd4a3-a2a3-4f72-b457-77ce3899108b": {
       "attrs": {
        "height": 0.8,
        "width": 0.8,
        "x": 0.1,
        "y": 0.1
       },
       "content": {
        "cell": "63a46ece-8652-4863-8d79-d37350a4c9e6",
        "part": "whole"
       },
       "id": "509dd4a3-a2a3-4f72-b457-77ce3899108b"
      }
     }
    },
    "8a5e3042-bfae-4bae-b055-e8fdb415f599": {
     "id": "8a5e3042-bfae-4bae-b055-e8fdb415f599",
     "prev": "f6432fd6-4a3b-440b-9ef3-6acd2bdeacb6",
     "regions": {
      "51fc4b7c-fd54-44b3-abe5-c3ae7f7bbc91": {
       "attrs": {
        "height": 0.8,
        "width": 0.8,
        "x": 0.1,
        "y": 0.1
       },
       "content": {
        "cell": "002799da-b4ff-4b3a-a54d-e77fc5839c85",
        "part": "whole"
       },
       "id": "51fc4b7c-fd54-44b3-abe5-c3ae7f7bbc91"
      }
     }
    },
    "8b825a2c-3f8a-4cd9-bd29-135c57db5a23": {
     "id": "8b825a2c-3f8a-4cd9-bd29-135c57db5a23",
     "prev": "2356fd5a-7815-457e-a8a8-ec81e5cd5628",
     "regions": {
      "7291f968-4391-47bc-877b-409d29949d83": {
       "attrs": {
        "height": 0.8,
        "width": 0.8,
        "x": 0.1,
        "y": 0.1
       },
       "content": {
        "cell": "3ed0b7d9-1159-4951-b081-7e8f9d415e0e",
        "part": "whole"
       },
       "id": "7291f968-4391-47bc-877b-409d29949d83"
      }
     }
    },
    "8c29616a-a8e6-4c34-aed8-b44a855b8247": {
     "id": "8c29616a-a8e6-4c34-aed8-b44a855b8247",
     "prev": "be61e5c2-7f16-4d14-b4f1-fc68cb28e566",
     "regions": {
      "6a3ac970-59ce-4013-bccd-79d9f5c19b33": {
       "attrs": {
        "height": 0.8,
        "width": 0.8,
        "x": 0.1,
        "y": 0.1
       },
       "content": {
        "cell": "10ed9b38-713e-45cd-a0e0-3e421e8f55de",
        "part": "whole"
       },
       "id": "6a3ac970-59ce-4013-bccd-79d9f5c19b33"
      }
     }
    },
    "8c72d304-c8b4-49ed-9e88-276219194e1f": {
     "id": "8c72d304-c8b4-49ed-9e88-276219194e1f",
     "prev": "21d773e8-6681-430b-8c41-2fad0385680c",
     "regions": {
      "7b52d728-3cf1-41ce-8c08-984df75b73f3": {
       "attrs": {
        "height": 0.8,
        "width": 0.8,
        "x": 0.1,
        "y": 0.1
       },
       "content": {
        "cell": "0da2bb13-db48-41a0-84c0-5c460887318d",
        "part": "whole"
       },
       "id": "7b52d728-3cf1-41ce-8c08-984df75b73f3"
      }
     }
    },
    "8cbe2a95-b543-4d5e-a65c-7a3763716be9": {
     "id": "8cbe2a95-b543-4d5e-a65c-7a3763716be9",
     "prev": "c030295f-a23c-42c2-ba88-1c09bab9bff9",
     "regions": {
      "4439387a-9b9d-459d-a2c0-c21f8526a5c2": {
       "attrs": {
        "height": 0.8,
        "width": 0.8,
        "x": 0.1,
        "y": 0.1
       },
       "content": {
        "cell": "e41203e8-3a62-4425-88af-8f8b210ddf94",
        "part": "whole"
       },
       "id": "4439387a-9b9d-459d-a2c0-c21f8526a5c2"
      }
     }
    },
    "8e005a87-fd21-4c3b-ba01-7067442fb494": {
     "id": "8e005a87-fd21-4c3b-ba01-7067442fb494",
     "prev": "37c9e250-2207-4a95-bcc4-55bf4e457368",
     "regions": {
      "e98aee19-ad1d-4bcc-923c-5db246c8d7c2": {
       "attrs": {
        "height": 0.8,
        "width": 0.8,
        "x": 0.1,
        "y": 0.1
       },
       "content": {
        "cell": "22a11ae6-ede4-435f-836c-0a5ff497aa60",
        "part": "whole"
       },
       "id": "e98aee19-ad1d-4bcc-923c-5db246c8d7c2"
      }
     }
    },
    "8e76c099-b9d4-4396-908a-6911273784af": {
     "id": "8e76c099-b9d4-4396-908a-6911273784af",
     "prev": "906a4c77-8a35-4627-801f-36348e1509e6",
     "regions": {
      "0fc3eb00-fc30-4393-b135-2ce57174f95c": {
       "attrs": {
        "height": 0.8,
        "width": 0.8,
        "x": 0.1,
        "y": 0.1
       },
       "content": {
        "cell": "6cc38e7e-1d09-4fe3-ab92-c9cc52d7e0ab",
        "part": "whole"
       },
       "id": "0fc3eb00-fc30-4393-b135-2ce57174f95c"
      }
     }
    },
    "8ef4982d-350a-4d9e-a07b-0dcb8531e09b": {
     "id": "8ef4982d-350a-4d9e-a07b-0dcb8531e09b",
     "prev": "b4e2db73-0395-4db1-b51b-d4713198f42b",
     "regions": {
      "1bb8a87d-bf0f-4f1f-8579-9f2e08c9e536": {
       "attrs": {
        "height": 0.8,
        "width": 0.8,
        "x": 0.1,
        "y": 0.1
       },
       "content": {
        "cell": "e823fc62-ed19-4d6c-81b6-1e5248629a4b",
        "part": "whole"
       },
       "id": "1bb8a87d-bf0f-4f1f-8579-9f2e08c9e536"
      }
     }
    },
    "8f00f91f-e584-48aa-85af-e5fc89d0f4f3": {
     "id": "8f00f91f-e584-48aa-85af-e5fc89d0f4f3",
     "prev": "3082a0fe-a60e-4ba6-9fee-1f1a3f32e0df",
     "regions": {
      "616865b6-baa7-41dd-bd59-a470b99b8410": {
       "attrs": {
        "height": 0.8,
        "width": 0.8,
        "x": 0.1,
        "y": 0.1
       },
       "content": {
        "cell": "89ea7e5a-9a8e-41f3-a048-4ff0f0ffbe63",
        "part": "whole"
       },
       "id": "616865b6-baa7-41dd-bd59-a470b99b8410"
      }
     }
    },
    "8f07d380-c837-42bf-9ec1-5748bdb838dd": {
     "id": "8f07d380-c837-42bf-9ec1-5748bdb838dd",
     "prev": "c421feb3-46e4-4ed2-87f0-eeb47508a771",
     "regions": {
      "169ba469-37e9-42d8-b430-7ef813b02381": {
       "attrs": {
        "height": 0.8,
        "width": 0.8,
        "x": 0.1,
        "y": 0.1
       },
       "content": {
        "cell": "b0c2c3aa-a913-45b8-9d28-6152db56f7ad",
        "part": "whole"
       },
       "id": "169ba469-37e9-42d8-b430-7ef813b02381"
      }
     }
    },
    "8f0f82c4-2591-4c8c-b710-9cc5ecf71bc9": {
     "id": "8f0f82c4-2591-4c8c-b710-9cc5ecf71bc9",
     "prev": "100dda67-ac8e-4c59-bd7f-3d4eefb1a3bc",
     "regions": {
      "f89a77c2-1761-4439-b50c-ab8fcf43476c": {
       "attrs": {
        "height": 0.8,
        "width": 0.8,
        "x": 0.1,
        "y": 0.1
       },
       "content": {
        "cell": "3b048695-fabc-4bad-b347-b41564077c86",
        "part": "whole"
       },
       "id": "f89a77c2-1761-4439-b50c-ab8fcf43476c"
      }
     }
    },
    "8fc31f7c-dc0e-4d02-bf1a-9ce7cdea0388": {
     "id": "8fc31f7c-dc0e-4d02-bf1a-9ce7cdea0388",
     "prev": "5328da0a-0a8b-4e74-a1ad-d188d61d93a1",
     "regions": {
      "600d80a5-402f-4afb-847a-c6b7bdd17d97": {
       "attrs": {
        "height": 0.8,
        "width": 0.8,
        "x": 0.1,
        "y": 0.1
       },
       "content": {
        "cell": "ff23a34d-00a8-4600-9f22-8a4f30421e60",
        "part": "whole"
       },
       "id": "600d80a5-402f-4afb-847a-c6b7bdd17d97"
      }
     }
    },
    "904b762d-a79b-4396-9b1f-18c0a48dc122": {
     "id": "904b762d-a79b-4396-9b1f-18c0a48dc122",
     "prev": "c8794e74-5119-4495-9edb-c81a4365310d",
     "regions": {
      "5b6603e8-7392-4595-b324-5d8ddd8c97ed": {
       "attrs": {
        "height": 0.8,
        "width": 0.8,
        "x": 0.1,
        "y": 0.1
       },
       "content": {
        "cell": "7d13799e-988c-4ff9-b01b-e6f6509b5e6a",
        "part": "whole"
       },
       "id": "5b6603e8-7392-4595-b324-5d8ddd8c97ed"
      }
     }
    },
    "906a4c77-8a35-4627-801f-36348e1509e6": {
     "id": "906a4c77-8a35-4627-801f-36348e1509e6",
     "prev": "67235d9e-e4ea-4d61-8d94-de9d4ccf7224",
     "regions": {
      "d29f87b4-de29-412e-a404-629968bf0f12": {
       "attrs": {
        "height": 0.8,
        "width": 0.8,
        "x": 0.1,
        "y": 0.1
       },
       "content": {
        "cell": "28995633-2d53-4a4c-bac0-bd4d66c97823",
        "part": "whole"
       },
       "id": "d29f87b4-de29-412e-a404-629968bf0f12"
      }
     }
    },
    "90891405-b6f7-4668-bf00-dcc1a19686aa": {
     "id": "90891405-b6f7-4668-bf00-dcc1a19686aa",
     "prev": "b869b573-ee99-4641-8fdb-f67a5df5fe6e",
     "regions": {
      "a8d21ed0-3fc2-49b2-b280-b506bc6bc189": {
       "attrs": {
        "height": 0.8,
        "width": 0.8,
        "x": 0.1,
        "y": 0.1
       },
       "content": {
        "cell": "98727027-76a2-4533-b653-d6cd782ac2be",
        "part": "whole"
       },
       "id": "a8d21ed0-3fc2-49b2-b280-b506bc6bc189"
      }
     }
    },
    "91d7ebd5-e426-46a9-a3fc-390e3167e102": {
     "id": "91d7ebd5-e426-46a9-a3fc-390e3167e102",
     "prev": "c747eff5-96ea-4d2e-b804-13c4286d9366",
     "regions": {
      "3ad0b3ee-e82c-4cba-9a64-9d03113b0068": {
       "attrs": {
        "height": 0.8,
        "width": 0.8,
        "x": 0.1,
        "y": 0.1
       },
       "content": {
        "cell": "6788a4b2-50ff-4151-8616-316831a53fd2",
        "part": "whole"
       },
       "id": "3ad0b3ee-e82c-4cba-9a64-9d03113b0068"
      }
     }
    },
    "92c0eaf1-4f99-43f0-988d-e1120bd9d9ac": {
     "id": "92c0eaf1-4f99-43f0-988d-e1120bd9d9ac",
     "prev": "34ed7fbf-605f-49bd-bca3-5df668567e1e",
     "regions": {
      "3e0bd8f7-e5e0-4967-9f48-c3ac795d973d": {
       "attrs": {
        "height": 0.8,
        "width": 0.8,
        "x": 0.1,
        "y": 0.1
       },
       "content": {
        "cell": "f81582ff-7a0f-40f8-a117-5f8f5e03e0e5",
        "part": "whole"
       },
       "id": "3e0bd8f7-e5e0-4967-9f48-c3ac795d973d"
      }
     }
    },
    "94a5a06a-1c65-457b-8693-0ff5479f6523": {
     "id": "94a5a06a-1c65-457b-8693-0ff5479f6523",
     "prev": "420f56e3-39b9-467d-9aa1-5f836d535214",
     "regions": {
      "60f53d81-87fc-449c-a3e6-ab33d201467a": {
       "attrs": {
        "height": 0.8,
        "width": 0.8,
        "x": 0.1,
        "y": 0.1
       },
       "content": {
        "cell": "27b44359-0073-4f5a-9e58-7b976c6d1fad",
        "part": "whole"
       },
       "id": "60f53d81-87fc-449c-a3e6-ab33d201467a"
      }
     }
    },
    "95370c42-6b51-43a9-9fa1-194264599cc8": {
     "id": "95370c42-6b51-43a9-9fa1-194264599cc8",
     "prev": "15e79ce2-5961-4ba1-89de-edb42912a41c",
     "regions": {
      "53031341-4919-4f0d-9fad-8308112ed98c": {
       "attrs": {
        "height": 0.8,
        "width": 0.8,
        "x": 0.1,
        "y": 0.1
       },
       "content": {
        "cell": "6bd6539e-c3f6-4157-9b16-9c090a4ec6c1",
        "part": "whole"
       },
       "id": "53031341-4919-4f0d-9fad-8308112ed98c"
      }
     }
    },
    "97565632-8521-44ef-b3b1-0acaf6d1d107": {
     "id": "97565632-8521-44ef-b3b1-0acaf6d1d107",
     "prev": "739e0453-f378-4ac2-8b16-03dbc4dbe396",
     "regions": {
      "7d304f54-9f82-4c22-845c-10bb65c12785": {
       "attrs": {
        "height": 0.8,
        "width": 0.8,
        "x": 0.1,
        "y": 0.1
       },
       "content": {
        "cell": "d48e25b2-d5de-463b-9298-6c64b23526cf",
        "part": "whole"
       },
       "id": "7d304f54-9f82-4c22-845c-10bb65c12785"
      }
     }
    },
    "99388ec1-963c-49c0-9677-e90a72463b2d": {
     "id": "99388ec1-963c-49c0-9677-e90a72463b2d",
     "prev": "543028dc-5961-4f14-9393-775305c6df3b",
     "regions": {
      "727360ea-3b0a-4df9-8586-232ebc59929b": {
       "attrs": {
        "height": 0.8,
        "width": 0.8,
        "x": 0.1,
        "y": 0.1
       },
       "content": {
        "cell": "2174e6f8-9d42-4bac-8fea-18f421822724",
        "part": "whole"
       },
       "id": "727360ea-3b0a-4df9-8586-232ebc59929b"
      }
     }
    },
    "9ad802ff-c845-4c11-94d5-d987ab913fcd": {
     "id": "9ad802ff-c845-4c11-94d5-d987ab913fcd",
     "prev": "ef2357f7-7e83-46fd-97f3-6f28dc9b2300",
     "regions": {
      "39e22b52-a1ad-448a-8739-528fcdb1e9c5": {
       "attrs": {
        "height": 0.8,
        "width": 0.8,
        "x": 0.1,
        "y": 0.1
       },
       "content": {
        "cell": "03ed8dc5-b549-4dc0-89af-63f37b6b3f18",
        "part": "whole"
       },
       "id": "39e22b52-a1ad-448a-8739-528fcdb1e9c5"
      }
     }
    },
    "9c4873e6-ab3f-40aa-8ca8-0684a44ae545": {
     "id": "9c4873e6-ab3f-40aa-8ca8-0684a44ae545",
     "prev": "806a1818-a6e4-4c7b-a044-72ece59faace",
     "regions": {
      "20777d1a-b47d-4466-a689-91cbbe77c383": {
       "attrs": {
        "height": 0.8,
        "width": 0.8,
        "x": 0.1,
        "y": 0.1
       },
       "content": {
        "cell": "bd180c94-fd90-4b41-8435-91f7601096e8",
        "part": "whole"
       },
       "id": "20777d1a-b47d-4466-a689-91cbbe77c383"
      }
     }
    },
    "9d91605e-e25f-48d2-ac91-b3e1173fdb56": {
     "id": "9d91605e-e25f-48d2-ac91-b3e1173fdb56",
     "prev": "ed0f8f17-eecb-4679-82fa-cec092751625",
     "regions": {
      "13a1d10f-f04b-48d1-9e0e-6dd980e5f051": {
       "attrs": {
        "height": 0.8,
        "width": 0.8,
        "x": 0.1,
        "y": 0.1
       },
       "content": {
        "cell": "2b1198d4-8627-4e91-b299-003e0e6ad3b4",
        "part": "whole"
       },
       "id": "13a1d10f-f04b-48d1-9e0e-6dd980e5f051"
      }
     }
    },
    "9f9c6f15-e3fc-45a8-8430-dcd480d12a00": {
     "id": "9f9c6f15-e3fc-45a8-8430-dcd480d12a00",
     "prev": "5fb0a1b8-7451-4c64-99fc-c05106dafb33",
     "regions": {
      "af1be1a1-281c-4ec8-bd07-17129b26bb8d": {
       "attrs": {
        "height": 0.8,
        "width": 0.8,
        "x": 0.1,
        "y": 0.1
       },
       "content": {
        "cell": "9540766c-9c69-4627-a1b8-63f998719aa5",
        "part": "whole"
       },
       "id": "af1be1a1-281c-4ec8-bd07-17129b26bb8d"
      }
     }
    },
    "a313b349-e5ef-4f39-8878-7fc6a789e8ec": {
     "id": "a313b349-e5ef-4f39-8878-7fc6a789e8ec",
     "prev": "055851da-6d2b-43f8-a5f6-7a9f010d4891",
     "regions": {
      "e4e206b1-ca0a-4112-a71e-da7e33552b9e": {
       "attrs": {
        "height": 0.8,
        "width": 0.8,
        "x": 0.1,
        "y": 0.1
       },
       "content": {
        "cell": "b6e5bc85-bd70-470a-b354-d28020a91c26",
        "part": "whole"
       },
       "id": "e4e206b1-ca0a-4112-a71e-da7e33552b9e"
      }
     }
    },
    "a403a466-6d86-4707-8a1d-2bf7affa95f3": {
     "id": "a403a466-6d86-4707-8a1d-2bf7affa95f3",
     "prev": "46b9fa53-f906-4cec-82b5-7932a9d5c34b",
     "regions": {
      "919f9355-789b-40e9-88b2-d32d5c1b173c": {
       "attrs": {
        "height": 0.8,
        "width": 0.8,
        "x": 0.1,
        "y": 0.1
       },
       "content": {
        "cell": "faa12876-0bea-4f80-b892-82da7e8d14ca",
        "part": "whole"
       },
       "id": "919f9355-789b-40e9-88b2-d32d5c1b173c"
      }
     }
    },
    "a469eadb-2cc8-4318-9afd-53a5cb4b92d8": {
     "id": "a469eadb-2cc8-4318-9afd-53a5cb4b92d8",
     "prev": "cedaba22-6d07-461d-9f8e-9f39bb7c8e2e",
     "regions": {
      "55aec271-9224-4bfe-b2a9-bdbc39c3c8eb": {
       "attrs": {
        "height": 0.8,
        "width": 0.8,
        "x": 0.1,
        "y": 0.1
       },
       "content": {
        "cell": "be97a893-c20a-4ba9-8e69-7949fcb5e8dc",
        "part": "whole"
       },
       "id": "55aec271-9224-4bfe-b2a9-bdbc39c3c8eb"
      }
     }
    },
    "a4b116af-fdbe-44df-821d-31fc69e0302b": {
     "id": "a4b116af-fdbe-44df-821d-31fc69e0302b",
     "prev": "bb85b315-982a-43b8-b544-b3b378c188d1",
     "regions": {
      "ee5f9e69-f41f-49a3-9d81-c2bc0759a524": {
       "attrs": {
        "height": 0.8,
        "width": 0.8,
        "x": 0.1,
        "y": 0.1
       },
       "content": {
        "cell": "10d56b6c-0c9f-43b7-98f7-79d757d7c56b",
        "part": "whole"
       },
       "id": "ee5f9e69-f41f-49a3-9d81-c2bc0759a524"
      }
     }
    },
    "a4f3d1cf-0c4e-480d-87b8-b1b38a493f3d": {
     "id": "a4f3d1cf-0c4e-480d-87b8-b1b38a493f3d",
     "prev": "306ebf15-8158-4fca-bb74-2427c2a91388",
     "regions": {
      "6954f870-e895-474a-bcf1-d57080245c06": {
       "attrs": {
        "height": 0.8,
        "width": 0.8,
        "x": 0.1,
        "y": 0.1
       },
       "content": {
        "cell": "0191c50d-cd98-41f1-a979-b3a3e475c7c8",
        "part": "whole"
       },
       "id": "6954f870-e895-474a-bcf1-d57080245c06"
      }
     }
    },
    "a59a7ca4-49de-4bd4-86e0-1ce79dd74e5b": {
     "id": "a59a7ca4-49de-4bd4-86e0-1ce79dd74e5b",
     "prev": "b2137e46-a3d0-496a-b6f3-075eb01f429c",
     "regions": {
      "7faf1cd9-81ca-44c8-8525-c8232d7469c6": {
       "attrs": {
        "height": 0.8,
        "width": 0.8,
        "x": 0.1,
        "y": 0.1
       },
       "content": {
        "cell": "0b50ae2d-fae6-4799-aeef-1d655f154cc7",
        "part": "whole"
       },
       "id": "7faf1cd9-81ca-44c8-8525-c8232d7469c6"
      }
     }
    },
    "a6278444-205c-483a-9bf0-ee4ccd695ad8": {
     "id": "a6278444-205c-483a-9bf0-ee4ccd695ad8",
     "prev": "23877d4d-952f-4bf1-8659-af5218d0c47c",
     "regions": {
      "20251843-2b6c-4b1d-9776-6f63a34b821e": {
       "attrs": {
        "height": 0.8,
        "width": 0.8,
        "x": 0.1,
        "y": 0.1
       },
       "content": {
        "cell": "b92d1c7f-7fa1-4831-9f8c-9938ea7f6890",
        "part": "whole"
       },
       "id": "20251843-2b6c-4b1d-9776-6f63a34b821e"
      }
     }
    },
    "a659a433-7886-408e-be23-99f1d8241f3e": {
     "id": "a659a433-7886-408e-be23-99f1d8241f3e",
     "prev": "f9038616-079e-40bb-9a00-2e2f157c2a96",
     "regions": {
      "6fcc5a80-2473-424f-b583-47445a3acfa3": {
       "attrs": {
        "height": 0.8,
        "width": 0.8,
        "x": 0.1,
        "y": 0.1
       },
       "content": {
        "cell": "7d668885-cf01-4759-beca-0490162b4cdb",
        "part": "whole"
       },
       "id": "6fcc5a80-2473-424f-b583-47445a3acfa3"
      }
     }
    },
    "a6e178b3-b1c7-4444-a705-3f16064d9310": {
     "id": "a6e178b3-b1c7-4444-a705-3f16064d9310",
     "prev": "aa1687d3-9d60-4b52-a5ba-45564120e79e",
     "regions": {
      "8dfe765d-3fa8-4cbd-865c-35c505a6fc61": {
       "attrs": {
        "height": 0.8,
        "width": 0.8,
        "x": 0.1,
        "y": 0.1
       },
       "content": {
        "cell": "1e057c13-b4b3-49f8-8785-22a9488d8682",
        "part": "whole"
       },
       "id": "8dfe765d-3fa8-4cbd-865c-35c505a6fc61"
      }
     }
    },
    "a7a7b6b4-0e68-4bfa-8a16-9c243a89dcc7": {
     "id": "a7a7b6b4-0e68-4bfa-8a16-9c243a89dcc7",
     "prev": "2e0cdb35-3728-4732-acdd-74c78b403c0d",
     "regions": {
      "0b813553-ff1d-42cb-8220-7e2d613f95ea": {
       "attrs": {
        "height": 0.8,
        "width": 0.8,
        "x": 0.1,
        "y": 0.1
       },
       "content": {
        "cell": "04904d78-1a7e-4adf-9fd1-91b10b930218",
        "part": "whole"
       },
       "id": "0b813553-ff1d-42cb-8220-7e2d613f95ea"
      }
     }
    },
    "a800f287-9b06-495a-b04f-39d4548d7507": {
     "id": "a800f287-9b06-495a-b04f-39d4548d7507",
     "prev": "f67593e2-5268-4e80-aff8-38c25b728d6c",
     "regions": {
      "732f7329-44af-4324-8958-b38c29bbb14a": {
       "attrs": {
        "height": 0.8,
        "width": 0.8,
        "x": 0.1,
        "y": 0.1
       },
       "content": {
        "cell": "a3521406-2b5e-4318-b683-94b98ff4775f",
        "part": "whole"
       },
       "id": "732f7329-44af-4324-8958-b38c29bbb14a"
      }
     }
    },
    "a950ac8f-00e5-483a-8ab1-b17ccfe417d0": {
     "id": "a950ac8f-00e5-483a-8ab1-b17ccfe417d0",
     "prev": "04b09f56-1cf6-4692-a506-8faa2ffe5e7a",
     "regions": {
      "b6baae63-a0b2-435f-b741-7cfbbe6d9c9a": {
       "attrs": {
        "height": 0.8,
        "width": 0.8,
        "x": 0.1,
        "y": 0.1
       },
       "content": {
        "cell": "f4b52d87-05e6-4cb6-babd-266d8226b356",
        "part": "whole"
       },
       "id": "b6baae63-a0b2-435f-b741-7cfbbe6d9c9a"
      }
     }
    },
    "aa1687d3-9d60-4b52-a5ba-45564120e79e": {
     "id": "aa1687d3-9d60-4b52-a5ba-45564120e79e",
     "prev": "f70ee40c-045f-4337-817f-5ba21554911f",
     "regions": {
      "499ed368-2a56-431e-a89c-1bfc7cf54e6b": {
       "attrs": {
        "height": 0.8,
        "width": 0.8,
        "x": 0.1,
        "y": 0.1
       },
       "content": {
        "cell": "70379922-c63d-49cc-9e1c-a31f686bdf1f",
        "part": "whole"
       },
       "id": "499ed368-2a56-431e-a89c-1bfc7cf54e6b"
      }
     }
    },
    "ac93e506-7482-42ad-afd6-4822c7a061f8": {
     "id": "ac93e506-7482-42ad-afd6-4822c7a061f8",
     "prev": "88685916-745e-49ed-9623-30d558ac1d8f",
     "regions": {
      "43fb97ae-9e11-423e-b769-a76c00ee65fb": {
       "attrs": {
        "height": 0.8,
        "width": 0.8,
        "x": 0.1,
        "y": 0.1
       },
       "content": {
        "cell": "b62c6d0a-c7bf-435f-8c89-4b064650c42b",
        "part": "whole"
       },
       "id": "43fb97ae-9e11-423e-b769-a76c00ee65fb"
      }
     }
    },
    "ace104bb-861f-4049-b9b8-c0d66cfe0c4b": {
     "id": "ace104bb-861f-4049-b9b8-c0d66cfe0c4b",
     "prev": "9f9c6f15-e3fc-45a8-8430-dcd480d12a00",
     "regions": {
      "9620865d-9703-4ea6-bf1c-7d2db3eaaea1": {
       "attrs": {
        "height": 0.8,
        "width": 0.8,
        "x": 0.1,
        "y": 0.1
       },
       "content": {
        "cell": "b23017d7-f056-4a59-897e-da7c02baa044",
        "part": "whole"
       },
       "id": "9620865d-9703-4ea6-bf1c-7d2db3eaaea1"
      }
     }
    },
    "ad137a74-8238-4365-8b85-6c2a470a51ae": {
     "id": "ad137a74-8238-4365-8b85-6c2a470a51ae",
     "prev": "a800f287-9b06-495a-b04f-39d4548d7507",
     "regions": {
      "4bd8d16f-ba2a-4ca2-85b4-119a91d9ce1c": {
       "attrs": {
        "height": 0.8,
        "width": 0.8,
        "x": 0.1,
        "y": 0.1
       },
       "content": {
        "cell": "33fa8ba2-4ded-4cc2-a11a-5756fd190543",
        "part": "whole"
       },
       "id": "4bd8d16f-ba2a-4ca2-85b4-119a91d9ce1c"
      }
     }
    },
    "af9167de-0248-44f1-9c10-7ddfe7b39089": {
     "id": "af9167de-0248-44f1-9c10-7ddfe7b39089",
     "prev": "6f02a3b5-a86d-41b8-962a-c6b45f3961c9",
     "regions": {
      "7d0206cd-507e-4ff3-bafe-792eb2c1a9c9": {
       "attrs": {
        "height": 0.8,
        "width": 0.8,
        "x": 0.1,
        "y": 0.1
       },
       "content": {
        "cell": "e5aa2581-5cb7-46e3-9a43-de597ef47cfd",
        "part": "whole"
       },
       "id": "7d0206cd-507e-4ff3-bafe-792eb2c1a9c9"
      }
     }
    },
    "b133d21e-0069-47b1-b499-368262175398": {
     "id": "b133d21e-0069-47b1-b499-368262175398",
     "prev": "9d91605e-e25f-48d2-ac91-b3e1173fdb56",
     "regions": {
      "4a7e7414-f837-4379-9811-36c93563bca0": {
       "attrs": {
        "height": 0.8,
        "width": 0.8,
        "x": 0.1,
        "y": 0.1
       },
       "content": {
        "cell": "3fd364a8-64d8-41f3-bf8b-455348b4cc88",
        "part": "whole"
       },
       "id": "4a7e7414-f837-4379-9811-36c93563bca0"
      }
     }
    },
    "b2137e46-a3d0-496a-b6f3-075eb01f429c": {
     "id": "b2137e46-a3d0-496a-b6f3-075eb01f429c",
     "prev": "0620b656-c148-4cab-839f-ecd2b977bebb",
     "regions": {
      "16fa221f-f8ec-475e-8161-c8b054a623f4": {
       "attrs": {
        "height": 0.8,
        "width": 0.8,
        "x": 0.1,
        "y": 0.1
       },
       "content": {
        "cell": "efe78a91-8438-4c69-b62a-ecdceff28402",
        "part": "whole"
       },
       "id": "16fa221f-f8ec-475e-8161-c8b054a623f4"
      }
     }
    },
    "b2b57202-df03-4f78-a14c-7323e58f9aee": {
     "id": "b2b57202-df03-4f78-a14c-7323e58f9aee",
     "prev": "a6278444-205c-483a-9bf0-ee4ccd695ad8",
     "regions": {
      "1a096aff-1507-44de-a12f-30e2fd003f09": {
       "attrs": {
        "height": 0.8,
        "width": 0.8,
        "x": 0.1,
        "y": 0.1
       },
       "content": {
        "cell": "260f939b-1103-4f43-8b38-5b9e89af0163",
        "part": "whole"
       },
       "id": "1a096aff-1507-44de-a12f-30e2fd003f09"
      }
     }
    },
    "b4304d76-7079-460e-b49d-a0f57059401e": {
     "id": "b4304d76-7079-460e-b49d-a0f57059401e",
     "prev": "cef1f2f2-bc8e-4956-a285-dd268aa8790f",
     "regions": {
      "558e701b-8c36-468b-a94f-b480385e6b66": {
       "attrs": {
        "height": 0.8,
        "width": 0.8,
        "x": 0.1,
        "y": 0.1
       },
       "content": {
        "cell": "7860b45b-5902-428c-8a75-172356dcf8ba",
        "part": "whole"
       },
       "id": "558e701b-8c36-468b-a94f-b480385e6b66"
      }
     }
    },
    "b4e2db73-0395-4db1-b51b-d4713198f42b": {
     "id": "b4e2db73-0395-4db1-b51b-d4713198f42b",
     "prev": "5fbf18ed-7879-44d1-8313-50d1640be037",
     "regions": {
      "4159346d-7987-4999-8c85-a2583fc639bc": {
       "attrs": {
        "height": 0.8,
        "width": 0.8,
        "x": 0.1,
        "y": 0.1
       },
       "content": {
        "cell": "5ef87624-65c1-404c-993e-d3486b4892fc",
        "part": "whole"
       },
       "id": "4159346d-7987-4999-8c85-a2583fc639bc"
      }
     }
    },
    "b531313f-5c75-4548-bf7b-1a0edebd7a0c": {
     "id": "b531313f-5c75-4548-bf7b-1a0edebd7a0c",
     "prev": "14be538d-0ca9-41b9-bbcf-59693562c4c8",
     "regions": {
      "eff8ee83-4bef-4f3e-acc8-a139c3484adf": {
       "attrs": {
        "height": 0.8,
        "width": 0.8,
        "x": 0.1,
        "y": 0.1
       },
       "content": {
        "cell": "a273efc6-bc9a-4d49-a49c-d5f6625d8235",
        "part": "whole"
       },
       "id": "eff8ee83-4bef-4f3e-acc8-a139c3484adf"
      }
     }
    },
    "b610c110-cb5c-412f-8d63-b94be9217575": {
     "id": "b610c110-cb5c-412f-8d63-b94be9217575",
     "prev": "6e766c81-0842-471a-9f82-64650afd6fcd",
     "regions": {
      "7cd55ca5-359d-43e8-95e7-524ae1268d7c": {
       "attrs": {
        "height": 0.8,
        "width": 0.8,
        "x": 0.1,
        "y": 0.1
       },
       "content": {
        "cell": "e45aeacf-f1f3-4499-b7ae-29da59edc1f3",
        "part": "whole"
       },
       "id": "7cd55ca5-359d-43e8-95e7-524ae1268d7c"
      }
     }
    },
    "b79d0b18-ecf5-4e9b-9d8a-7abc883bc74a": {
     "id": "b79d0b18-ecf5-4e9b-9d8a-7abc883bc74a",
     "prev": "1e9dab7e-dedb-4901-90fe-c9355540a683",
     "regions": {
      "56c05338-13ff-4ce1-9178-6f0537326523": {
       "attrs": {
        "height": 0.8,
        "width": 0.8,
        "x": 0.1,
        "y": 0.1
       },
       "content": {
        "cell": "7eb25914-6328-456f-8271-1e3c8bebe30a",
        "part": "whole"
       },
       "id": "56c05338-13ff-4ce1-9178-6f0537326523"
      }
     }
    },
    "b7c7eea7-b459-49aa-ada6-b8f10fa8b3d8": {
     "id": "b7c7eea7-b459-49aa-ada6-b8f10fa8b3d8",
     "prev": "79ab271b-b77e-4303-a5f4-992d8e22f9b6",
     "regions": {
      "07e46101-2379-4f86-ad09-0f106c86e0f9": {
       "attrs": {
        "height": 0.8,
        "width": 0.8,
        "x": 0.1,
        "y": 0.1
       },
       "content": {
        "cell": "827c1b19-ea9c-46e3-9c3f-bc97fad82a4e",
        "part": "whole"
       },
       "id": "07e46101-2379-4f86-ad09-0f106c86e0f9"
      }
     }
    },
    "b869b573-ee99-4641-8fdb-f67a5df5fe6e": {
     "id": "b869b573-ee99-4641-8fdb-f67a5df5fe6e",
     "prev": "dc5e1016-3b43-4a7c-8c01-06c3e220ff57",
     "regions": {
      "a38afa68-003e-435f-b854-8a59c971d8c0": {
       "attrs": {
        "height": 0.8,
        "width": 0.8,
        "x": 0.1,
        "y": 0.1
       },
       "content": {
        "cell": "164f963e-d199-472e-9067-3ce15bff6f3a",
        "part": "whole"
       },
       "id": "a38afa68-003e-435f-b854-8a59c971d8c0"
      }
     }
    },
    "bb85b315-982a-43b8-b544-b3b378c188d1": {
     "id": "bb85b315-982a-43b8-b544-b3b378c188d1",
     "prev": "8f0f82c4-2591-4c8c-b710-9cc5ecf71bc9",
     "regions": {
      "9cdcf394-a659-4eec-8fc4-a2cf3342b376": {
       "attrs": {
        "height": 0.8,
        "width": 0.8,
        "x": 0.1,
        "y": 0.1
       },
       "content": {
        "cell": "2217eec5-4710-463e-86c1-20f72786bfa5",
        "part": "whole"
       },
       "id": "9cdcf394-a659-4eec-8fc4-a2cf3342b376"
      }
     }
    },
    "be61e5c2-7f16-4d14-b4f1-fc68cb28e566": {
     "id": "be61e5c2-7f16-4d14-b4f1-fc68cb28e566",
     "prev": "5c0ef946-5958-4c6d-afab-0b046aa627d5",
     "regions": {
      "f4ad95e2-5979-45da-8ac1-da07ca2f312e": {
       "attrs": {
        "height": 0.8,
        "width": 0.8,
        "x": 0.1,
        "y": 0.1
       },
       "content": {
        "cell": "d7125080-e7fa-489c-856d-281c1df9fc6e",
        "part": "whole"
       },
       "id": "f4ad95e2-5979-45da-8ac1-da07ca2f312e"
      }
     }
    },
    "beb1c2ef-5e92-49fd-88b8-c4a5c07be210": {
     "id": "beb1c2ef-5e92-49fd-88b8-c4a5c07be210",
     "prev": "af9167de-0248-44f1-9c10-7ddfe7b39089",
     "regions": {
      "23afa3ea-9740-42be-9519-dc94f65aea07": {
       "attrs": {
        "height": 0.8,
        "width": 0.8,
        "x": 0.1,
        "y": 0.1
       },
       "content": {
        "cell": "b025081f-96f4-4e49-8309-4176f34b12f7",
        "part": "whole"
       },
       "id": "23afa3ea-9740-42be-9519-dc94f65aea07"
      }
     }
    },
    "bec3387b-9d52-4984-9e77-7d59ed7b950c": {
     "id": "bec3387b-9d52-4984-9e77-7d59ed7b950c",
     "prev": "35d1a833-39d7-4ffc-8750-28d4a5b82a39",
     "regions": {
      "d49e1efc-92ba-44c7-b347-fc01e7b1df0e": {
       "attrs": {
        "height": 0.8,
        "width": 0.8,
        "x": 0.1,
        "y": 0.1
       },
       "content": {
        "cell": "394fafa6-852a-4ab9-9e94-7165757dc968",
        "part": "whole"
       },
       "id": "d49e1efc-92ba-44c7-b347-fc01e7b1df0e"
      }
     }
    },
    "bed8da9a-0974-4cdb-a6bf-8217bb1b483a": {
     "id": "bed8da9a-0974-4cdb-a6bf-8217bb1b483a",
     "prev": "8f07d380-c837-42bf-9ec1-5748bdb838dd",
     "regions": {
      "c6d521f0-3ca0-4094-ba8d-2a32b02e5396": {
       "attrs": {
        "height": 0.8,
        "width": 0.8,
        "x": 0.1,
        "y": 0.1
       },
       "content": {
        "cell": "77707a50-59c0-476c-8d11-adb6a5effa58",
        "part": "whole"
       },
       "id": "c6d521f0-3ca0-4094-ba8d-2a32b02e5396"
      }
     }
    },
    "bed8f819-2572-4870-b8cb-dd3cccc4912a": {
     "id": "bed8f819-2572-4870-b8cb-dd3cccc4912a",
     "prev": "3bb0cea7-a108-428c-8999-31e75a6a953f",
     "regions": {
      "baf1ba64-5fec-4231-a3ef-3e883df7199d": {
       "attrs": {
        "height": 0.8,
        "width": 0.8,
        "x": 0.1,
        "y": 0.1
       },
       "content": {
        "cell": "129ea7e8-59c0-4b03-871a-4fdbfb6fb69f",
        "part": "whole"
       },
       "id": "baf1ba64-5fec-4231-a3ef-3e883df7199d"
      }
     }
    },
    "c030295f-a23c-42c2-ba88-1c09bab9bff9": {
     "id": "c030295f-a23c-42c2-ba88-1c09bab9bff9",
     "prev": "4fdc323f-7414-4da4-a60b-a42de07c33ca",
     "regions": {
      "48d374bf-bb84-4e8f-81f4-84e601088537": {
       "attrs": {
        "height": 0.8,
        "width": 0.8,
        "x": 0.1,
        "y": 0.1
       },
       "content": {
        "cell": "c87515bd-22d1-4fca-8666-3ebd07b94d64",
        "part": "whole"
       },
       "id": "48d374bf-bb84-4e8f-81f4-84e601088537"
      }
     }
    },
    "c0ed9906-9c91-4fbd-a7f9-85972d1f9241": {
     "id": "c0ed9906-9c91-4fbd-a7f9-85972d1f9241",
     "prev": "8fc31f7c-dc0e-4d02-bf1a-9ce7cdea0388",
     "regions": {
      "c90336c2-611e-41c0-9724-91e5dc12055e": {
       "attrs": {
        "height": 0.8,
        "width": 0.8,
        "x": 0.1,
        "y": 0.1
       },
       "content": {
        "cell": "aa7b60c3-9cf7-4e01-bb6b-e7867a76dafa",
        "part": "whole"
       },
       "id": "c90336c2-611e-41c0-9724-91e5dc12055e"
      }
     }
    },
    "c26ebabf-15f6-4105-a991-b6e437957f21": {
     "id": "c26ebabf-15f6-4105-a991-b6e437957f21",
     "prev": "7aea1ae9-8ad4-466f-beda-4a158a49806a",
     "regions": {
      "c1774050-423b-43ad-8f94-1da10e624c70": {
       "attrs": {
        "height": 0.8,
        "width": 0.8,
        "x": 0.1,
        "y": 0.1
       },
       "content": {
        "cell": "59809396-0a19-4696-a083-5897fe575126",
        "part": "whole"
       },
       "id": "c1774050-423b-43ad-8f94-1da10e624c70"
      }
     }
    },
    "c2c21d89-1f3d-49ef-9637-2a1dde1f3962": {
     "id": "c2c21d89-1f3d-49ef-9637-2a1dde1f3962",
     "prev": "f38327c6-3a48-489b-b181-02af0a569d50",
     "regions": {
      "ae002191-5161-486e-95d9-300a968206b7": {
       "attrs": {
        "height": 0.8,
        "width": 0.8,
        "x": 0.1,
        "y": 0.1
       },
       "content": {
        "cell": "4b31c881-8be9-4fcd-a2a1-a5ba8dde2ddd",
        "part": "whole"
       },
       "id": "ae002191-5161-486e-95d9-300a968206b7"
      }
     }
    },
    "c39907e4-03f1-4a2d-9cf6-af1ce3143eca": {
     "id": "c39907e4-03f1-4a2d-9cf6-af1ce3143eca",
     "prev": "2109bb92-d849-4210-8276-f81183e93746",
     "regions": {
      "00fcab4f-0fa4-4aed-8ccb-c5e4e9df59c2": {
       "attrs": {
        "height": 0.8,
        "width": 0.8,
        "x": 0.1,
        "y": 0.1
       },
       "content": {
        "cell": "6a43823b-c59a-46e5-b4cb-83054d63f4ac",
        "part": "whole"
       },
       "id": "00fcab4f-0fa4-4aed-8ccb-c5e4e9df59c2"
      }
     }
    },
    "c421feb3-46e4-4ed2-87f0-eeb47508a771": {
     "id": "c421feb3-46e4-4ed2-87f0-eeb47508a771",
     "prev": "11ff44de-20d1-4a8f-ac83-d22f334a45fd",
     "regions": {
      "2e65aa31-e441-4921-8d50-5215da15015e": {
       "attrs": {
        "height": 0.8,
        "width": 0.8,
        "x": 0.1,
        "y": 0.1
       },
       "content": {
        "cell": "9ae7ac23-4c26-47cf-a61a-11a91f3856ae",
        "part": "whole"
       },
       "id": "2e65aa31-e441-4921-8d50-5215da15015e"
      }
     }
    },
    "c478c360-fe56-48f4-bd22-243c182eb8d0": {
     "id": "c478c360-fe56-48f4-bd22-243c182eb8d0",
     "prev": "f87bcf28-ba2a-4079-af7c-ec81e80b6e1e",
     "regions": {
      "8377a89b-ef64-4553-934e-678fb606f7e6": {
       "attrs": {
        "height": 0.8,
        "width": 0.8,
        "x": 0.1,
        "y": 0.1
       },
       "content": {
        "cell": "9bcadd87-58d0-4f09-9243-40187e378088",
        "part": "whole"
       },
       "id": "8377a89b-ef64-4553-934e-678fb606f7e6"
      }
     }
    },
    "c4dd7019-a011-4fc0-bead-ebbcf3a64237": {
     "id": "c4dd7019-a011-4fc0-bead-ebbcf3a64237",
     "prev": "72f89bb0-6e73-4da4-b8c7-ab5ee81dfca3",
     "regions": {
      "38a9006a-79c8-4d00-b71d-3fb1b3351eb7": {
       "attrs": {
        "height": 0.8,
        "width": 0.8,
        "x": 0.1,
        "y": 0.1
       },
       "content": {
        "cell": "af88ace4-0911-4d1c-bec6-f20b5ff1d98f",
        "part": "whole"
       },
       "id": "38a9006a-79c8-4d00-b71d-3fb1b3351eb7"
      }
     }
    },
    "c5235474-cab4-47a7-81b0-0fce0a7adc3b": {
     "id": "c5235474-cab4-47a7-81b0-0fce0a7adc3b",
     "prev": "a469eadb-2cc8-4318-9afd-53a5cb4b92d8",
     "regions": {
      "e2046e50-bea2-4e74-8e53-6f46cac9d37f": {
       "attrs": {
        "height": 0.8,
        "width": 0.8,
        "x": 0.1,
        "y": 0.1
       },
       "content": {
        "cell": "3be28637-efa0-446c-a846-efdf7727dbf4",
        "part": "whole"
       },
       "id": "e2046e50-bea2-4e74-8e53-6f46cac9d37f"
      }
     }
    },
    "c6242fa5-6c43-4e01-a5be-bbbb4fa8f0cf": {
     "id": "c6242fa5-6c43-4e01-a5be-bbbb4fa8f0cf",
     "prev": "397ef0bb-4c47-4efd-a339-7eb32c675858",
     "regions": {
      "05c39134-0e15-45de-b82f-36621d63b6a8": {
       "attrs": {
        "height": 0.8,
        "width": 0.8,
        "x": 0.1,
        "y": 0.1
       },
       "content": {
        "cell": "83857790-19d5-448c-a9ee-70f95c26b7f7",
        "part": "whole"
       },
       "id": "05c39134-0e15-45de-b82f-36621d63b6a8"
      }
     }
    },
    "c6510bd4-f200-42a7-8bd4-5e96019cdd01": {
     "id": "c6510bd4-f200-42a7-8bd4-5e96019cdd01",
     "prev": "044b9a92-37d2-4834-8ad6-6ed1f24d13ea",
     "regions": {
      "9b85e236-567b-4f2a-b2e4-839c097a64d2": {
       "attrs": {
        "height": 0.8,
        "width": 0.8,
        "x": 0.1,
        "y": 0.1
       },
       "content": {
        "cell": "f89088d3-0575-43e8-b4db-543f998ff5c7",
        "part": "whole"
       },
       "id": "9b85e236-567b-4f2a-b2e4-839c097a64d2"
      }
     }
    },
    "c6b8f28d-0bf7-405b-8a78-db820fff3bce": {
     "id": "c6b8f28d-0bf7-405b-8a78-db820fff3bce",
     "prev": "f8076fca-a18c-419f-b23d-8f202fbcf044",
     "regions": {
      "eb88134f-e453-4425-bc54-db68addf9cb7": {
       "attrs": {
        "height": 0.8,
        "width": 0.8,
        "x": 0.1,
        "y": 0.1
       },
       "content": {
        "cell": "435ab8de-d2f5-4a3d-9e11-470392039cc4",
        "part": "whole"
       },
       "id": "eb88134f-e453-4425-bc54-db68addf9cb7"
      }
     }
    },
    "c747eff5-96ea-4d2e-b804-13c4286d9366": {
     "id": "c747eff5-96ea-4d2e-b804-13c4286d9366",
     "prev": "2d85e90d-f8fc-4005-8696-0057d5fd172e",
     "regions": {
      "9fd8b6a8-4d81-4d3f-8ab0-a85171fa3901": {
       "attrs": {
        "height": 0.8,
        "width": 0.8,
        "x": 0.1,
        "y": 0.1
       },
       "content": {
        "cell": "1c9b8670-5574-4553-94a7-f3974a45d92b",
        "part": "whole"
       },
       "id": "9fd8b6a8-4d81-4d3f-8ab0-a85171fa3901"
      }
     }
    },
    "c7ad5e56-75a5-473b-aaff-74317798366d": {
     "id": "c7ad5e56-75a5-473b-aaff-74317798366d",
     "prev": "66cab880-2812-46aa-ba10-a511edb77d58",
     "regions": {
      "240a8ce7-5ee1-4a09-b719-6228f3596259": {
       "attrs": {
        "height": 0.8,
        "width": 0.8,
        "x": 0.1,
        "y": 0.1
       },
       "content": {
        "cell": "81f2fb1a-747e-407a-bcbf-39f06893a3fb",
        "part": "whole"
       },
       "id": "240a8ce7-5ee1-4a09-b719-6228f3596259"
      }
     }
    },
    "c8794e74-5119-4495-9edb-c81a4365310d": {
     "id": "c8794e74-5119-4495-9edb-c81a4365310d",
     "prev": "d708e4d7-2dee-4e46-add3-3ca742ee9650",
     "regions": {
      "00583a56-98f0-4d5c-8cb3-b6d0bf712b51": {
       "attrs": {
        "height": 0.8,
        "width": 0.8,
        "x": 0.1,
        "y": 0.1
       },
       "content": {
        "cell": "8557803f-edbe-4ffd-831c-8e1c3a64fef9",
        "part": "whole"
       },
       "id": "00583a56-98f0-4d5c-8cb3-b6d0bf712b51"
      }
     }
    },
    "ca473f61-6640-426d-b29d-6eaa57a2b5de": {
     "id": "ca473f61-6640-426d-b29d-6eaa57a2b5de",
     "prev": "db66c3ec-ff7c-4e1c-bc4a-d0fb5566882b",
     "regions": {
      "013b4b47-ab5b-42cf-9b7b-7429fe09e29b": {
       "attrs": {
        "height": 0.8,
        "width": 0.8,
        "x": 0.1,
        "y": 0.1
       },
       "content": {
        "cell": "a3c0f9ef-3c44-46d8-ab03-8093507eb188",
        "part": "whole"
       },
       "id": "013b4b47-ab5b-42cf-9b7b-7429fe09e29b"
      }
     }
    },
    "cb212692-0f97-4bd1-8bb9-42f8aebd4d44": {
     "id": "cb212692-0f97-4bd1-8bb9-42f8aebd4d44",
     "prev": "55da94e7-95a7-43f8-bbc5-d2bf7b2a4f87",
     "regions": {
      "899e72ee-6467-4d4e-8228-90230f2c21f1": {
       "attrs": {
        "height": 0.8,
        "width": 0.8,
        "x": 0.1,
        "y": 0.1
       },
       "content": {
        "cell": "b34e4271-ebe9-4ce7-8d02-543aaac3dae6",
        "part": "whole"
       },
       "id": "899e72ee-6467-4d4e-8228-90230f2c21f1"
      }
     }
    },
    "cb853be9-977f-4bf7-8379-bdb37baffcb6": {
     "id": "cb853be9-977f-4bf7-8379-bdb37baffcb6",
     "prev": "48ded24f-8b65-4010-8857-9b9805064034",
     "regions": {
      "9f34b020-c5ea-4a01-bfda-2a856d680498": {
       "attrs": {
        "height": 0.8,
        "width": 0.8,
        "x": 0.1,
        "y": 0.1
       },
       "content": {
        "cell": "5f218de8-f1db-4b95-af0a-b89cdf8eda27",
        "part": "whole"
       },
       "id": "9f34b020-c5ea-4a01-bfda-2a856d680498"
      }
     }
    },
    "cba9e033-1b04-446a-ba60-f773dfdd98a1": {
     "id": "cba9e033-1b04-446a-ba60-f773dfdd98a1",
     "prev": "510a132a-057f-44c4-b18c-7764e61322e8",
     "regions": {
      "4c53e0c3-dbba-45be-9f65-829ee56580ee": {
       "attrs": {
        "height": 0.8,
        "width": 0.8,
        "x": 0.1,
        "y": 0.1
       },
       "content": {
        "cell": "9727e809-befc-4772-bfcd-01ccee8aa1a0",
        "part": "whole"
       },
       "id": "4c53e0c3-dbba-45be-9f65-829ee56580ee"
      }
     }
    },
    "ce14344e-02d2-4e1e-a8db-b586c5d08a20": {
     "id": "ce14344e-02d2-4e1e-a8db-b586c5d08a20",
     "prev": "a950ac8f-00e5-483a-8ab1-b17ccfe417d0",
     "regions": {
      "3e1f143f-9ce8-460e-b961-818ed61827df": {
       "attrs": {
        "height": 0.8,
        "width": 0.8,
        "x": 0.1,
        "y": 0.1
       },
       "content": {
        "cell": "2bfb9e0d-4186-483e-b730-c7b976bd5bad",
        "part": "whole"
       },
       "id": "3e1f143f-9ce8-460e-b961-818ed61827df"
      }
     }
    },
    "ce481cbe-a332-446b-a68d-2f2ea817d99a": {
     "id": "ce481cbe-a332-446b-a68d-2f2ea817d99a",
     "prev": "0f4e3933-b2a6-4409-969d-2e508e20e491",
     "regions": {
      "2cd1083c-175d-46b0-a6d5-867978c2effd": {
       "attrs": {
        "height": 0.8,
        "width": 0.8,
        "x": 0.1,
        "y": 0.1
       },
       "content": {
        "cell": "ecd6afc9-737f-4b20-9980-c1a888f6178a",
        "part": "whole"
       },
       "id": "2cd1083c-175d-46b0-a6d5-867978c2effd"
      }
     }
    },
    "cedaba22-6d07-461d-9f8e-9f39bb7c8e2e": {
     "id": "cedaba22-6d07-461d-9f8e-9f39bb7c8e2e",
     "prev": "97565632-8521-44ef-b3b1-0acaf6d1d107",
     "regions": {
      "b4fbd8a6-f6c0-486c-9753-2110d0028564": {
       "attrs": {
        "height": 0.8,
        "width": 0.8,
        "x": 0.1,
        "y": 0.1
       },
       "content": {
        "cell": "2d0c2fdf-efcc-4f0d-b73a-153c36977f0b",
        "part": "whole"
       },
       "id": "b4fbd8a6-f6c0-486c-9753-2110d0028564"
      }
     }
    },
    "cef1f2f2-bc8e-4956-a285-dd268aa8790f": {
     "id": "cef1f2f2-bc8e-4956-a285-dd268aa8790f",
     "prev": "d448d125-7769-4204-ac67-163c1bdc068d",
     "regions": {
      "3115ed25-166b-4fa2-883d-19fded9f62e3": {
       "attrs": {
        "height": 0.8,
        "width": 0.8,
        "x": 0.1,
        "y": 0.1
       },
       "content": {
        "cell": "ac36c00a-600a-4ec4-807b-ebbf294f2bb5",
        "part": "whole"
       },
       "id": "3115ed25-166b-4fa2-883d-19fded9f62e3"
      }
     }
    },
    "cf72ec77-a71e-4379-a8d7-07e4bd86a0bb": {
     "id": "cf72ec77-a71e-4379-a8d7-07e4bd86a0bb",
     "prev": "082bcf54-7cb7-489b-8fb1-1a4dc717ea34",
     "regions": {
      "ae2937bb-86f8-4274-a25b-30ace42e1060": {
       "attrs": {
        "height": 0.8,
        "width": 0.8,
        "x": 0.1,
        "y": 0.1
       },
       "content": {
        "cell": "d19c204b-ea36-487b-ac07-f7b4ce826478",
        "part": "whole"
       },
       "id": "ae2937bb-86f8-4274-a25b-30ace42e1060"
      }
     }
    },
    "cf77c455-40f6-4cf1-b127-adbcecfce81b": {
     "id": "cf77c455-40f6-4cf1-b127-adbcecfce81b",
     "prev": "221c9666-a21c-440a-902a-83acf7b8f889",
     "regions": {
      "590229cf-353e-42ec-a9ac-a592146b18c7": {
       "attrs": {
        "height": 0.8,
        "width": 0.8,
        "x": 0.1,
        "y": 0.1
       },
       "content": {
        "cell": "442e73bc-98ec-4a12-9dac-6a27de4fe4a5",
        "part": "whole"
       },
       "id": "590229cf-353e-42ec-a9ac-a592146b18c7"
      }
     }
    },
    "d04b7d36-78ac-44af-a6d2-11f9416edef5": {
     "id": "d04b7d36-78ac-44af-a6d2-11f9416edef5",
     "prev": "df5dfd0d-9bc8-4363-b9a1-3244e9d4add4",
     "regions": {
      "21e29c2b-3ed5-4f83-adcd-9df320a4c7b0": {
       "attrs": {
        "height": 0.8,
        "width": 0.8,
        "x": 0.1,
        "y": 0.1
       },
       "content": {
        "cell": "ca38eaf4-8063-48f2-8d8d-411ed80a9980",
        "part": "whole"
       },
       "id": "21e29c2b-3ed5-4f83-adcd-9df320a4c7b0"
      }
     }
    },
    "d0a20df9-e5f7-41fd-965e-e728543a02ef": {
     "id": "d0a20df9-e5f7-41fd-965e-e728543a02ef",
     "prev": "ed02e081-71fd-4d25-816d-5672a8ecfe77",
     "regions": {
      "f3828552-2eda-4a80-b10c-ab73078d32cc": {
       "attrs": {
        "height": 0.8,
        "width": 0.8,
        "x": 0.1,
        "y": 0.1
       },
       "content": {
        "cell": "6b4f6a29-0ad6-4502-a606-2b180ad4305e",
        "part": "whole"
       },
       "id": "f3828552-2eda-4a80-b10c-ab73078d32cc"
      }
     }
    },
    "d2628a75-41c0-4f5d-a4be-fbc27d25651b": {
     "id": "d2628a75-41c0-4f5d-a4be-fbc27d25651b",
     "prev": "537c59f0-6fc5-4fd9-9aae-30afc810a4bb",
     "regions": {
      "f7732351-a270-4ac7-ae86-1b927410306f": {
       "attrs": {
        "height": 0.8,
        "width": 0.8,
        "x": 0.1,
        "y": 0.1
       },
       "content": {
        "cell": "86a90a68-6794-4fc6-a66a-4b0a7a6ca35b",
        "part": "whole"
       },
       "id": "f7732351-a270-4ac7-ae86-1b927410306f"
      }
     }
    },
    "d3e9cf0d-e230-4016-897a-c697960fbc91": {
     "id": "d3e9cf0d-e230-4016-897a-c697960fbc91",
     "prev": "c5235474-cab4-47a7-81b0-0fce0a7adc3b",
     "regions": {
      "3975d1d1-86a0-48f9-9f1f-8b771e79e7d9": {
       "attrs": {
        "height": 0.8,
        "width": 0.8,
        "x": 0.1,
        "y": 0.1
       },
       "content": {
        "cell": "3046c12d-c5a1-4476-b663-2b52a6995dfb",
        "part": "whole"
       },
       "id": "3975d1d1-86a0-48f9-9f1f-8b771e79e7d9"
      }
     }
    },
    "d40e6583-b50b-4d0f-9f4f-1a50cde5f708": {
     "id": "d40e6583-b50b-4d0f-9f4f-1a50cde5f708",
     "prev": "d3e9cf0d-e230-4016-897a-c697960fbc91",
     "regions": {
      "ba95c536-dde7-45ce-b303-fe2f8a66c9ab": {
       "attrs": {
        "height": 0.8,
        "width": 0.8,
        "x": 0.1,
        "y": 0.1
       },
       "content": {
        "cell": "0f1f9cc8-e72a-4263-86cb-9c665e9ecc90",
        "part": "whole"
       },
       "id": "ba95c536-dde7-45ce-b303-fe2f8a66c9ab"
      }
     }
    },
    "d448d125-7769-4204-ac67-163c1bdc068d": {
     "id": "d448d125-7769-4204-ac67-163c1bdc068d",
     "prev": "7febe81d-cb63-4c0d-9ea9-51aaba2dcb93",
     "regions": {
      "102b94bb-a4f8-4e2d-9cbc-9543796fea73": {
       "attrs": {
        "height": 0.8,
        "width": 0.8,
        "x": 0.1,
        "y": 0.1
       },
       "content": {
        "cell": "676689e4-c2cb-4020-9d3e-711840076c7c",
        "part": "whole"
       },
       "id": "102b94bb-a4f8-4e2d-9cbc-9543796fea73"
      }
     }
    },
    "d708e4d7-2dee-4e46-add3-3ca742ee9650": {
     "id": "d708e4d7-2dee-4e46-add3-3ca742ee9650",
     "prev": "09c63247-945f-4e9b-bc24-37bac08de575",
     "regions": {
      "7c260bfe-9c7e-4329-9c10-78bd04f4d2d0": {
       "attrs": {
        "height": 0.8,
        "width": 0.8,
        "x": 0.1,
        "y": 0.1
       },
       "content": {
        "cell": "017d16cb-a795-4d4e-960e-451c4b225cc4",
        "part": "whole"
       },
       "id": "7c260bfe-9c7e-4329-9c10-78bd04f4d2d0"
      }
     }
    },
    "d750cef9-960c-4942-a64e-7cc6f667a799": {
     "id": "d750cef9-960c-4942-a64e-7cc6f667a799",
     "prev": "0a9559cf-f6e3-4934-a2a1-05d893c6781d",
     "regions": {
      "85c6c728-ea66-41ea-8081-c1d2fe83fa82": {
       "attrs": {
        "height": 0.8,
        "width": 0.8,
        "x": 0.1,
        "y": 0.1
       },
       "content": {
        "cell": "b1b2c1aa-0a7a-48bf-bc42-d2b5fdcdec7f",
        "part": "whole"
       },
       "id": "85c6c728-ea66-41ea-8081-c1d2fe83fa82"
      }
     }
    },
    "d9f37eef-d068-4603-be47-7c2b3962408d": {
     "id": "d9f37eef-d068-4603-be47-7c2b3962408d",
     "prev": "1d40d1bf-6a45-4504-b31c-b297bcf8e8f1",
     "regions": {
      "46970a48-51a8-4fad-bfc7-ce823172a351": {
       "attrs": {
        "height": 0.8,
        "width": 0.8,
        "x": 0.1,
        "y": 0.1
       },
       "content": {
        "cell": "1f72a6d5-d4ec-4bdd-ada1-637be2da53f5",
        "part": "whole"
       },
       "id": "46970a48-51a8-4fad-bfc7-ce823172a351"
      }
     }
    },
    "da419d8b-6168-49b5-b7a4-e43ce9ab75dc": {
     "id": "da419d8b-6168-49b5-b7a4-e43ce9ab75dc",
     "prev": "2e740aac-1261-4d44-b5a4-f0996f7a8f52",
     "regions": {
      "c51d3d9a-6520-4c42-9436-effba6606e09": {
       "attrs": {
        "height": 0.8,
        "width": 0.8,
        "x": 0.1,
        "y": 0.1
       },
       "content": {
        "cell": "2166477f-59ad-4e12-94e9-a7974ee8ee4f",
        "part": "whole"
       },
       "id": "c51d3d9a-6520-4c42-9436-effba6606e09"
      }
     }
    },
    "db66c3ec-ff7c-4e1c-bc4a-d0fb5566882b": {
     "id": "db66c3ec-ff7c-4e1c-bc4a-d0fb5566882b",
     "prev": "04ea9868-81d4-4011-9be6-9d66d0e6576b",
     "regions": {
      "dc2cc85c-dab0-4da7-882c-19c3a32030dc": {
       "attrs": {
        "height": 0.8,
        "width": 0.8,
        "x": 0.1,
        "y": 0.1
       },
       "content": {
        "cell": "71d47d00-6b88-4925-8de7-c5de61c170db",
        "part": "whole"
       },
       "id": "dc2cc85c-dab0-4da7-882c-19c3a32030dc"
      }
     }
    },
    "dbea599d-9fd6-4c54-8c13-4b7a392bfe73": {
     "id": "dbea599d-9fd6-4c54-8c13-4b7a392bfe73",
     "prev": "4d5c18bf-d0cb-4537-8515-1165cb52b7f8",
     "regions": {
      "7bb3875d-da3a-4bd2-bdd8-2b3353c8f43b": {
       "attrs": {
        "height": 0.8,
        "width": 0.8,
        "x": 0.1,
        "y": 0.1
       },
       "content": {
        "cell": "cc5515ff-1bf6-492c-a7d1-2d3710b70386",
        "part": "whole"
       },
       "id": "7bb3875d-da3a-4bd2-bdd8-2b3353c8f43b"
      }
     }
    },
    "dc5e1016-3b43-4a7c-8c01-06c3e220ff57": {
     "id": "dc5e1016-3b43-4a7c-8c01-06c3e220ff57",
     "prev": "1ebcb180-bf26-4257-972f-3db42019990c",
     "regions": {
      "0e62bbb1-2978-41e9-ada2-2c685096531c": {
       "attrs": {
        "height": 0.8,
        "width": 0.8,
        "x": 0.1,
        "y": 0.1
       },
       "content": {
        "cell": "ff05834a-b281-4c0f-98b4-82a992f6e8d9",
        "part": "whole"
       },
       "id": "0e62bbb1-2978-41e9-ada2-2c685096531c"
      }
     }
    },
    "dca220ab-dfb0-47a6-977c-266b174bc6bb": {
     "id": "dca220ab-dfb0-47a6-977c-266b174bc6bb",
     "prev": "0eccce1b-1e80-468a-bec2-2ed9cde20335",
     "regions": {
      "acc99746-1255-487f-a29e-56c78cd967cc": {
       "attrs": {
        "height": 0.8,
        "width": 0.8,
        "x": 0.1,
        "y": 0.1
       },
       "content": {
        "cell": "0a01ee74-d517-45b3-8897-18004196a7db",
        "part": "whole"
       },
       "id": "acc99746-1255-487f-a29e-56c78cd967cc"
      }
     }
    },
    "df5dfd0d-9bc8-4363-b9a1-3244e9d4add4": {
     "id": "df5dfd0d-9bc8-4363-b9a1-3244e9d4add4",
     "prev": "62c74800-592b-4e81-8ee4-42b1cc7508c7",
     "regions": {
      "e607baa2-da20-4024-a7d1-08c615984fc6": {
       "attrs": {
        "height": 0.8,
        "width": 0.8,
        "x": 0.1,
        "y": 0.1
       },
       "content": {
        "cell": "a3e17904-b916-478c-aa37-812557bc29f4",
        "part": "whole"
       },
       "id": "e607baa2-da20-4024-a7d1-08c615984fc6"
      }
     }
    },
    "df79ce58-771c-4357-a560-4c3d0d3a88d1": {
     "id": "df79ce58-771c-4357-a560-4c3d0d3a88d1",
     "prev": "0a33031b-c693-4edf-84fe-da69e0d9485e",
     "regions": {
      "cbaee614-ca3e-42a9-8e81-16a74df06009": {
       "attrs": {
        "height": 0.8,
        "width": 0.8,
        "x": 0.1,
        "y": 0.1
       },
       "content": {
        "cell": "ac328f3e-4853-446a-8203-fcb76469d5e6",
        "part": "whole"
       },
       "id": "cbaee614-ca3e-42a9-8e81-16a74df06009"
      }
     }
    },
    "dfd5999b-6769-40ff-8887-0b04d420b528": {
     "id": "dfd5999b-6769-40ff-8887-0b04d420b528",
     "prev": "387a51eb-2bf8-4b03-87ab-391e7e4c7728",
     "regions": {
      "99c695b0-1ab3-4f45-a332-ce205eec2660": {
       "attrs": {
        "height": 0.8,
        "width": 0.8,
        "x": 0.1,
        "y": 0.1
       },
       "content": {
        "cell": "0330abe1-0d37-4494-804c-a78d7b9f74a9",
        "part": "whole"
       },
       "id": "99c695b0-1ab3-4f45-a332-ce205eec2660"
      }
     }
    },
    "e056c670-218a-4437-85c1-eda1b93ddeb7": {
     "id": "e056c670-218a-4437-85c1-eda1b93ddeb7",
     "prev": "4c0cf7e7-c782-4096-918c-071766f9d119",
     "regions": {
      "c27f45c9-568c-4edf-8088-206297073fc0": {
       "attrs": {
        "height": 0.8,
        "width": 0.8,
        "x": 0.1,
        "y": 0.1
       },
       "content": {
        "cell": "e79ec8d4-23d2-4b5a-8599-321939a26f87",
        "part": "whole"
       },
       "id": "c27f45c9-568c-4edf-8088-206297073fc0"
      }
     }
    },
    "e45b1995-a28a-48d3-8625-9031d32560b2": {
     "id": "e45b1995-a28a-48d3-8625-9031d32560b2",
     "prev": "3e0ca6a6-4211-45e3-92ec-62c41ad97572",
     "regions": {
      "974e1c5f-a44d-4086-83f1-e40ed984ede6": {
       "attrs": {
        "height": 0.8,
        "width": 0.8,
        "x": 0.1,
        "y": 0.1
       },
       "content": {
        "cell": "b00817c6-4db3-44d4-8c25-9878449ac4ee",
        "part": "whole"
       },
       "id": "974e1c5f-a44d-4086-83f1-e40ed984ede6"
      }
     }
    },
    "e5199ab5-320e-45bc-b65a-a16de3080d71": {
     "id": "e5199ab5-320e-45bc-b65a-a16de3080d71",
     "prev": "87912b5e-9f96-41b1-ab0a-c2108d62dc10",
     "regions": {
      "c74a4ff3-d418-4bda-ba02-cf37640ed35d": {
       "attrs": {
        "height": 0.8,
        "width": 0.8,
        "x": 0.1,
        "y": 0.1
       },
       "content": {
        "cell": "662b26e3-a560-46f5-b5bf-31f6255a8085",
        "part": "whole"
       },
       "id": "c74a4ff3-d418-4bda-ba02-cf37640ed35d"
      }
     }
    },
    "e54fd3b8-1b0c-436b-a32b-79fd4e78499b": {
     "id": "e54fd3b8-1b0c-436b-a32b-79fd4e78499b",
     "prev": "774f3a2a-661a-4b0e-b1f8-99ced565806a",
     "regions": {
      "938c58f9-191a-48de-bbec-61fee7b4f391": {
       "attrs": {
        "height": 0.8,
        "width": 0.8,
        "x": 0.1,
        "y": 0.1
       },
       "content": {
        "cell": "63d209f9-a1d6-44e8-b8ab-41baf027f575",
        "part": "whole"
       },
       "id": "938c58f9-191a-48de-bbec-61fee7b4f391"
      }
     }
    },
    "e70b89d0-f2da-4acf-8470-f46c7e0ece77": {
     "id": "e70b89d0-f2da-4acf-8470-f46c7e0ece77",
     "prev": "20a286bc-e45c-4a00-abb0-29c2a3cc562b",
     "regions": {
      "812b8f05-e570-4056-b44a-1c262e8396ba": {
       "attrs": {
        "height": 0.8,
        "width": 0.8,
        "x": 0.1,
        "y": 0.1
       },
       "content": {
        "cell": "04a407a7-8ff4-4064-a7e8-cb66bc90e6fb",
        "part": "whole"
       },
       "id": "812b8f05-e570-4056-b44a-1c262e8396ba"
      }
     }
    },
    "e78eb032-6d32-4061-845f-0a50f13cf8ab": {
     "id": "e78eb032-6d32-4061-845f-0a50f13cf8ab",
     "prev": "a313b349-e5ef-4f39-8878-7fc6a789e8ec",
     "regions": {
      "1ef1ad93-0d98-4eff-a129-d7b9c08794f0": {
       "attrs": {
        "height": 0.8,
        "width": 0.8,
        "x": 0.1,
        "y": 0.1
       },
       "content": {
        "cell": "51365a54-fd1b-4a60-8693-1df34ce0c3ad",
        "part": "whole"
       },
       "id": "1ef1ad93-0d98-4eff-a129-d7b9c08794f0"
      }
     }
    },
    "e79da9d0-3457-4532-a435-525a67ef7728": {
     "id": "e79da9d0-3457-4532-a435-525a67ef7728",
     "prev": "124f9d18-ecf7-4f7d-a95c-e74d2f71b368",
     "regions": {
      "53b3860e-20c8-4050-9080-685638531973": {
       "attrs": {
        "height": 0.8,
        "width": 0.8,
        "x": 0.1,
        "y": 0.1
       },
       "content": {
        "cell": "ecf14d98-a19b-462a-9fe6-3f302f9cda2c",
        "part": "whole"
       },
       "id": "53b3860e-20c8-4050-9080-685638531973"
      }
     }
    },
    "e9009363-c19d-4fba-a6e1-4a3d403be8bf": {
     "id": "e9009363-c19d-4fba-a6e1-4a3d403be8bf",
     "prev": "88d4250e-a343-45f4-9d11-8220114e4efd",
     "regions": {
      "0a5472d5-9a06-4f73-98cd-90c1ba71cfb7": {
       "attrs": {
        "height": 0.8,
        "width": 0.8,
        "x": 0.1,
        "y": 0.1
       },
       "content": {
        "cell": "72b6ed81-5ee1-452d-be57-bec97cdef661",
        "part": "whole"
       },
       "id": "0a5472d5-9a06-4f73-98cd-90c1ba71cfb7"
      }
     }
    },
    "e929414e-e0d2-4168-affe-4569fbe3e2b0": {
     "id": "e929414e-e0d2-4168-affe-4569fbe3e2b0",
     "prev": "fc8ba73a-6ed3-4f7c-81b5-ae3884c09088",
     "regions": {
      "38cc1e94-01d0-42c1-9524-c415ca9915b2": {
       "attrs": {
        "height": 0.8,
        "width": 0.8,
        "x": 0.1,
        "y": 0.1
       },
       "content": {
        "cell": "df9deed0-a032-4321-bd26-ee4d41d2b013",
        "part": "whole"
       },
       "id": "38cc1e94-01d0-42c1-9524-c415ca9915b2"
      }
     }
    },
    "e9eb647c-3a51-469c-849d-72d9143345a9": {
     "id": "e9eb647c-3a51-469c-849d-72d9143345a9",
     "prev": "e5199ab5-320e-45bc-b65a-a16de3080d71",
     "regions": {
      "b382f344-72a7-47ec-aee6-5fd66f44962a": {
       "attrs": {
        "height": 0.8,
        "width": 0.8,
        "x": 0.1,
        "y": 0.1
       },
       "content": {
        "cell": "a0fd544e-2240-48a8-b5c5-75ea65af3a20",
        "part": "whole"
       },
       "id": "b382f344-72a7-47ec-aee6-5fd66f44962a"
      }
     }
    },
    "ea160572-dff6-41a5-ab34-0c0ed2c67ceb": {
     "id": "ea160572-dff6-41a5-ab34-0c0ed2c67ceb",
     "prev": "e056c670-218a-4437-85c1-eda1b93ddeb7",
     "regions": {
      "76709490-6277-45b9-b258-4a2a6535eed8": {
       "attrs": {
        "height": 0.8,
        "width": 0.8,
        "x": 0.1,
        "y": 0.1
       },
       "content": {
        "cell": "97765fdd-acb4-4caa-82c8-f22620c09adc",
        "part": "whole"
       },
       "id": "76709490-6277-45b9-b258-4a2a6535eed8"
      }
     }
    },
    "ed02e081-71fd-4d25-816d-5672a8ecfe77": {
     "id": "ed02e081-71fd-4d25-816d-5672a8ecfe77",
     "prev": "5a11b0b8-85dc-4553-b521-8c987664f9e3",
     "regions": {
      "b9c273a1-dc20-4497-8222-349058ab7592": {
       "attrs": {
        "height": 0.8,
        "width": 0.8,
        "x": 0.1,
        "y": 0.1
       },
       "content": {
        "cell": "16a1204f-5a6e-4d82-bcd9-16392d638c14",
        "part": "whole"
       },
       "id": "b9c273a1-dc20-4497-8222-349058ab7592"
      }
     }
    },
    "ed0f8f17-eecb-4679-82fa-cec092751625": {
     "id": "ed0f8f17-eecb-4679-82fa-cec092751625",
     "prev": "d0a20df9-e5f7-41fd-965e-e728543a02ef",
     "regions": {
      "74f5253d-60e8-4a79-b5ba-4cb9cdb82513": {
       "attrs": {
        "height": 0.8,
        "width": 0.8,
        "x": 0.1,
        "y": 0.1
       },
       "content": {
        "cell": "3a60f2b1-0d5d-4e93-9b7a-709366a8a14b",
        "part": "whole"
       },
       "id": "74f5253d-60e8-4a79-b5ba-4cb9cdb82513"
      }
     }
    },
    "edfe7895-d4d3-432f-afb1-5ae2c76f9b89": {
     "id": "edfe7895-d4d3-432f-afb1-5ae2c76f9b89",
     "prev": "4c9bc1e2-0ad3-408d-9d18-141fa15728b1",
     "regions": {
      "808a0735-fcde-48cd-aaee-ecbefca3c1bd": {
       "attrs": {
        "height": 0.8,
        "width": 0.8,
        "x": 0.1,
        "y": 0.1
       },
       "content": {
        "cell": "f26e0b15-b1fd-4549-9998-c59424fa8c8f",
        "part": "whole"
       },
       "id": "808a0735-fcde-48cd-aaee-ecbefca3c1bd"
      }
     }
    },
    "ee490346-2f30-40f3-830b-25be50f7239b": {
     "id": "ee490346-2f30-40f3-830b-25be50f7239b",
     "prev": "1634f5b3-e68b-4f10-87fe-71a1bdde3c4e",
     "regions": {
      "ea50a011-af90-4c1b-91a3-143d0e69bc8c": {
       "attrs": {
        "height": 0.8,
        "width": 0.8,
        "x": 0.1,
        "y": 0.1
       },
       "content": {
        "cell": "6158ca12-441d-46f4-bd29-f8a1fc8dc90f",
        "part": "whole"
       },
       "id": "ea50a011-af90-4c1b-91a3-143d0e69bc8c"
      }
     }
    },
    "eece6729-94c5-47fb-a719-22c3d5f3cfd0": {
     "id": "eece6729-94c5-47fb-a719-22c3d5f3cfd0",
     "prev": "61212803-76ff-41d3-8282-839e24ed7f61",
     "regions": {
      "ae20db83-9c31-478b-a2d8-7d4bf6beb269": {
       "attrs": {
        "height": 0.8,
        "width": 0.8,
        "x": 0.1,
        "y": 0.1
       },
       "content": {
        "cell": "ed7772d4-e7cb-4695-840e-e2a5c9c1b582",
        "part": "whole"
       },
       "id": "ae20db83-9c31-478b-a2d8-7d4bf6beb269"
      }
     }
    },
    "eecfe1df-3b89-40d6-b9be-f2eb468c3001": {
     "id": "eecfe1df-3b89-40d6-b9be-f2eb468c3001",
     "prev": "082cdb33-3145-4d23-be04-9fa673845eb8",
     "regions": {
      "6c0209d6-cb80-47f6-8fed-e79a63e079a5": {
       "attrs": {
        "height": 0.8,
        "width": 0.8,
        "x": 0.1,
        "y": 0.1
       },
       "content": {
        "cell": "7127487e-2906-418e-b90b-b8e9ec04098d",
        "part": "whole"
       },
       "id": "6c0209d6-cb80-47f6-8fed-e79a63e079a5"
      }
     }
    },
    "ef2357f7-7e83-46fd-97f3-6f28dc9b2300": {
     "id": "ef2357f7-7e83-46fd-97f3-6f28dc9b2300",
     "prev": "07414749-a649-454b-82d1-2bbfef63501b",
     "regions": {
      "967acc46-1098-45be-b97f-3f4ed4feec31": {
       "attrs": {
        "height": 0.8,
        "width": 0.8,
        "x": 0.1,
        "y": 0.1
       },
       "content": {
        "cell": "1b1abb8b-0132-4eec-aa1f-708f6525a823",
        "part": "whole"
       },
       "id": "967acc46-1098-45be-b97f-3f4ed4feec31"
      }
     }
    },
    "f0b19243-ee7b-4283-af43-27ca86bb7398": {
     "id": "f0b19243-ee7b-4283-af43-27ca86bb7398",
     "prev": "bed8da9a-0974-4cdb-a6bf-8217bb1b483a",
     "regions": {
      "8e7c918b-a2dd-48b6-bb76-297bde38b99b": {
       "attrs": {
        "height": 0.8,
        "width": 0.8,
        "x": 0.1,
        "y": 0.1
       },
       "content": {
        "cell": "a7435867-a041-497d-98ac-3660674d8269",
        "part": "whole"
       },
       "id": "8e7c918b-a2dd-48b6-bb76-297bde38b99b"
      }
     }
    },
    "f38327c6-3a48-489b-b181-02af0a569d50": {
     "id": "f38327c6-3a48-489b-b181-02af0a569d50",
     "prev": "0544fccb-f049-4a7f-a0f0-29739d552df1",
     "regions": {
      "9f838a93-2cb1-4a6e-8855-830842b20b65": {
       "attrs": {
        "height": 0.8,
        "width": 0.8,
        "x": 0.1,
        "y": 0.1
       },
       "content": {
        "cell": "3be21cce-9e42-4729-9384-48c6822433c2",
        "part": "whole"
       },
       "id": "9f838a93-2cb1-4a6e-8855-830842b20b65"
      }
     }
    },
    "f50003ee-372d-41d4-ad56-a36d63b91e35": {
     "id": "f50003ee-372d-41d4-ad56-a36d63b91e35",
     "prev": "d40e6583-b50b-4d0f-9f4f-1a50cde5f708",
     "regions": {
      "fb761de3-2051-4bd7-9256-a4328d0da448": {
       "attrs": {
        "height": 0.8,
        "width": 0.8,
        "x": 0.1,
        "y": 0.1
       },
       "content": {
        "cell": "9585f514-03be-4d7a-8639-898e9db36284",
        "part": "whole"
       },
       "id": "fb761de3-2051-4bd7-9256-a4328d0da448"
      }
     }
    },
    "f51e25a3-b0cf-4560-882f-6674cd6e703b": {
     "id": "f51e25a3-b0cf-4560-882f-6674cd6e703b",
     "prev": "c6510bd4-f200-42a7-8bd4-5e96019cdd01",
     "regions": {
      "959df003-48d6-498b-a1ca-b81839f552c7": {
       "attrs": {
        "height": 0.8,
        "width": 0.8,
        "x": 0.1,
        "y": 0.1
       },
       "content": {
        "cell": "41aeb632-6199-465c-9d80-4c66aea33cfb",
        "part": "whole"
       },
       "id": "959df003-48d6-498b-a1ca-b81839f552c7"
      }
     }
    },
    "f596c99c-cd01-494b-a8d4-2c817d222145": {
     "id": "f596c99c-cd01-494b-a8d4-2c817d222145",
     "prev": "4bc49121-169d-467d-9038-0f2edcb2173d",
     "regions": {
      "48f2760a-c1da-4aa4-ac9d-a052b378fbef": {
       "attrs": {
        "height": 0.8,
        "width": 0.8,
        "x": 0.1,
        "y": 0.1
       },
       "content": {
        "cell": "4cee7905-66e0-4b04-a5b1-969224a52255",
        "part": "whole"
       },
       "id": "48f2760a-c1da-4aa4-ac9d-a052b378fbef"
      }
     }
    },
    "f6432fd6-4a3b-440b-9ef3-6acd2bdeacb6": {
     "id": "f6432fd6-4a3b-440b-9ef3-6acd2bdeacb6",
     "prev": "4ef67c59-df1f-4d5f-ab52-db4ba6e8b204",
     "regions": {
      "e6f0de62-117b-4331-8ca0-fadd5fe5e68f": {
       "attrs": {
        "height": 0.8,
        "width": 0.8,
        "x": 0.1,
        "y": 0.1
       },
       "content": {
        "cell": "0e30e0d9-9c25-48b2-b0f0-ae1276e0d772",
        "part": "whole"
       },
       "id": "e6f0de62-117b-4331-8ca0-fadd5fe5e68f"
      }
     }
    },
    "f67593e2-5268-4e80-aff8-38c25b728d6c": {
     "id": "f67593e2-5268-4e80-aff8-38c25b728d6c",
     "prev": "6d17181f-301b-4c7f-a16b-3e26a748c979",
     "regions": {
      "76a095bb-206d-4382-ae12-6ab54ca66e81": {
       "attrs": {
        "height": 0.8,
        "width": 0.8,
        "x": 0.1,
        "y": 0.1
       },
       "content": {
        "cell": "8cfd4c3e-d636-4e9c-b0a2-ac4be95a4b5a",
        "part": "whole"
       },
       "id": "76a095bb-206d-4382-ae12-6ab54ca66e81"
      }
     }
    },
    "f70ee40c-045f-4337-817f-5ba21554911f": {
     "id": "f70ee40c-045f-4337-817f-5ba21554911f",
     "prev": "1fbb7f3d-d5fb-405d-8e22-c10913bb40d6",
     "regions": {
      "da1339ba-827a-458c-a116-3d0d59c920fd": {
       "attrs": {
        "height": 0.8,
        "width": 0.8,
        "x": 0.1,
        "y": 0.1
       },
       "content": {
        "cell": "6edd9d0e-6ac6-43df-a351-3678a99f1c23",
        "part": "whole"
       },
       "id": "da1339ba-827a-458c-a116-3d0d59c920fd"
      }
     }
    },
    "f7209e99-a9af-4440-ad5b-9bd4aaa8ad3f": {
     "id": "f7209e99-a9af-4440-ad5b-9bd4aaa8ad3f",
     "prev": "8f00f91f-e584-48aa-85af-e5fc89d0f4f3",
     "regions": {
      "e5da07d8-8a42-4238-9e3d-cfa205441c5b": {
       "attrs": {
        "height": 0.8,
        "width": 0.8,
        "x": 0.1,
        "y": 0.1
       },
       "content": {
        "cell": "1b3b1043-6419-4f70-8aea-745a072b9363",
        "part": "whole"
       },
       "id": "e5da07d8-8a42-4238-9e3d-cfa205441c5b"
      }
     }
    },
    "f7709f72-651b-441f-9f6b-91e1158930b8": {
     "id": "f7709f72-651b-441f-9f6b-91e1158930b8",
     "prev": "10d69b08-d01b-47b8-8e2a-e5de1a2f5ca8",
     "regions": {
      "9cdd344f-2fdf-42b0-8405-90aed9f6be5e": {
       "attrs": {
        "height": 0.8,
        "width": 0.8,
        "x": 0.1,
        "y": 0.1
       },
       "content": {
        "cell": "c13ee065-bb4a-4513-91cf-1baa15962586",
        "part": "whole"
       },
       "id": "9cdd344f-2fdf-42b0-8405-90aed9f6be5e"
      }
     }
    },
    "f772746c-7eb7-4158-8d60-7182220995d8": {
     "id": "f772746c-7eb7-4158-8d60-7182220995d8",
     "prev": "37d3cd29-4bf0-4b59-932b-ea6bcb2fa9fa",
     "regions": {
      "9c064382-34bc-4eb6-b343-23ead5848a8a": {
       "attrs": {
        "height": 0.8,
        "width": 0.8,
        "x": 0.1,
        "y": 0.1
       },
       "content": {
        "cell": "5568a6e5-e0de-473b-9f90-44bff2a260c1",
        "part": "whole"
       },
       "id": "9c064382-34bc-4eb6-b343-23ead5848a8a"
      }
     }
    },
    "f8076fca-a18c-419f-b23d-8f202fbcf044": {
     "id": "f8076fca-a18c-419f-b23d-8f202fbcf044",
     "prev": "15273740-b4bf-49f7-9255-732718f7fc8f",
     "regions": {
      "4eb6f5e7-272b-4bd1-93f9-53b388fc7a3c": {
       "attrs": {
        "height": 0.8,
        "width": 0.8,
        "x": 0.1,
        "y": 0.1
       },
       "content": {
        "cell": "34fa79da-7c76-48b5-b6a0-46b0c5a8463b",
        "part": "whole"
       },
       "id": "4eb6f5e7-272b-4bd1-93f9-53b388fc7a3c"
      }
     }
    },
    "f85f8c71-4aa0-4ee8-a117-d6ef4b0cf56b": {
     "id": "f85f8c71-4aa0-4ee8-a117-d6ef4b0cf56b",
     "prev": "74fd0dc8-5157-40a6-9d89-04b501e9f469",
     "regions": {
      "7148296d-9736-4477-bfcb-10b4a7fa2a2a": {
       "attrs": {
        "height": 0.8,
        "width": 0.8,
        "x": 0.1,
        "y": 0.1
       },
       "content": {
        "cell": "323a5ba6-fd57-41de-902c-fae59aadfaa9",
        "part": "whole"
       },
       "id": "7148296d-9736-4477-bfcb-10b4a7fa2a2a"
      }
     }
    },
    "f87bcf28-ba2a-4079-af7c-ec81e80b6e1e": {
     "id": "f87bcf28-ba2a-4079-af7c-ec81e80b6e1e",
     "prev": "a659a433-7886-408e-be23-99f1d8241f3e",
     "regions": {
      "696c0daf-8ba3-43ce-9c10-2faf30df5938": {
       "attrs": {
        "height": 0.8,
        "width": 0.8,
        "x": 0.1,
        "y": 0.1
       },
       "content": {
        "cell": "20f81cf8-93bd-4faa-ab9e-4808a7b62db4",
        "part": "whole"
       },
       "id": "696c0daf-8ba3-43ce-9c10-2faf30df5938"
      }
     }
    },
    "f9038616-079e-40bb-9a00-2e2f157c2a96": {
     "id": "f9038616-079e-40bb-9a00-2e2f157c2a96",
     "prev": "1c47ef05-f930-4ff8-b60c-5372b05a7e1e",
     "regions": {
      "60d8feb1-49b4-46cc-a99c-116b91cd1377": {
       "attrs": {
        "height": 0.8,
        "width": 0.8,
        "x": 0.1,
        "y": 0.1
       },
       "content": {
        "cell": "465737f8-b0a0-4a65-9b73-a6f512a5bcf9",
        "part": "whole"
       },
       "id": "60d8feb1-49b4-46cc-a99c-116b91cd1377"
      }
     }
    },
    "f993d2a9-5899-4539-85e1-9487a1d8956e": {
     "id": "f993d2a9-5899-4539-85e1-9487a1d8956e",
     "prev": "7e6979c5-cb2e-4bc4-89d0-4964b1a5917e",
     "regions": {
      "f4413cbb-4be1-4dd5-b885-99f5d2b466e8": {
       "attrs": {
        "height": 0.8,
        "width": 0.8,
        "x": 0.1,
        "y": 0.1
       },
       "content": {
        "cell": "e59322af-9f9a-4968-a969-135b1c5a8466",
        "part": "whole"
       },
       "id": "f4413cbb-4be1-4dd5-b885-99f5d2b466e8"
      }
     }
    },
    "faf421a6-1b35-4386-9b01-53fc5ba9e2cc": {
     "id": "faf421a6-1b35-4386-9b01-53fc5ba9e2cc",
     "prev": "4369f615-03f9-46d5-92f7-562be5e9476d",
     "regions": {
      "6871e72a-847f-4614-ac9f-8e84c3cd6ce4": {
       "attrs": {
        "height": 0.8,
        "width": 0.8,
        "x": 0.1,
        "y": 0.1
       },
       "content": {
        "cell": "6c9bc4e3-497c-41fb-b871-c25c5a70c940",
        "part": "whole"
       },
       "id": "6871e72a-847f-4614-ac9f-8e84c3cd6ce4"
      }
     }
    },
    "faf93265-7b8d-4250-88e8-d6747ae07c4c": {
     "id": "faf93265-7b8d-4250-88e8-d6747ae07c4c",
     "prev": "433eb898-83ff-4494-b532-eb5e40ffe0fe",
     "regions": {
      "7284734e-b66b-4fb0-8375-c4d32dd53dc5": {
       "attrs": {
        "height": 0.8,
        "width": 0.8,
        "x": 0.1,
        "y": 0.1
       },
       "content": {
        "cell": "1c4a7024-2c64-450f-a84b-d17ed1fd5219",
        "part": "whole"
       },
       "id": "7284734e-b66b-4fb0-8375-c4d32dd53dc5"
      }
     }
    },
    "fc89a1d4-3035-48a7-bf7f-fa155afbd0ea": {
     "id": "fc89a1d4-3035-48a7-bf7f-fa155afbd0ea",
     "prev": "92c0eaf1-4f99-43f0-988d-e1120bd9d9ac",
     "regions": {
      "3ca69d03-c200-434a-90a7-2e12fdce6ce0": {
       "attrs": {
        "height": 0.8,
        "width": 0.8,
        "x": 0.1,
        "y": 0.1
       },
       "content": {
        "cell": "155f5bb7-17b9-4867-8ee1-1e667f356690",
        "part": "whole"
       },
       "id": "3ca69d03-c200-434a-90a7-2e12fdce6ce0"
      }
     }
    },
    "fc8ba73a-6ed3-4f7c-81b5-ae3884c09088": {
     "id": "fc8ba73a-6ed3-4f7c-81b5-ae3884c09088",
     "prev": "336fba2a-5ea3-4340-8105-61b38399e012",
     "regions": {
      "a4e5e457-f02e-49fa-9400-cf5fbac3a830": {
       "attrs": {
        "height": 0.8,
        "width": 0.8,
        "x": 0.1,
        "y": 0.1
       },
       "content": {
        "cell": "59a0b4a7-41fa-4d71-8b32-b42de29c7540",
        "part": "whole"
       },
       "id": "a4e5e457-f02e-49fa-9400-cf5fbac3a830"
      }
     }
    },
    "fe573511-bd88-4e6a-8269-6639fb5b5ec0": {
     "id": "fe573511-bd88-4e6a-8269-6639fb5b5ec0",
     "prev": null,
     "regions": {
      "d8484cd4-a1d6-455f-aa5c-504953d6adcf": {
       "attrs": {
        "height": 0.8,
        "width": 0.8,
        "x": 0.1,
        "y": 0.1
       },
       "content": {
        "cell": "7a8da893-d170-430a-b108-de90bf03ebdf",
        "part": "whole"
       },
       "id": "d8484cd4-a1d6-455f-aa5c-504953d6adcf"
      }
     }
    },
    "ff4d9770-e777-40f0-b656-eb75bab61341": {
     "id": "ff4d9770-e777-40f0-b656-eb75bab61341",
     "prev": "36b00e38-1f7c-48d8-8c26-98e426424388",
     "regions": {
      "c389fce3-e0a3-4a2b-8a16-9275ad044eb5": {
       "attrs": {
        "height": 0.8,
        "width": 0.8,
        "x": 0.1,
        "y": 0.1
       },
       "content": {
        "cell": "0995bfe1-e281-463b-a30f-dc0b2fc7e6c5",
        "part": "whole"
       },
       "id": "c389fce3-e0a3-4a2b-8a16-9275ad044eb5"
      }
     }
    },
    "ffcfe714-6de4-42b3-a204-4b8f7cd646fb": {
     "id": "ffcfe714-6de4-42b3-a204-4b8f7cd646fb",
     "prev": "8ef4982d-350a-4d9e-a07b-0dcb8531e09b",
     "regions": {
      "979a6c47-fdc5-4610-82fc-47b4b8650992": {
       "attrs": {
        "height": 0.8,
        "width": 0.8,
        "x": 0.1,
        "y": 0.1
       },
       "content": {
        "cell": "1eceaf78-c468-4db5-81d2-cc1b5d72856f",
        "part": "whole"
       },
       "id": "979a6c47-fdc5-4610-82fc-47b4b8650992"
      }
     }
    }
   },
   "themes": {}
  }
 },
 "nbformat": 4,
 "nbformat_minor": 2
}
